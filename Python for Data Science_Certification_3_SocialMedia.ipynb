{
 "cells": [
  {
   "cell_type": "markdown",
   "metadata": {},
   "source": [
    "# Domain –Social Media\n",
    "FOCUS –PREDICT NO.OF SHARES OF AN ARTICLE"
   ]
  },
  {
   "cell_type": "code",
   "execution_count": 2,
   "metadata": {},
   "outputs": [],
   "source": [
    "import pandas as pd\n",
    "import numpy as np"
   ]
  },
  {
   "cell_type": "code",
   "execution_count": 6,
   "metadata": {},
   "outputs": [],
   "source": [
    "import os\n",
    "os.chdir(r'C:\\Users\\je638474\\Documents\\JJ\\Folders\\Udemy\\Python EDUREKA')\n",
    "dataset = pd.read_csv('OnlineNewsPopularity.csv')"
   ]
  },
  {
   "cell_type": "code",
   "execution_count": 7,
   "metadata": {},
   "outputs": [
    {
     "data": {
      "text/plain": [
       "url                             0\n",
       "timedelta                       0\n",
       "n_tokens_title                  0\n",
       "n_tokens_content                0\n",
       "n_unique_tokens                 0\n",
       "                               ..\n",
       "title_subjectivity              0\n",
       "title_sentiment_polarity        0\n",
       "abs_title_subjectivity          0\n",
       "abs_title_sentiment_polarity    0\n",
       "shares                          0\n",
       "Length: 61, dtype: int64"
      ]
     },
     "execution_count": 7,
     "metadata": {},
     "output_type": "execute_result"
    }
   ],
   "source": [
    "#Check for Nulls\n",
    "dataset.isnull().sum()"
   ]
  },
  {
   "cell_type": "code",
   "execution_count": 8,
   "metadata": {},
   "outputs": [],
   "source": [
    "#number of shares\n",
    "y = dataset.iloc[:,60].values"
   ]
  },
  {
   "cell_type": "code",
   "execution_count": 9,
   "metadata": {},
   "outputs": [],
   "source": [
    "\n",
    "x = dataset.iloc[:,1:60].values"
   ]
  },
  {
   "cell_type": "code",
   "execution_count": 10,
   "metadata": {},
   "outputs": [],
   "source": [
    "from sklearn.preprocessing import StandardScaler\n",
    "sc = StandardScaler()\n",
    "x = sc.fit_transform(x)"
   ]
  },
  {
   "cell_type": "code",
   "execution_count": 11,
   "metadata": {},
   "outputs": [],
   "source": [
    "#Train test split \n",
    "from sklearn.model_selection import train_test_split\n",
    "x_train, x_test, y_train, y_test = train_test_split(x,y, test_size=0.2)"
   ]
  },
  {
   "cell_type": "code",
   "execution_count": 22,
   "metadata": {},
   "outputs": [
    {
     "data": {
      "text/html": [
       "<table class=\"simpletable\">\n",
       "<caption>OLS Regression Results</caption>\n",
       "<tr>\n",
       "  <th>Dep. Variable:</th>            <td>y</td>        <th>  R-squared (uncentered):</th>       <td>   0.021</td>  \n",
       "</tr>\n",
       "<tr>\n",
       "  <th>Model:</th>                   <td>OLS</td>       <th>  Adj. R-squared (uncentered):</th>  <td>   0.019</td>  \n",
       "</tr>\n",
       "<tr>\n",
       "  <th>Method:</th>             <td>Least Squares</td>  <th>  F-statistic:       </th>           <td>   11.70</td>  \n",
       "</tr>\n",
       "<tr>\n",
       "  <th>Date:</th>             <td>Fri, 11 Sep 2020</td> <th>  Prob (F-statistic):</th>           <td>1.20e-103</td> \n",
       "</tr>\n",
       "<tr>\n",
       "  <th>Time:</th>                 <td>18:06:04</td>     <th>  Log-Likelihood:    </th>          <td>-3.4420e+05</td>\n",
       "</tr>\n",
       "<tr>\n",
       "  <th>No. Observations:</th>      <td> 31715</td>      <th>  AIC:               </th>           <td>6.885e+05</td> \n",
       "</tr>\n",
       "<tr>\n",
       "  <th>Df Residuals:</th>          <td> 31658</td>      <th>  BIC:               </th>           <td>6.890e+05</td> \n",
       "</tr>\n",
       "<tr>\n",
       "  <th>Df Model:</th>              <td>    57</td>      <th>                     </th>               <td> </td>     \n",
       "</tr>\n",
       "<tr>\n",
       "  <th>Covariance Type:</th>      <td>nonrobust</td>    <th>                     </th>               <td> </td>     \n",
       "</tr>\n",
       "</table>\n",
       "<table class=\"simpletable\">\n",
       "<tr>\n",
       "   <td></td>      <th>coef</th>     <th>std err</th>      <th>t</th>      <th>P>|t|</th>  <th>[0.025</th>    <th>0.975]</th>  \n",
       "</tr>\n",
       "<tr>\n",
       "  <th>x1</th>  <td>  403.7142</td> <td>  102.423</td> <td>    3.942</td> <td> 0.000</td> <td>  202.960</td> <td>  604.468</td>\n",
       "</tr>\n",
       "<tr>\n",
       "  <th>x2</th>  <td>  273.2057</td> <td>   74.839</td> <td>    3.651</td> <td> 0.000</td> <td>  126.518</td> <td>  419.893</td>\n",
       "</tr>\n",
       "<tr>\n",
       "  <th>x3</th>  <td>  298.5426</td> <td>  127.460</td> <td>    2.342</td> <td> 0.019</td> <td>   48.716</td> <td>  548.369</td>\n",
       "</tr>\n",
       "<tr>\n",
       "  <th>x4</th>  <td>  1.18e+04</td> <td> 8241.704</td> <td>    1.431</td> <td> 0.152</td> <td>-4357.481</td> <td>  2.8e+04</td>\n",
       "</tr>\n",
       "<tr>\n",
       "  <th>x5</th>  <td>-1379.5613</td> <td> 3.39e+04</td> <td>   -0.041</td> <td> 0.968</td> <td>-6.78e+04</td> <td>  6.5e+04</td>\n",
       "</tr>\n",
       "<tr>\n",
       "  <th>x6</th>  <td>-4832.6790</td> <td> 6484.141</td> <td>   -0.745</td> <td> 0.456</td> <td>-1.75e+04</td> <td> 7876.489</td>\n",
       "</tr>\n",
       "<tr>\n",
       "  <th>x7</th>  <td>  318.2012</td> <td>   91.817</td> <td>    3.466</td> <td> 0.001</td> <td>  138.237</td> <td>  498.166</td>\n",
       "</tr>\n",
       "<tr>\n",
       "  <th>x8</th>  <td> -293.2165</td> <td>   84.138</td> <td>   -3.485</td> <td> 0.000</td> <td> -458.130</td> <td> -128.303</td>\n",
       "</tr>\n",
       "<tr>\n",
       "  <th>x9</th>  <td>  125.4642</td> <td>   90.213</td> <td>    1.391</td> <td> 0.164</td> <td>  -51.357</td> <td>  302.286</td>\n",
       "</tr>\n",
       "<tr>\n",
       "  <th>x10</th> <td>    1.1295</td> <td>   77.960</td> <td>    0.014</td> <td> 0.988</td> <td> -151.675</td> <td>  153.934</td>\n",
       "</tr>\n",
       "<tr>\n",
       "  <th>x11</th> <td> -512.2270</td> <td>  249.159</td> <td>   -2.056</td> <td> 0.040</td> <td>-1000.588</td> <td>  -23.866</td>\n",
       "</tr>\n",
       "<tr>\n",
       "  <th>x12</th> <td>  179.3088</td> <td>   86.658</td> <td>    2.069</td> <td> 0.039</td> <td>    9.455</td> <td>  349.162</td>\n",
       "</tr>\n",
       "<tr>\n",
       "  <th>x13</th> <td> -230.3047</td> <td>  107.936</td> <td>   -2.134</td> <td> 0.033</td> <td> -441.863</td> <td>  -18.746</td>\n",
       "</tr>\n",
       "<tr>\n",
       "  <th>x14</th> <td> -446.7815</td> <td>  119.231</td> <td>   -3.747</td> <td> 0.000</td> <td> -680.478</td> <td> -213.085</td>\n",
       "</tr>\n",
       "<tr>\n",
       "  <th>x15</th> <td> -330.2784</td> <td>  169.723</td> <td>   -1.946</td> <td> 0.052</td> <td> -662.942</td> <td>    2.385</td>\n",
       "</tr>\n",
       "<tr>\n",
       "  <th>x16</th> <td> -114.0259</td> <td>  106.179</td> <td>   -1.074</td> <td> 0.283</td> <td> -322.141</td> <td>   94.089</td>\n",
       "</tr>\n",
       "<tr>\n",
       "  <th>x17</th> <td> -143.6370</td> <td>  175.602</td> <td>   -0.818</td> <td> 0.413</td> <td> -487.824</td> <td>  200.549</td>\n",
       "</tr>\n",
       "<tr>\n",
       "  <th>x18</th> <td> -118.8308</td> <td>  187.763</td> <td>   -0.633</td> <td> 0.527</td> <td> -486.854</td> <td>  249.193</td>\n",
       "</tr>\n",
       "<tr>\n",
       "  <th>x19</th> <td>   64.5416</td> <td>  138.659</td> <td>    0.465</td> <td> 0.642</td> <td> -207.235</td> <td>  336.318</td>\n",
       "</tr>\n",
       "<tr>\n",
       "  <th>x20</th> <td>  373.9304</td> <td>  230.367</td> <td>    1.623</td> <td> 0.105</td> <td>  -77.598</td> <td>  825.458</td>\n",
       "</tr>\n",
       "<tr>\n",
       "  <th>x21</th> <td> -395.8243</td> <td>  220.498</td> <td>   -1.795</td> <td> 0.073</td> <td> -828.009</td> <td>   36.361</td>\n",
       "</tr>\n",
       "<tr>\n",
       "  <th>x22</th> <td> -149.7546</td> <td>   82.231</td> <td>   -1.821</td> <td> 0.069</td> <td> -310.930</td> <td>   11.421</td>\n",
       "</tr>\n",
       "<tr>\n",
       "  <th>x23</th> <td>  -22.6429</td> <td>  154.459</td> <td>   -0.147</td> <td> 0.883</td> <td> -325.389</td> <td>  280.103</td>\n",
       "</tr>\n",
       "<tr>\n",
       "  <th>x24</th> <td>   80.1641</td> <td>  139.003</td> <td>    0.577</td> <td> 0.564</td> <td> -192.288</td> <td>  352.616</td>\n",
       "</tr>\n",
       "<tr>\n",
       "  <th>x25</th> <td> -437.6238</td> <td>  104.448</td> <td>   -4.190</td> <td> 0.000</td> <td> -642.346</td> <td> -232.902</td>\n",
       "</tr>\n",
       "<tr>\n",
       "  <th>x26</th> <td>-1368.9108</td> <td>  188.160</td> <td>   -7.275</td> <td> 0.000</td> <td>-1737.711</td> <td>-1000.110</td>\n",
       "</tr>\n",
       "<tr>\n",
       "  <th>x27</th> <td> 2189.8879</td> <td>  229.054</td> <td>    9.561</td> <td> 0.000</td> <td> 1740.933</td> <td> 2638.843</td>\n",
       "</tr>\n",
       "<tr>\n",
       "  <th>x28</th> <td>  549.8374</td> <td>  173.633</td> <td>    3.167</td> <td> 0.002</td> <td>  209.511</td> <td>  890.164</td>\n",
       "</tr>\n",
       "<tr>\n",
       "  <th>x29</th> <td>  265.2060</td> <td>  191.579</td> <td>    1.384</td> <td> 0.166</td> <td> -110.296</td> <td>  640.708</td>\n",
       "</tr>\n",
       "<tr>\n",
       "  <th>x30</th> <td> -128.4596</td> <td>  289.799</td> <td>   -0.443</td> <td> 0.658</td> <td> -696.477</td> <td>  439.557</td>\n",
       "</tr>\n",
       "<tr>\n",
       "  <th>x31</th> <td>  157.4750</td> <td>   57.926</td> <td>    2.719</td> <td> 0.007</td> <td>   43.938</td> <td>  271.012</td>\n",
       "</tr>\n",
       "<tr>\n",
       "  <th>x32</th> <td>  -74.0786</td> <td>   56.766</td> <td>   -1.305</td> <td> 0.192</td> <td> -185.341</td> <td>   37.184</td>\n",
       "</tr>\n",
       "<tr>\n",
       "  <th>x33</th> <td>  -11.8450</td> <td>   56.862</td> <td>   -0.208</td> <td> 0.835</td> <td> -123.298</td> <td>   99.608</td>\n",
       "</tr>\n",
       "<tr>\n",
       "  <th>x34</th> <td>  -84.0599</td> <td>   56.959</td> <td>   -1.476</td> <td> 0.140</td> <td> -195.702</td> <td>   27.582</td>\n",
       "</tr>\n",
       "<tr>\n",
       "  <th>x35</th> <td>  -33.3315</td> <td>   59.326</td> <td>   -0.562</td> <td> 0.574</td> <td> -149.613</td> <td>   82.950</td>\n",
       "</tr>\n",
       "<tr>\n",
       "  <th>x36</th> <td>   90.1129</td> <td>   54.231</td> <td>    1.662</td> <td> 0.097</td> <td>  -16.182</td> <td>  196.408</td>\n",
       "</tr>\n",
       "<tr>\n",
       "  <th>x37</th> <td>  -11.4222</td> <td>   52.414</td> <td>   -0.218</td> <td> 0.827</td> <td> -114.156</td> <td>   91.312</td>\n",
       "</tr>\n",
       "<tr>\n",
       "  <th>x38</th> <td>   55.7803</td> <td>   33.990</td> <td>    1.641</td> <td> 0.101</td> <td>  -10.842</td> <td>  122.403</td>\n",
       "</tr>\n",
       "<tr>\n",
       "  <th>x39</th> <td> 2.908e+05</td> <td> 1.76e+06</td> <td>    0.165</td> <td> 0.869</td> <td>-3.17e+06</td> <td> 3.75e+06</td>\n",
       "</tr>\n",
       "<tr>\n",
       "  <th>x40</th> <td> 2.427e+05</td> <td> 1.47e+06</td> <td>    0.165</td> <td> 0.869</td> <td>-2.65e+06</td> <td> 3.13e+06</td>\n",
       "</tr>\n",
       "<tr>\n",
       "  <th>x41</th> <td> 3.115e+05</td> <td> 1.89e+06</td> <td>    0.165</td> <td> 0.869</td> <td> -3.4e+06</td> <td> 4.02e+06</td>\n",
       "</tr>\n",
       "<tr>\n",
       "  <th>x42</th> <td> 3.262e+05</td> <td> 1.98e+06</td> <td>    0.165</td> <td> 0.869</td> <td>-3.56e+06</td> <td> 4.21e+06</td>\n",
       "</tr>\n",
       "<tr>\n",
       "  <th>x43</th> <td> 3.195e+05</td> <td> 1.94e+06</td> <td>    0.165</td> <td> 0.869</td> <td>-3.48e+06</td> <td> 4.12e+06</td>\n",
       "</tr>\n",
       "<tr>\n",
       "  <th>x44</th> <td>  302.8441</td> <td>  121.339</td> <td>    2.496</td> <td> 0.013</td> <td>   65.016</td> <td>  540.673</td>\n",
       "</tr>\n",
       "<tr>\n",
       "  <th>x45</th> <td>  -16.8301</td> <td>  197.562</td> <td>   -0.085</td> <td> 0.932</td> <td> -404.059</td> <td>  370.399</td>\n",
       "</tr>\n",
       "<tr>\n",
       "  <th>x46</th> <td> -234.8310</td> <td>  152.599</td> <td>   -1.539</td> <td> 0.124</td> <td> -533.932</td> <td>   64.270</td>\n",
       "</tr>\n",
       "<tr>\n",
       "  <th>x47</th> <td> -107.3507</td> <td>  180.479</td> <td>   -0.595</td> <td> 0.552</td> <td> -461.097</td> <td>  246.395</td>\n",
       "</tr>\n",
       "<tr>\n",
       "  <th>x48</th> <td>  213.3031</td> <td> 1197.221</td> <td>    0.178</td> <td> 0.859</td> <td>-2133.296</td> <td> 2559.902</td>\n",
       "</tr>\n",
       "<tr>\n",
       "  <th>x49</th> <td>  258.3645</td> <td>  992.614</td> <td>    0.260</td> <td> 0.795</td> <td>-1687.197</td> <td> 2203.926</td>\n",
       "</tr>\n",
       "<tr>\n",
       "  <th>x50</th> <td> -118.3457</td> <td>  173.902</td> <td>   -0.681</td> <td> 0.496</td> <td> -459.200</td> <td>  222.508</td>\n",
       "</tr>\n",
       "<tr>\n",
       "  <th>x51</th> <td> -149.4087</td> <td>   98.949</td> <td>   -1.510</td> <td> 0.131</td> <td> -343.353</td> <td>   44.536</td>\n",
       "</tr>\n",
       "<tr>\n",
       "  <th>x52</th> <td>   93.8579</td> <td>  130.120</td> <td>    0.721</td> <td> 0.471</td> <td> -161.182</td> <td>  348.897</td>\n",
       "</tr>\n",
       "<tr>\n",
       "  <th>x53</th> <td> -276.3867</td> <td>  196.079</td> <td>   -1.410</td> <td> 0.159</td> <td> -660.709</td> <td>  107.936</td>\n",
       "</tr>\n",
       "<tr>\n",
       "  <th>x54</th> <td>   43.2135</td> <td>  161.811</td> <td>    0.267</td> <td> 0.789</td> <td> -273.942</td> <td>  360.369</td>\n",
       "</tr>\n",
       "<tr>\n",
       "  <th>x55</th> <td>    0.6241</td> <td>  121.890</td> <td>    0.005</td> <td> 0.996</td> <td> -238.285</td> <td>  239.533</td>\n",
       "</tr>\n",
       "<tr>\n",
       "  <th>x56</th> <td>  -46.3564</td> <td>  108.034</td> <td>   -0.429</td> <td> 0.668</td> <td> -258.106</td> <td>  165.394</td>\n",
       "</tr>\n",
       "<tr>\n",
       "  <th>x57</th> <td>   91.4049</td> <td>   81.190</td> <td>    1.126</td> <td> 0.260</td> <td>  -67.730</td> <td>  250.540</td>\n",
       "</tr>\n",
       "<tr>\n",
       "  <th>x58</th> <td>  103.0749</td> <td>   83.409</td> <td>    1.236</td> <td> 0.217</td> <td>  -60.410</td> <td>  266.560</td>\n",
       "</tr>\n",
       "<tr>\n",
       "  <th>x59</th> <td>  150.0996</td> <td>  109.202</td> <td>    1.375</td> <td> 0.169</td> <td>  -63.941</td> <td>  364.140</td>\n",
       "</tr>\n",
       "</table>\n",
       "<table class=\"simpletable\">\n",
       "<tr>\n",
       "  <th>Omnibus:</th>       <td>88246.349</td> <th>  Durbin-Watson:     </th>    <td>   1.851</td>   \n",
       "</tr>\n",
       "<tr>\n",
       "  <th>Prob(Omnibus):</th>  <td> 0.000</td>   <th>  Jarque-Bera (JB):  </th> <td>4914411780.237</td>\n",
       "</tr>\n",
       "<tr>\n",
       "  <th>Skew:</th>           <td>35.829</td>   <th>  Prob(JB):          </th>    <td>    0.00</td>   \n",
       "</tr>\n",
       "<tr>\n",
       "  <th>Kurtosis:</th>      <td>1930.121</td>  <th>  Cond. No.          </th>    <td>1.06e+16</td>   \n",
       "</tr>\n",
       "</table><br/><br/>Warnings:<br/>[1] Standard Errors assume that the covariance matrix of the errors is correctly specified.<br/>[2] The smallest eigenvalue is 1.38e-27. This might indicate that there are<br/>strong multicollinearity problems or that the design matrix is singular."
      ],
      "text/plain": [
       "<class 'statsmodels.iolib.summary.Summary'>\n",
       "\"\"\"\n",
       "                                 OLS Regression Results                                \n",
       "=======================================================================================\n",
       "Dep. Variable:                      y   R-squared (uncentered):                   0.021\n",
       "Model:                            OLS   Adj. R-squared (uncentered):              0.019\n",
       "Method:                 Least Squares   F-statistic:                              11.70\n",
       "Date:                Fri, 11 Sep 2020   Prob (F-statistic):                   1.20e-103\n",
       "Time:                        18:06:04   Log-Likelihood:                     -3.4420e+05\n",
       "No. Observations:               31715   AIC:                                  6.885e+05\n",
       "Df Residuals:                   31658   BIC:                                  6.890e+05\n",
       "Df Model:                          57                                                  \n",
       "Covariance Type:            nonrobust                                                  \n",
       "==============================================================================\n",
       "                 coef    std err          t      P>|t|      [0.025      0.975]\n",
       "------------------------------------------------------------------------------\n",
       "x1           403.7142    102.423      3.942      0.000     202.960     604.468\n",
       "x2           273.2057     74.839      3.651      0.000     126.518     419.893\n",
       "x3           298.5426    127.460      2.342      0.019      48.716     548.369\n",
       "x4           1.18e+04   8241.704      1.431      0.152   -4357.481     2.8e+04\n",
       "x5         -1379.5613   3.39e+04     -0.041      0.968   -6.78e+04     6.5e+04\n",
       "x6         -4832.6790   6484.141     -0.745      0.456   -1.75e+04    7876.489\n",
       "x7           318.2012     91.817      3.466      0.001     138.237     498.166\n",
       "x8          -293.2165     84.138     -3.485      0.000    -458.130    -128.303\n",
       "x9           125.4642     90.213      1.391      0.164     -51.357     302.286\n",
       "x10            1.1295     77.960      0.014      0.988    -151.675     153.934\n",
       "x11         -512.2270    249.159     -2.056      0.040   -1000.588     -23.866\n",
       "x12          179.3088     86.658      2.069      0.039       9.455     349.162\n",
       "x13         -230.3047    107.936     -2.134      0.033    -441.863     -18.746\n",
       "x14         -446.7815    119.231     -3.747      0.000    -680.478    -213.085\n",
       "x15         -330.2784    169.723     -1.946      0.052    -662.942       2.385\n",
       "x16         -114.0259    106.179     -1.074      0.283    -322.141      94.089\n",
       "x17         -143.6370    175.602     -0.818      0.413    -487.824     200.549\n",
       "x18         -118.8308    187.763     -0.633      0.527    -486.854     249.193\n",
       "x19           64.5416    138.659      0.465      0.642    -207.235     336.318\n",
       "x20          373.9304    230.367      1.623      0.105     -77.598     825.458\n",
       "x21         -395.8243    220.498     -1.795      0.073    -828.009      36.361\n",
       "x22         -149.7546     82.231     -1.821      0.069    -310.930      11.421\n",
       "x23          -22.6429    154.459     -0.147      0.883    -325.389     280.103\n",
       "x24           80.1641    139.003      0.577      0.564    -192.288     352.616\n",
       "x25         -437.6238    104.448     -4.190      0.000    -642.346    -232.902\n",
       "x26        -1368.9108    188.160     -7.275      0.000   -1737.711   -1000.110\n",
       "x27         2189.8879    229.054      9.561      0.000    1740.933    2638.843\n",
       "x28          549.8374    173.633      3.167      0.002     209.511     890.164\n",
       "x29          265.2060    191.579      1.384      0.166    -110.296     640.708\n",
       "x30         -128.4596    289.799     -0.443      0.658    -696.477     439.557\n",
       "x31          157.4750     57.926      2.719      0.007      43.938     271.012\n",
       "x32          -74.0786     56.766     -1.305      0.192    -185.341      37.184\n",
       "x33          -11.8450     56.862     -0.208      0.835    -123.298      99.608\n",
       "x34          -84.0599     56.959     -1.476      0.140    -195.702      27.582\n",
       "x35          -33.3315     59.326     -0.562      0.574    -149.613      82.950\n",
       "x36           90.1129     54.231      1.662      0.097     -16.182     196.408\n",
       "x37          -11.4222     52.414     -0.218      0.827    -114.156      91.312\n",
       "x38           55.7803     33.990      1.641      0.101     -10.842     122.403\n",
       "x39         2.908e+05   1.76e+06      0.165      0.869   -3.17e+06    3.75e+06\n",
       "x40         2.427e+05   1.47e+06      0.165      0.869   -2.65e+06    3.13e+06\n",
       "x41         3.115e+05   1.89e+06      0.165      0.869    -3.4e+06    4.02e+06\n",
       "x42         3.262e+05   1.98e+06      0.165      0.869   -3.56e+06    4.21e+06\n",
       "x43         3.195e+05   1.94e+06      0.165      0.869   -3.48e+06    4.12e+06\n",
       "x44          302.8441    121.339      2.496      0.013      65.016     540.673\n",
       "x45          -16.8301    197.562     -0.085      0.932    -404.059     370.399\n",
       "x46         -234.8310    152.599     -1.539      0.124    -533.932      64.270\n",
       "x47         -107.3507    180.479     -0.595      0.552    -461.097     246.395\n",
       "x48          213.3031   1197.221      0.178      0.859   -2133.296    2559.902\n",
       "x49          258.3645    992.614      0.260      0.795   -1687.197    2203.926\n",
       "x50         -118.3457    173.902     -0.681      0.496    -459.200     222.508\n",
       "x51         -149.4087     98.949     -1.510      0.131    -343.353      44.536\n",
       "x52           93.8579    130.120      0.721      0.471    -161.182     348.897\n",
       "x53         -276.3867    196.079     -1.410      0.159    -660.709     107.936\n",
       "x54           43.2135    161.811      0.267      0.789    -273.942     360.369\n",
       "x55            0.6241    121.890      0.005      0.996    -238.285     239.533\n",
       "x56          -46.3564    108.034     -0.429      0.668    -258.106     165.394\n",
       "x57           91.4049     81.190      1.126      0.260     -67.730     250.540\n",
       "x58          103.0749     83.409      1.236      0.217     -60.410     266.560\n",
       "x59          150.0996    109.202      1.375      0.169     -63.941     364.140\n",
       "==============================================================================\n",
       "Omnibus:                    88246.349   Durbin-Watson:                   1.851\n",
       "Prob(Omnibus):                  0.000   Jarque-Bera (JB):       4914411780.237\n",
       "Skew:                          35.829   Prob(JB):                         0.00\n",
       "Kurtosis:                    1930.121   Cond. No.                     1.06e+16\n",
       "==============================================================================\n",
       "\n",
       "Warnings:\n",
       "[1] Standard Errors assume that the covariance matrix of the errors is correctly specified.\n",
       "[2] The smallest eigenvalue is 1.38e-27. This might indicate that there are\n",
       "strong multicollinearity problems or that the design matrix is singular.\n",
       "\"\"\""
      ]
     },
     "execution_count": 22,
     "metadata": {},
     "output_type": "execute_result"
    }
   ],
   "source": [
    "#use stat to see and delete x-vars that have |p|>t<0.05\n",
    "import numpy as np\n",
    "import statsmodels.api as sm\n",
    "lm2 = sm.OLS(y_train,x_train).fit()\n",
    "lm2.summary()"
   ]
  },
  {
   "cell_type": "code",
   "execution_count": 23,
   "metadata": {},
   "outputs": [],
   "source": [
    "# new x valuesfrom sklearn.model_selection import train_test_split\n",
    "x_train, x_test, y_train, y_test = train_test_split(x,y, test_size=0.2)\n",
    "x = dataset.iloc[:,[1,2,3,7,8,11,14,20,25,26,27,28,29]]"
   ]
  },
  {
   "cell_type": "code",
   "execution_count": 24,
   "metadata": {},
   "outputs": [],
   "source": [
    "from sklearn.model_selection import train_test_split\n",
    "x_train, x_test, y_train, y_test = train_test_split(x,y, test_size=0.2)"
   ]
  },
  {
   "cell_type": "code",
   "execution_count": 25,
   "metadata": {},
   "outputs": [],
   "source": [
    "# Linear Reg\n",
    "from sklearn.linear_model import LinearRegression\n",
    "lm = LinearRegression()\n",
    "lm = lm.fit(x_train,y_train)   #lm.fit(input,output)"
   ]
  },
  {
   "cell_type": "code",
   "execution_count": 26,
   "metadata": {},
   "outputs": [],
   "source": [
    "#predict \n",
    "y_pred = lm.predict(x_test)"
   ]
  },
  {
   "cell_type": "code",
   "execution_count": 27,
   "metadata": {},
   "outputs": [
    {
     "data": {
      "text/plain": [
       "0.01655796385198216"
      ]
     },
     "execution_count": 27,
     "metadata": {},
     "output_type": "execute_result"
    }
   ],
   "source": [
    "from sklearn.metrics import r2_score\n",
    "r2_score(y_test,y_pred)"
   ]
  },
  {
   "cell_type": "code",
   "execution_count": 29,
   "metadata": {},
   "outputs": [],
   "source": [
    "#This is the best r^2 score I got. You can use lm.predict to predict values"
   ]
  },
  {
   "cell_type": "markdown",
   "metadata": {},
   "source": [
    "# End of Case Study"
   ]
  },
  {
   "cell_type": "code",
   "execution_count": null,
   "metadata": {},
   "outputs": [],
   "source": []
  },
  {
   "cell_type": "code",
   "execution_count": null,
   "metadata": {},
   "outputs": [],
   "source": []
  },
  {
   "cell_type": "code",
   "execution_count": null,
   "metadata": {},
   "outputs": [],
   "source": []
  },
  {
   "cell_type": "code",
   "execution_count": null,
   "metadata": {},
   "outputs": [],
   "source": []
  },
  {
   "cell_type": "code",
   "execution_count": null,
   "metadata": {},
   "outputs": [],
   "source": []
  },
  {
   "cell_type": "code",
   "execution_count": null,
   "metadata": {},
   "outputs": [],
   "source": []
  },
  {
   "cell_type": "code",
   "execution_count": null,
   "metadata": {},
   "outputs": [],
   "source": []
  },
  {
   "cell_type": "code",
   "execution_count": null,
   "metadata": {},
   "outputs": [],
   "source": []
  },
  {
   "cell_type": "code",
   "execution_count": null,
   "metadata": {},
   "outputs": [],
   "source": []
  },
  {
   "cell_type": "code",
   "execution_count": null,
   "metadata": {},
   "outputs": [],
   "source": []
  },
  {
   "cell_type": "code",
   "execution_count": null,
   "metadata": {},
   "outputs": [],
   "source": []
  },
  {
   "cell_type": "code",
   "execution_count": null,
   "metadata": {},
   "outputs": [],
   "source": []
  },
  {
   "cell_type": "code",
   "execution_count": null,
   "metadata": {},
   "outputs": [],
   "source": []
  },
  {
   "cell_type": "code",
   "execution_count": null,
   "metadata": {},
   "outputs": [],
   "source": []
  },
  {
   "cell_type": "code",
   "execution_count": null,
   "metadata": {},
   "outputs": [],
   "source": []
  },
  {
   "cell_type": "code",
   "execution_count": null,
   "metadata": {},
   "outputs": [],
   "source": []
  },
  {
   "cell_type": "code",
   "execution_count": null,
   "metadata": {},
   "outputs": [],
   "source": []
  },
  {
   "cell_type": "code",
   "execution_count": null,
   "metadata": {},
   "outputs": [],
   "source": []
  },
  {
   "cell_type": "code",
   "execution_count": null,
   "metadata": {},
   "outputs": [],
   "source": []
  },
  {
   "cell_type": "code",
   "execution_count": null,
   "metadata": {},
   "outputs": [],
   "source": []
  },
  {
   "cell_type": "code",
   "execution_count": null,
   "metadata": {},
   "outputs": [],
   "source": []
  },
  {
   "cell_type": "code",
   "execution_count": null,
   "metadata": {},
   "outputs": [],
   "source": []
  },
  {
   "cell_type": "code",
   "execution_count": null,
   "metadata": {},
   "outputs": [],
   "source": []
  },
  {
   "cell_type": "code",
   "execution_count": null,
   "metadata": {},
   "outputs": [],
   "source": []
  },
  {
   "cell_type": "code",
   "execution_count": null,
   "metadata": {},
   "outputs": [],
   "source": []
  },
  {
   "cell_type": "code",
   "execution_count": null,
   "metadata": {},
   "outputs": [],
   "source": []
  },
  {
   "cell_type": "code",
   "execution_count": null,
   "metadata": {},
   "outputs": [],
   "source": []
  },
  {
   "cell_type": "code",
   "execution_count": null,
   "metadata": {},
   "outputs": [],
   "source": []
  },
  {
   "cell_type": "code",
   "execution_count": null,
   "metadata": {},
   "outputs": [],
   "source": []
  },
  {
   "cell_type": "code",
   "execution_count": null,
   "metadata": {},
   "outputs": [],
   "source": []
  },
  {
   "cell_type": "code",
   "execution_count": null,
   "metadata": {},
   "outputs": [],
   "source": []
  },
  {
   "cell_type": "code",
   "execution_count": null,
   "metadata": {},
   "outputs": [],
   "source": []
  },
  {
   "cell_type": "code",
   "execution_count": null,
   "metadata": {},
   "outputs": [],
   "source": []
  },
  {
   "cell_type": "code",
   "execution_count": null,
   "metadata": {},
   "outputs": [],
   "source": []
  },
  {
   "cell_type": "code",
   "execution_count": null,
   "metadata": {},
   "outputs": [],
   "source": []
  },
  {
   "cell_type": "code",
   "execution_count": null,
   "metadata": {},
   "outputs": [],
   "source": []
  },
  {
   "cell_type": "code",
   "execution_count": null,
   "metadata": {},
   "outputs": [],
   "source": []
  },
  {
   "cell_type": "code",
   "execution_count": null,
   "metadata": {},
   "outputs": [],
   "source": []
  },
  {
   "cell_type": "code",
   "execution_count": null,
   "metadata": {},
   "outputs": [],
   "source": []
  },
  {
   "cell_type": "code",
   "execution_count": null,
   "metadata": {},
   "outputs": [],
   "source": []
  },
  {
   "cell_type": "code",
   "execution_count": null,
   "metadata": {},
   "outputs": [],
   "source": []
  },
  {
   "cell_type": "code",
   "execution_count": null,
   "metadata": {},
   "outputs": [],
   "source": []
  },
  {
   "cell_type": "code",
   "execution_count": null,
   "metadata": {},
   "outputs": [],
   "source": []
  },
  {
   "cell_type": "code",
   "execution_count": null,
   "metadata": {},
   "outputs": [],
   "source": []
  },
  {
   "cell_type": "code",
   "execution_count": null,
   "metadata": {},
   "outputs": [],
   "source": []
  },
  {
   "cell_type": "code",
   "execution_count": null,
   "metadata": {},
   "outputs": [],
   "source": []
  },
  {
   "cell_type": "code",
   "execution_count": null,
   "metadata": {},
   "outputs": [],
   "source": []
  }
 ],
 "metadata": {
  "kernelspec": {
   "display_name": "Python 3",
   "language": "python",
   "name": "python3"
  },
  "language_info": {
   "codemirror_mode": {
    "name": "ipython",
    "version": 3
   },
   "file_extension": ".py",
   "mimetype": "text/x-python",
   "name": "python",
   "nbconvert_exporter": "python",
   "pygments_lexer": "ipython3",
   "version": "3.7.6"
  }
 },
 "nbformat": 4,
 "nbformat_minor": 4
}
