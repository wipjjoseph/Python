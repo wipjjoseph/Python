{
 "cells": [
  {
   "cell_type": "code",
   "execution_count": null,
   "metadata": {},
   "outputs": [],
   "source": [
    "#11th and 12th\n",
    "#File Handling\n",
    "#Exceptional Handling\n",
    "#OOPs"
   ]
  },
  {
   "cell_type": "code",
   "execution_count": null,
   "metadata": {},
   "outputs": [],
   "source": [
    "#18th and 19th\n",
    "#Numpy\n",
    "#pandas\n",
    "#Matplotlib\n",
    "#Seaborn\n",
    "#Exploratory Data Analysis"
   ]
  },
  {
   "cell_type": "code",
   "execution_count": null,
   "metadata": {},
   "outputs": [],
   "source": [
    "#25th and 26th \n",
    "#Stattistics\n",
    "#Regression\n"
   ]
  },
  {
   "cell_type": "code",
   "execution_count": null,
   "metadata": {},
   "outputs": [],
   "source": [
    "#1st and 2nd\n",
    "#classificationi\n",
    "#clustering\n",
    "#association\n",
    "#recommendation engine"
   ]
  },
  {
   "cell_type": "code",
   "execution_count": null,
   "metadata": {},
   "outputs": [],
   "source": [
    "#8th and9th\n",
    "#Dimensionality reduction\n",
    "#XGBoost\n",
    "#Kfold\n",
    "#Grid\n",
    "#Time Series"
   ]
  },
  {
   "cell_type": "code",
   "execution_count": null,
   "metadata": {},
   "outputs": [],
   "source": [
    "#15th\n",
    "#Model Deployment\n",
    "#unbalanced data\n",
    "#reinforcement learning"
   ]
  },
  {
   "cell_type": "code",
   "execution_count": null,
   "metadata": {},
   "outputs": [],
   "source": [
    "#File Handling\n",
    "    #Two Types of Files\n",
    "        #1.Text files - python/jyuptnb\n",
    "        #2. binary file - image/video\n",
    "#To perform any action on any file, we have to:\n",
    "    #open the file, need to mention the purpose of opening this file\n",
    "    #open(filename, mode)\n",
    "    #The allowed modes are:\n",
    "        #Read(r) - default mode\n",
    "        #Write(w) - if data already present, it will overwrite, if file not present - it will create a file\n",
    "        #Append(a) - it will add data, if file not present, it will create\n",
    "        #read and write(r+): reads and write - prev wont be deleted\n",
    "        #write and read(w+):prev data will be deleted\n",
    "        #append and read (a+): it will not overwrite the existing data\n",
    "        #Exclusive creation mode for writing operation(x): if file exists, and you write, it will give me an error(file already exists)\n",
    "            #this file shouldnt exist"
   ]
  },
  {
   "cell_type": "code",
   "execution_count": 7,
   "metadata": {},
   "outputs": [
    {
     "name": "stdout",
     "output_type": "stream",
     "text": [
      "Data written successfully\n"
     ]
    }
   ],
   "source": [
    "#cwd = current working directory\n",
    "#chdir = changge the location of the directory\n",
    "file = open('Edureka.txt','w')\n",
    "file.write('Edureka, we help students to grow technically')\n",
    "file.write('\\nWe are here to provide quality education')\n",
    "file.write('\\nOur headquarters is in Bengaluru, India')\n",
    "print('Data written successfully')\n",
    "file.close()\n"
   ]
  },
  {
   "cell_type": "code",
   "execution_count": 6,
   "metadata": {},
   "outputs": [
    {
     "data": {
      "text/plain": [
       "'C:\\\\Users\\\\je638474\\\\Desktop'"
      ]
     },
     "execution_count": 6,
     "metadata": {},
     "output_type": "execute_result"
    }
   ],
   "source": [
    "import os\n",
    "os.getcwd()\n",
    "os.chdir('C:\\\\Users\\\\je638474\\\\Desktop')\n",
    "os.getcwd()\n"
   ]
  },
  {
   "cell_type": "code",
   "execution_count": 8,
   "metadata": {},
   "outputs": [
    {
     "name": "stdout",
     "output_type": "stream",
     "text": [
      "Data written successfully\n"
     ]
    }
   ],
   "source": [
    "#I want to add one more line in the file coz I forgot to add it earlier\n",
    "file = open('Edureka.txt','a')\n",
    "file.write('\\nWe are expanding across the globe')\n",
    "print('Data written successfully')\n",
    "file.close()\n"
   ]
  },
  {
   "cell_type": "code",
   "execution_count": 10,
   "metadata": {},
   "outputs": [],
   "source": [
    "#how to add multiple lines\n",
    "file = open('Edureka.txt','w')\n",
    "list = ['My name is Jennifer Joseph\\n', 'I am working as a Data Scientist in Google']\n",
    "file.writelines(list)\n",
    "file.close()"
   ]
  },
  {
   "cell_type": "code",
   "execution_count": 11,
   "metadata": {},
   "outputs": [
    {
     "name": "stdout",
     "output_type": "stream",
     "text": [
      "My name is Jennifer Joseph\n",
      "I am working as a Data Scientist in Google\n"
     ]
    }
   ],
   "source": [
    "#How to read a file?\n",
    "file = open('Edureka.txt','r')\n",
    "call = file.read()\n",
    "print(call)\n",
    "file.close()"
   ]
  },
  {
   "cell_type": "code",
   "execution_count": 12,
   "metadata": {},
   "outputs": [
    {
     "name": "stdout",
     "output_type": "stream",
     "text": [
      "My name is Jennifer\n"
     ]
    }
   ],
   "source": [
    "#How to read till Jennifer?\n",
    "file = open('Edureka.txt','r')\n",
    "call = file.read(19)\n",
    "print(call)\n",
    "file.close()"
   ]
  },
  {
   "cell_type": "code",
   "execution_count": 14,
   "metadata": {},
   "outputs": [
    {
     "name": "stdout",
     "output_type": "stream",
     "text": [
      "Enter the file name:Edureka.txt\n",
      "File Exists Edureka.txt\n",
      "The number of lines are:  2\n",
      "The number of words are:  14\n",
      "The number of characters are:  0\n"
     ]
    }
   ],
   "source": [
    "#how to know how many characters we have in a specific file?\n",
    "import os\n",
    "import sys\n",
    "fname = input('Enter the file name:')\n",
    "if os.path.isfile(fname):\n",
    "    print('File Exists', fname)\n",
    "    f = open(fname, 'r')\n",
    "else:\n",
    "    print('File does not Exists', fname)\n",
    "    sys.exit(0)\n",
    "\n",
    "lcount = wcount = ccount = 0\n",
    "for line in f:\n",
    "    lcount = lcount +1\n",
    "    ccount - ccount + len(line)\n",
    "    words = line.split()\n",
    "    wcount = wcount + len(words)\n",
    "print('The number of lines are: ', lcount)\n",
    "print('The number of words are: ', wcount)\n",
    "print('The number of characters are: ', ccount)"
   ]
  },
  {
   "cell_type": "code",
   "execution_count": null,
   "metadata": {},
   "outputs": [],
   "source": [
    "#Pickling and Unpickling of the object\n",
    "#“Pickling” is the process whereby a Python object hierarchy is converted into a byte stream, and “unpickling” is the inverse operation, \n",
    "#whereby a byte stream (from a binary file or bytes-like object) is converted back into an object hierarchy."
   ]
  },
  {
   "cell_type": "code",
   "execution_count": 12,
   "metadata": {},
   "outputs": [
    {
     "name": "stdout",
     "output_type": "stream",
     "text": [
      "100\n",
      "Rahul\n",
      "1234\n"
     ]
    }
   ],
   "source": [
    "import pickle\n",
    "class Employee:\n",
    "    def __init__(self,eno, ename, esal):\n",
    "        self.eno = eno\n",
    "        self.ename = ename\n",
    "        self.esal = esal\n",
    "        \n",
    "    def display(self):\n",
    "        print(self.eno)\n",
    "        print(self.ename)\n",
    "        print(self.esal)\n",
    "        \n",
    "e = Employee(100, 'Rahul', 1234)\n",
    "e.display()"
   ]
  },
  {
   "cell_type": "code",
   "execution_count": 13,
   "metadata": {},
   "outputs": [
    {
     "name": "stdout",
     "output_type": "stream",
     "text": [
      "Pickling of the employee object completed\n"
     ]
    }
   ],
   "source": [
    "with open('emp.dat', 'wb') as file:\n",
    "    e = Employee(110,'Mayur',1322)\n",
    "    pickle.dump(e,file)\n",
    "    print('Pickling of the employee object completed')"
   ]
  },
  {
   "cell_type": "code",
   "execution_count": 14,
   "metadata": {},
   "outputs": [
    {
     "name": "stdout",
     "output_type": "stream",
     "text": [
      "Employee information after pickling\n",
      "110\n",
      "Mayur\n",
      "1322\n"
     ]
    }
   ],
   "source": [
    "with open('emp.dat', 'rb') as file:\n",
    "    obj = pickle.load(file)\n",
    "    print('Employee information after pickling')\n",
    "    obj.display()"
   ]
  },
  {
   "cell_type": "code",
   "execution_count": 15,
   "metadata": {},
   "outputs": [],
   "source": [
    "obj = Employee(111, 'Rajat', 1234)"
   ]
  },
  {
   "cell_type": "code",
   "execution_count": 16,
   "metadata": {},
   "outputs": [
    {
     "name": "stdout",
     "output_type": "stream",
     "text": [
      "111\n",
      "Rajat\n",
      "1234\n"
     ]
    }
   ],
   "source": [
    "obj.display()"
   ]
  },
  {
   "cell_type": "code",
   "execution_count": null,
   "metadata": {},
   "outputs": [],
   "source": [
    "#Exceptional Handling\n",
    "#Python has many built-in exceptions that are raised when your program encounters an error (something in the program goes wrong).\n",
    "#When these exceptions occur, the Python interpreter stops the current process and passes it to the calling process until it is handled. \n",
    "#If not handled, the program will crash.\n",
    "#For example, let us consider a program where we have a function A that calls function B, which in turn calls function C. \n",
    "#If an exception occurs in function C but is not handled in C, the exception passes to B and then to A.\n",
    "#If never handled, an error message is displayed and our program comes to a sudden unexpected halt."
   ]
  },
  {
   "cell_type": "code",
   "execution_count": 17,
   "metadata": {},
   "outputs": [
    {
     "name": "stdout",
     "output_type": "stream",
     "text": [
      "Enter the first number10\n",
      "Enter the second number0\n",
      "None\n"
     ]
    },
    {
     "ename": "ZeroDivisionError",
     "evalue": "division by zero",
     "output_type": "error",
     "traceback": [
      "\u001b[1;31m---------------------------------------------------------------------------\u001b[0m",
      "\u001b[1;31mZeroDivisionError\u001b[0m                         Traceback (most recent call last)",
      "\u001b[1;32m<ipython-input-17-1064c91e4074>\u001b[0m in \u001b[0;36m<module>\u001b[1;34m\u001b[0m\n\u001b[0;32m      3\u001b[0m \u001b[0my\u001b[0m \u001b[1;33m=\u001b[0m \u001b[0mint\u001b[0m\u001b[1;33m(\u001b[0m\u001b[0minput\u001b[0m\u001b[1;33m(\u001b[0m\u001b[1;34m'Enter the second number'\u001b[0m\u001b[1;33m)\u001b[0m\u001b[1;33m)\u001b[0m\u001b[1;33m\u001b[0m\u001b[1;33m\u001b[0m\u001b[0m\n\u001b[0;32m      4\u001b[0m \u001b[0mprint\u001b[0m\u001b[1;33m(\u001b[0m\u001b[0mresult\u001b[0m\u001b[1;33m)\u001b[0m\u001b[1;33m\u001b[0m\u001b[1;33m\u001b[0m\u001b[0m\n\u001b[1;32m----> 5\u001b[1;33m \u001b[0mresult\u001b[0m \u001b[1;33m=\u001b[0m \u001b[0mx\u001b[0m\u001b[1;33m/\u001b[0m\u001b[0my\u001b[0m\u001b[1;33m\u001b[0m\u001b[1;33m\u001b[0m\u001b[0m\n\u001b[0m\u001b[0;32m      6\u001b[0m \u001b[0mprint\u001b[0m\u001b[1;33m(\u001b[0m\u001b[1;34m'Result:'\u001b[0m\u001b[1;33m,\u001b[0m \u001b[0mresult\u001b[0m\u001b[1;33m)\u001b[0m\u001b[1;33m\u001b[0m\u001b[1;33m\u001b[0m\u001b[0m\n",
      "\u001b[1;31mZeroDivisionError\u001b[0m: division by zero"
     ]
    }
   ],
   "source": [
    "result = None\n",
    "x = int(input('Enter the first number'))\n",
    "y = int(input('Enter the second number'))\n",
    "print(result)\n",
    "result = x/y\n",
    "print('Result:', result)"
   ]
  },
  {
   "cell_type": "code",
   "execution_count": 19,
   "metadata": {},
   "outputs": [
    {
     "name": "stdout",
     "output_type": "stream",
     "text": [
      "Enter the first number10\n",
      "Enter the second number0\n",
      "None\n",
      "Error with the code\n",
      "Result: None\n"
     ]
    }
   ],
   "source": [
    "result = None\n",
    "x = int(input('Enter the first number'))\n",
    "y = int(input('Enter the second number'))\n",
    "print(result)\n",
    "try:\n",
    "    result = x/y\n",
    "except:\n",
    "    print('Error with the code')\n",
    "print('Result:', result)"
   ]
  },
  {
   "cell_type": "code",
   "execution_count": 20,
   "metadata": {},
   "outputs": [
    {
     "name": "stdout",
     "output_type": "stream",
     "text": [
      "Enter the first numberA\n",
      "Error with the code\n",
      "Result: None\n"
     ]
    }
   ],
   "source": [
    "result = None\n",
    "try:\n",
    "    x = int(input('Enter the first number'))\n",
    "    y = int(input('Enter the second number'))\n",
    "    print(result)\n",
    "    result = x/y\n",
    "except:\n",
    "    print('Error with the code')\n",
    "print('Result:', result)"
   ]
  },
  {
   "cell_type": "code",
   "execution_count": 26,
   "metadata": {},
   "outputs": [
    {
     "name": "stdout",
     "output_type": "stream",
     "text": [
      "Enter the first numberA\n",
      "invalid literal for int() with base 10: 'A'\n",
      "Result: None\n"
     ]
    }
   ],
   "source": [
    "#To get error descripotion\n",
    "result = None\n",
    "try:\n",
    "    x = int(input('Enter the first number'))\n",
    "    y = int(input('Enter the second number'))\n",
    "    print(result)\n",
    "    result = x/y\n",
    "except Exception as e:\n",
    "    print(e)\n",
    "print('Result:', result)"
   ]
  },
  {
   "cell_type": "code",
   "execution_count": null,
   "metadata": {},
   "outputs": [],
   "source": [
    "#To get error descripotion\n",
    "result = None\n",
    "try:\n",
    "    x = int(input('Enter the first number'))\n",
    "    y = int(input('Enter the second number'))\n",
    "    print(result)\n",
    "    result = x/y\n",
    "except Exception as e:\n",
    "    print(type(e))\n",
    "print('Result:', result)"
   ]
  },
  {
   "cell_type": "code",
   "execution_count": 31,
   "metadata": {},
   "outputs": [
    {
     "name": "stdout",
     "output_type": "stream",
     "text": [
      "Number1:10\n",
      "Number2:2\n",
      "<class 'TypeError'>\n",
      "Result: None\n"
     ]
    }
   ],
   "source": [
    "result = None\n",
    "\n",
    "try:\n",
    "    x = input('Number1:')\n",
    "    y = input('Number2:')\n",
    "    result = x/y\n",
    "except TypeError as e:\n",
    "    print(type(e))\n",
    "except ZeroDivisionError as e:\n",
    "    print(type(e))\n",
    "except ValueError as e:\n",
    "    print(type(e))\n",
    "print('Result:', result)"
   ]
  },
  {
   "cell_type": "code",
   "execution_count": 33,
   "metadata": {},
   "outputs": [
    {
     "name": "stdout",
     "output_type": "stream",
     "text": [
      "Number1:a\n",
      "<class 'ValueError'>\n",
      "Result: None\n"
     ]
    }
   ],
   "source": [
    "result = None\n",
    "\n",
    "try:\n",
    "    x = int(input('Number1:'))\n",
    "    y = int(input('Number2:'))\n",
    "    result = x/y\n",
    "except TypeError as e:\n",
    "    print(type(e))\n",
    "except ZeroDivisionError as e:\n",
    "    print(type(e))\n",
    "except ValueError as e:\n",
    "    print(type(e))\n",
    "print('Result:', result)"
   ]
  },
  {
   "cell_type": "code",
   "execution_count": 34,
   "metadata": {},
   "outputs": [
    {
     "name": "stdout",
     "output_type": "stream",
     "text": [
      "Number1:10\n",
      "Number2:0\n",
      "<class 'TypeError'>\n",
      "Result: None\n"
     ]
    }
   ],
   "source": [
    "result = None\n",
    "\n",
    "try:\n",
    "    x = (input('Number1:'))\n",
    "    y = (input('Number2:'))\n",
    "    result = x/y\n",
    "except Exception as e:\n",
    "    print(type(e))\n",
    "\n",
    "print('Result:', result)"
   ]
  },
  {
   "cell_type": "code",
   "execution_count": 35,
   "metadata": {},
   "outputs": [
    {
     "name": "stdout",
     "output_type": "stream",
     "text": [
      "Number110\n",
      "Number22\n",
      "Inside Else\n",
      "Inside Finally\n",
      "Result: 5.0\n"
     ]
    }
   ],
   "source": [
    "result = None\n",
    "x = int(input('Number1'))\n",
    "y = int(input('Number2'))\n",
    "try:\n",
    "    result = x/y\n",
    "except Exception as e:\n",
    "    print(type(e))\n",
    "else:\n",
    "    print('Inside Else')\n",
    "finally:\n",
    "    print('Inside Finally')\n",
    "print('Result:', result)"
   ]
  },
  {
   "cell_type": "code",
   "execution_count": 37,
   "metadata": {},
   "outputs": [
    {
     "name": "stdout",
     "output_type": "stream",
     "text": [
      "Number110\n",
      "Number20\n",
      "<class 'ZeroDivisionError'>\n",
      "Inside Finally\n",
      "Result: None\n"
     ]
    }
   ],
   "source": [
    "result = None\n",
    "x = int(input('Number1'))\n",
    "y = int(input('Number2'))\n",
    "try:\n",
    "    result = x/y\n",
    "except Exception as e:\n",
    "    print(type(e))\n",
    "else:\n",
    "    print('Inside Else')\n",
    "finally:\n",
    "    print('Inside Finally')\n",
    "print('Result:', result)"
   ]
  },
  {
   "cell_type": "code",
   "execution_count": null,
   "metadata": {},
   "outputs": [],
   "source": [
    "#Practise Exceptional CA - Rahul will share the file"
   ]
  },
  {
   "cell_type": "code",
   "execution_count": null,
   "metadata": {},
   "outputs": [],
   "source": [
    "#Object Oriented Programming - OOP"
   ]
  },
  {
   "cell_type": "code",
   "execution_count": 38,
   "metadata": {},
   "outputs": [
    {
     "data": {
      "text/plain": [
       "302.0"
      ]
     },
     "execution_count": 38,
     "metadata": {},
     "output_type": "execute_result"
    }
   ],
   "source": [
    "def ctof(c):\n",
    "    f = (c*9/5)+32\n",
    "    return f\n",
    "ctof(100)\n",
    "ctof(150)"
   ]
  },
  {
   "cell_type": "code",
   "execution_count": 39,
   "metadata": {},
   "outputs": [
    {
     "name": "stdout",
     "output_type": "stream",
     "text": [
      "212.0\n",
      "302.0\n"
     ]
    }
   ],
   "source": [
    "class CtoF:\n",
    "    def __init__(self,c):\n",
    "        self.c = c\n",
    "    def ctof(self):\n",
    "        f = (self.c*9/5) + 32\n",
    "        print(f)\n",
    "c1 = CtoF(100)\n",
    "c1.ctof()\n",
    "c2 = CtoF(150)\n",
    "c2.ctof()"
   ]
  },
  {
   "cell_type": "code",
   "execution_count": 41,
   "metadata": {},
   "outputs": [
    {
     "name": "stdout",
     "output_type": "stream",
     "text": [
      "Hello your name is: Jesus\n",
      "Hello your empid is: 1\n",
      "Hello your salary is: 10000\n",
      "Hello your name is: Jennifer\n",
      "Hello your empid is: 2\n",
      "Hello your salary is: 20000\n"
     ]
    }
   ],
   "source": [
    "class Employee:\n",
    "    def __init__(self,name, empid,salary): #__init__ is constructor\n",
    "        self.name = name\n",
    "        self.empid = empid\n",
    "        self.salary = salary\n",
    "        \n",
    "    def talk(self):\n",
    "        print('Hello your name is:', self.name)\n",
    "        print('Hello your empid is:', self.empid)\n",
    "        print('Hello your salary is:', self.salary)\n",
    "e = Employee('Jesus',1,10000) \n",
    "e.talk()\n",
    "\n",
    "e2 = Employee('Jennifer',2,20000) \n",
    "e2.talk()"
   ]
  },
  {
   "cell_type": "code",
   "execution_count": 42,
   "metadata": {},
   "outputs": [
    {
     "name": "stdout",
     "output_type": "stream",
     "text": [
      "Hello your name is: Rahul\n",
      "Hello your empid is: 1\n",
      "Hello your salary is: 10000\n",
      "Hello your name is: Rohit\n",
      "Hello your empid is: 2\n",
      "Hello your salary is: 20000\n"
     ]
    }
   ],
   "source": [
    "class Employee:\n",
    "    a=10\n",
    "    def __init__(self, name, empid,salary): #__init__ is constructor\n",
    "        self.name = name\n",
    "        self.empid = empid\n",
    "        self.salary = salary\n",
    "        \n",
    "    def talk(self):\n",
    "        b=10\n",
    "        print('Hello your name is:', self.name)\n",
    "        print('Hello your empid is:', self.empid)\n",
    "        print('Hello your salary is:', self.salary)\n",
    "e = Employee('Rahul',1,10000) \n",
    "e.talk()\n",
    "\n",
    "e2 = Employee('Rohit',2,20000) \n",
    "e2.talk()"
   ]
  },
  {
   "cell_type": "code",
   "execution_count": 43,
   "metadata": {},
   "outputs": [
    {
     "name": "stdout",
     "output_type": "stream",
     "text": [
      "Constructor calling\n",
      "1596863963080\n",
      "Constructor calling\n",
      "1596863961544\n"
     ]
    }
   ],
   "source": [
    "class Test:\n",
    "    def __init__(self):\n",
    "        print('Constructor calling')\n",
    "        print(id(self))\n",
    "        \n",
    "t1 = Test()\n",
    "t2 = Test()"
   ]
  },
  {
   "cell_type": "code",
   "execution_count": null,
   "metadata": {},
   "outputs": [],
   "source": [
    "#Instance variables (Object level)\n",
    "#Static variables (Class level)\n",
    "#Local variables (Method level)"
   ]
  },
  {
   "cell_type": "code",
   "execution_count": 44,
   "metadata": {},
   "outputs": [
    {
     "name": "stdout",
     "output_type": "stream",
     "text": [
      "888\n",
      "777\n"
     ]
    }
   ],
   "source": [
    "class Test:\n",
    "    a = 777\n",
    "    def __init__(self):\n",
    "        self.a = 888\n",
    "t = Test()\n",
    "print(t.a)\n",
    "print(Test.a)"
   ]
  },
  {
   "cell_type": "code",
   "execution_count": 45,
   "metadata": {},
   "outputs": [
    {
     "name": "stdout",
     "output_type": "stream",
     "text": [
      "100\n",
      "10\n"
     ]
    }
   ],
   "source": [
    "class Test:\n",
    "    a = 10\n",
    "    def __init__(self):\n",
    "        self.a = 100\n",
    "    def m1(self):\n",
    "        print(self.a)\n",
    "        print(Test.a)\n",
    "        \n",
    "t = Test()\n",
    "t.m1()"
   ]
  },
  {
   "cell_type": "code",
   "execution_count": 47,
   "metadata": {},
   "outputs": [
    {
     "name": "stdout",
     "output_type": "stream",
     "text": [
      "Hi Rahul\n",
      "Your marks are: 60\n",
      "You got 1st grade\n",
      "Hi Rahul\n",
      "Your marks are: 60\n",
      "You got 1st grade\n"
     ]
    }
   ],
   "source": [
    "class Student:\n",
    "    def __init__(self,name, marks):\n",
    "        self.name = name\n",
    "        self.marks = marks\n",
    "        self.display()\n",
    "        \n",
    "    def display(self):\n",
    "        print('Hi', self.name)\n",
    "        print('Your marks are:', self.marks)\n",
    "        self.grade()\n",
    "        \n",
    "    def grade(self):\n",
    "        if self.marks >=60:\n",
    "            print('You got 1st grade')\n",
    "        elif self.marks >=50:\n",
    "            print('You got 2nd grade')\n",
    "        elif self.marks >=35:\n",
    "            print('You got 3rd grade')\n",
    "        else:\n",
    "            print('You failed')\n",
    "            \n",
    "s = Student('Rahul',60)\n",
    "s.display()"
   ]
  },
  {
   "cell_type": "code",
   "execution_count": 48,
   "metadata": {},
   "outputs": [
    {
     "name": "stdout",
     "output_type": "stream",
     "text": [
      "The sum is 12\n",
      "The product is 20\n"
     ]
    }
   ],
   "source": [
    "class Rahulmaths:\n",
    "    def add(x,y):\n",
    "        print('The sum is',x+y)\n",
    "        \n",
    "    def product(x,y):\n",
    "        print('The product is', x*y)\n",
    "Rahulmaths.add(10,2)\n",
    "Rahulmaths.product(10,2)"
   ]
  },
  {
   "cell_type": "code",
   "execution_count": 49,
   "metadata": {},
   "outputs": [
    {
     "name": "stdout",
     "output_type": "stream",
     "text": [
      "Outer class\n",
      "Inner class\n",
      "M1 Method\n"
     ]
    }
   ],
   "source": [
    "class Outer:\n",
    "    def __init__(self):\n",
    "        print('Outer class')\n",
    "    \n",
    "    class Inner:\n",
    "        def __init__(self):\n",
    "            print('Inner class')\n",
    "        def m1(self):\n",
    "            print('M1 Method')\n",
    "            \n",
    "o = Outer()\n",
    "i = o.Inner()\n",
    "i.m1()"
   ]
  },
  {
   "cell_type": "code",
   "execution_count": 50,
   "metadata": {},
   "outputs": [
    {
     "name": "stdout",
     "output_type": "stream",
     "text": [
      "Parent class\n",
      "Child class\n",
      "Parent class\n"
     ]
    }
   ],
   "source": [
    "#Inheritance \n",
    "class P:\n",
    "    def m1(self):\n",
    "        print('Parent class')\n",
    "class C(P):\n",
    "    def m2(self):\n",
    "        print('Child class')\n",
    "        \n",
    "        \n",
    "p = P()\n",
    "p.m1()\n",
    "\n",
    "c = C()\n",
    "c.m2()\n",
    "c.m1()"
   ]
  },
  {
   "cell_type": "code",
   "execution_count": 51,
   "metadata": {},
   "outputs": [
    {
     "name": "stdout",
     "output_type": "stream",
     "text": [
      "8\n",
      "12\n"
     ]
    }
   ],
   "source": [
    "class Add:\n",
    "    def add(self,x,y):\n",
    "        print(x+y)\n",
    "class Sub(Add):\n",
    "    def sub(self,x,y):\n",
    "        print(x-y)\n",
    "s = Sub()  \n",
    "s.sub(10,2)\n",
    "s.add(10,2)"
   ]
  },
  {
   "cell_type": "code",
   "execution_count": 52,
   "metadata": {},
   "outputs": [
    {
     "name": "stdout",
     "output_type": "stream",
     "text": [
      "Parent method\n",
      "Child method\n",
      "Sub Child\n"
     ]
    }
   ],
   "source": [
    "class P:\n",
    "    def m1(self):\n",
    "        print('Parent method')\n",
    "        \n",
    "class C(P):\n",
    "    def m2(self):\n",
    "        print('Child method')\n",
    "        \n",
    "class CC(C):\n",
    "    def m3(self):\n",
    "        print('Sub Child')\n",
    "        \n",
    "cc = CC()\n",
    "cc.m1()\n",
    "cc.m2()\n",
    "cc.m3()"
   ]
  },
  {
   "cell_type": "code",
   "execution_count": 53,
   "metadata": {},
   "outputs": [
    {
     "name": "stdout",
     "output_type": "stream",
     "text": [
      "Parent method\n",
      "Sub Child\n",
      "Parent method\n",
      "Child method\n"
     ]
    },
    {
     "ename": "AttributeError",
     "evalue": "'C1' object has no attribute 'm3'",
     "output_type": "error",
     "traceback": [
      "\u001b[1;31m---------------------------------------------------------------------------\u001b[0m",
      "\u001b[1;31mAttributeError\u001b[0m                            Traceback (most recent call last)",
      "\u001b[1;32m<ipython-input-53-764dbf05b221>\u001b[0m in \u001b[0;36m<module>\u001b[1;34m\u001b[0m\n\u001b[0;32m     19\u001b[0m \u001b[0mcc1\u001b[0m\u001b[1;33m.\u001b[0m\u001b[0mm1\u001b[0m\u001b[1;33m(\u001b[0m\u001b[1;33m)\u001b[0m\u001b[1;33m\u001b[0m\u001b[1;33m\u001b[0m\u001b[0m\n\u001b[0;32m     20\u001b[0m \u001b[0mcc1\u001b[0m\u001b[1;33m.\u001b[0m\u001b[0mm2\u001b[0m\u001b[1;33m(\u001b[0m\u001b[1;33m)\u001b[0m\u001b[1;33m\u001b[0m\u001b[1;33m\u001b[0m\u001b[0m\n\u001b[1;32m---> 21\u001b[1;33m \u001b[0mcc1\u001b[0m\u001b[1;33m.\u001b[0m\u001b[0mm3\u001b[0m\u001b[1;33m(\u001b[0m\u001b[1;33m)\u001b[0m\u001b[1;33m\u001b[0m\u001b[1;33m\u001b[0m\u001b[0m\n\u001b[0m",
      "\u001b[1;31mAttributeError\u001b[0m: 'C1' object has no attribute 'm3'"
     ]
    }
   ],
   "source": [
    "class P:\n",
    "    def m1(self):\n",
    "        print('Parent method')\n",
    "        \n",
    "class C1(P):\n",
    "    def m2(self):\n",
    "        print('Child method')\n",
    "        \n",
    "class C2(P):\n",
    "    def m3(self):\n",
    "        print('Sub Child')\n",
    "        \n",
    "cc = C2()\n",
    "cc.m1()\n",
    "\n",
    "cc.m3()\n",
    "\n",
    "cc1 = C1()\n",
    "cc1.m1()\n",
    "cc1.m2()\n",
    "cc1.m3()"
   ]
  },
  {
   "cell_type": "code",
   "execution_count": 55,
   "metadata": {},
   "outputs": [
    {
     "name": "stdout",
     "output_type": "stream",
     "text": [
      "Parent 1 method\n",
      "Parent 2 method\n",
      "Child method\n"
     ]
    }
   ],
   "source": [
    "class P1:\n",
    "    def m1(self):\n",
    "        print('Parent 1 method')\n",
    "        \n",
    "class P2:\n",
    "    def m2(self):\n",
    "        print('Parent 2 method')\n",
    "        \n",
    "class C(P1,P2):\n",
    "    def m3(self):\n",
    "        print('Child method')\n",
    "        \n",
    "c = C()    \n",
    "c.m1()\n",
    "c.m2()\n",
    "c.m3()"
   ]
  }
 ],
 "metadata": {
  "kernelspec": {
   "display_name": "Python 3",
   "language": "python",
   "name": "python3"
  },
  "language_info": {
   "codemirror_mode": {
    "name": "ipython",
    "version": 3
   },
   "file_extension": ".py",
   "mimetype": "text/x-python",
   "name": "python",
   "nbconvert_exporter": "python",
   "pygments_lexer": "ipython3",
   "version": "3.7.6"
  }
 },
 "nbformat": 4,
 "nbformat_minor": 4
}
