{
 "cells": [
  {
   "cell_type": "code",
   "execution_count": null,
   "metadata": {},
   "outputs": [],
   "source": [
    "#String Operations\n",
    "#Regular expressions\n",
    "#Exceptional Handling\n",
    "#File Handling"
   ]
  },
  {
   "cell_type": "code",
   "execution_count": 6,
   "metadata": {},
   "outputs": [
    {
     "name": "stdout",
     "output_type": "stream",
     "text": [
      "Enter your city name: Mumbai\n",
      "Your city  Mumbai is unavailable\n"
     ]
    }
   ],
   "source": [
    "#String Operations\n",
    "city = input ('Enter your city name:')\n",
    "list1 = ['Mumbai', 'Delhi', 'Bengaluru', 'Chennai']\n",
    "if city in list1:\n",
    "    print('Your city is available')\n",
    "else:\n",
    "    print('Your city', city, 'is unavailable')\n",
    "    "
   ]
  },
  {
   "cell_type": "code",
   "execution_count": 5,
   "metadata": {},
   "outputs": [
    {
     "name": "stdout",
     "output_type": "stream",
     "text": [
      "Enter your city name: Mumbai\n",
      "Your city is available\n"
     ]
    }
   ],
   "source": [
    "#lstrip - to remove spaces towards the left\n",
    "city = input ('Enter your city name:')\n",
    "list1 = ['Mumbai', 'Delhi', 'Bengaluru', 'Chennai']\n",
    "if city.lstrip() in list1:\n",
    "    print('Your city is available')\n",
    "else:\n",
    "    print('Your city', city, 'is unavailable')"
   ]
  },
  {
   "cell_type": "code",
   "execution_count": 7,
   "metadata": {},
   "outputs": [
    {
     "name": "stdout",
     "output_type": "stream",
     "text": [
      "Enter your city name:Chennai \n",
      "Your city is available\n"
     ]
    }
   ],
   "source": [
    "#rstrip - to remove spaces towards the right\n",
    "city = input ('Enter your city name:')\n",
    "list1 = ['Mumbai', 'Delhi', 'Bengaluru', 'Chennai']\n",
    "if city.rstrip() in list1:\n",
    "    print('Your city is available')\n",
    "else:\n",
    "    print('Your city', city, 'is unavailable')"
   ]
  },
  {
   "cell_type": "code",
   "execution_count": 8,
   "metadata": {},
   "outputs": [
    {
     "name": "stdout",
     "output_type": "stream",
     "text": [
      "Enter your city name:   Mumbai   \n",
      "Your city is available\n"
     ]
    }
   ],
   "source": [
    "#if you need both left and right strip then simple use strip()\n",
    "city = input ('Enter your city name:')\n",
    "list1 = ['Mumbai', 'Delhi', 'Bengaluru', 'Chennai']\n",
    "if city.strip() in list1:\n",
    "    print('Your city is available')\n",
    "else:\n",
    "    print('Your city', city, 'is unavailable')"
   ]
  },
  {
   "cell_type": "code",
   "execution_count": 10,
   "metadata": {},
   "outputs": [
    {
     "name": "stdout",
     "output_type": "stream",
     "text": [
      "-1\n",
      "8\n"
     ]
    }
   ],
   "source": [
    "s = 'JenniferJosephJenniferJoseph'\n",
    "print(s.find('John'))\n",
    "print(s.find('Joseph'))\n",
    "#find()\n",
    "#It returns the index of 1st match only from left to right\n",
    "#if value not found, it will return -1 (it's not reverse indexation)"
   ]
  },
  {
   "cell_type": "code",
   "execution_count": 13,
   "metadata": {},
   "outputs": [
    {
     "name": "stdout",
     "output_type": "stream",
     "text": [
      "22\n"
     ]
    }
   ],
   "source": [
    "s = 'JenniferJosephJenniferJoseph'\n",
    "print(s.rfind('Joseph'))\n",
    "#rfind = reverse direction"
   ]
  },
  {
   "cell_type": "code",
   "execution_count": 2,
   "metadata": {},
   "outputs": [
    {
     "name": "stdout",
     "output_type": "stream",
     "text": [
      "9\n"
     ]
    }
   ],
   "source": [
    "s = 'JenniferJosephJenniferJoseph'\n",
    "print(s.index('o'))"
   ]
  },
  {
   "cell_type": "code",
   "execution_count": 17,
   "metadata": {},
   "outputs": [
    {
     "name": "stdout",
     "output_type": "stream",
     "text": [
      "23\n"
     ]
    }
   ],
   "source": [
    "s = 'JenniferJosephJenniferJoseph'\n",
    "print(s.index('o',10,27))"
   ]
  },
  {
   "cell_type": "code",
   "execution_count": 1,
   "metadata": {},
   "outputs": [
    {
     "name": "stdout",
     "output_type": "stream",
     "text": [
      "27\n"
     ]
    }
   ],
   "source": [
    "s = 'JenniferJosephJenniferJoseph'\n",
    "print(s.rindex('h'))"
   ]
  },
  {
   "cell_type": "code",
   "execution_count": null,
   "metadata": {},
   "outputs": [],
   "source": [
    "#String functions\n",
    "#capitalize()\tConverts the first character to upper case\n",
    "#casefold()\tConverts string into lower case\n",
    "#center()\tReturns a centered string\n",
    "#count()\tReturns the number of times a specified value occurs in a string\n",
    "#encode()\tReturns an encoded version of the string\n",
    "#endswith()\tReturns true if the string ends with the specified value\n",
    "#expandtabs()\tSets the tab size of the string\n",
    "#find()\tSearches the string for a specified value and returns the position of where it was found\n",
    "#format()\tFormats specified values in a string\n"
   ]
  },
  {
   "cell_type": "code",
   "execution_count": null,
   "metadata": {},
   "outputs": [],
   "source": [
    "#format_map()\tFormats specified values in a string\n",
    "#index()\tSearches the string for a specified value and returns the position of where it was found\n",
    "#isalnum()\tReturns True if all characters in the string are alphanumeric\n",
    "#isalpha()\tReturns True if all characters in the string are in the alphabet\n",
    "#isdecimal()\tReturns True if all characters in the string are decimals\n",
    "#isdigit()\tReturns True if all characters in the string are digits\n",
    "#isidentifier()\tReturns True if the string is an identifier\n",
    "#islower()\tReturns True if all characters in the string are lower case\n",
    "#isnumeric()\tReturns True if all characters in the string are numeric\n",
    "#isprintable()\tReturns True if all characters in the string are printable\n"
   ]
  },
  {
   "cell_type": "code",
   "execution_count": null,
   "metadata": {},
   "outputs": [],
   "source": [
    "#isspace()\tReturns True if all characters in the string are whitespaces\n",
    "#istitle()\tReturns True if the string follows the rules of a title\n",
    "#isupper()\tReturns True if all characters in the string are upper case\n",
    "#join()\tJoins the elements of an iterable to the end of the string\n",
    "#ljust()\tReturns a left justified version of the string\n",
    "#lower()\tConverts a string into lower case\n",
    "#lstrip()\tReturns a left trim version of the string\n",
    "#maketrans()\tReturns a translation table to be used in translations\n",
    "#partition()\tReturns a tuple where the string is parted into three parts\n",
    "#replace()\tReturns a string where a specified value is replaced with a specified value\n"
   ]
  },
  {
   "cell_type": "code",
   "execution_count": null,
   "metadata": {},
   "outputs": [],
   "source": [
    "#rfind()\tSearches the string for a specified value and returns the last position of where it was found\n",
    "#rindex()\tSearches the string for a specified value and returns the last position of where it was found\n",
    "#rjust()\tReturns a right justified version of the string\n",
    "#rpartition()\tReturns a tuple where the string is parted into three parts\n",
    "#rsplit()\tSplits the string at the specified separator, and returns a list\n",
    "#rstrip()\tReturns a right trim version of the string\n",
    "#split()\tSplits the string at the specified separator, and returns a list\n",
    "#splitlines()\tSplits the string at line breaks and returns a list\n",
    "#startswith()\tReturns true if the string starts with the specified value\n"
   ]
  },
  {
   "cell_type": "code",
   "execution_count": null,
   "metadata": {},
   "outputs": [],
   "source": [
    "#strip()\tReturns a trimmed version of the string\n",
    "#swapcase()\tSwaps cases, lower case becomes upper case and vice versa\n",
    "#title()\tConverts the first character of each word to upper case\n",
    "#translate()\tReturns a translated string\n",
    "#upper()\tConverts a string into upper case\n",
    "#zfill()\tFills the string with a specified number of 0 values at the beginning"
   ]
  },
  {
   "cell_type": "code",
   "execution_count": 6,
   "metadata": {},
   "outputs": [
    {
     "name": "stdout",
     "output_type": "stream",
     "text": [
      "Enter the main stringJesus\n",
      "Enter the string you are looking fore\n",
      "Found at Index: 1\n"
     ]
    }
   ],
   "source": [
    "s = input(\"Enter the main string\")\n",
    "sub = input(\"Enter the string you are looking for\")\n",
    "flag = False\n",
    "pos = -1\n",
    "n = len(s)\n",
    "while True:\n",
    "    pos = s.find(sub, pos+1, n)\n",
    "    if pos==-1:\n",
    "        break\n",
    "    print(\"Found at Index:\", pos)\n",
    "    flag = True\n",
    "if flag == False:\n",
    "    print(\"Not found\")"
   ]
  },
  {
   "cell_type": "code",
   "execution_count": 7,
   "metadata": {},
   "outputs": [
    {
     "data": {
      "text/plain": [
       "'Jesus Christ Joseph'"
      ]
     },
     "execution_count": 7,
     "metadata": {},
     "output_type": "execute_result"
    }
   ],
   "source": [
    "s = \"Jennifer Joseph\"\n",
    "s.replace('Jennifer', 'Jesus Christ')"
   ]
  },
  {
   "cell_type": "code",
   "execution_count": 8,
   "metadata": {},
   "outputs": [
    {
     "name": "stdout",
     "output_type": "stream",
     "text": [
      "2087804780080\n",
      "2087805123696\n"
     ]
    }
   ],
   "source": [
    "s= 'Jennifer Joseph'\n",
    "print(id(s))\n",
    "s = s.replace('Jennifer', 'Jesus')\n",
    "print(id(s))"
   ]
  },
  {
   "cell_type": "code",
   "execution_count": 23,
   "metadata": {},
   "outputs": [
    {
     "data": {
      "text/plain": [
       "['Jennifer ', ' Anna ', ' Joseph']"
      ]
     },
     "execution_count": 23,
     "metadata": {},
     "output_type": "execute_result"
    }
   ],
   "source": [
    "s = 'Jennifer - Anna - Joseph'\n",
    "list10 = s.split('-')\n",
    "list10"
   ]
  },
  {
   "cell_type": "code",
   "execution_count": 22,
   "metadata": {},
   "outputs": [
    {
     "data": {
      "text/plain": [
       "['jennifer ',\n",
       " ' joseph ',\n",
       " ' anna ',\n",
       " ' christ ',\n",
       " ' john ',\n",
       " ' pratik ',\n",
       " ' palak ',\n",
       " ' corn']"
      ]
     },
     "execution_count": 22,
     "metadata": {},
     "output_type": "execute_result"
    }
   ],
   "source": [
    "s = 'jennifer - joseph - anna - christ - john - pratik - palak - corn'\n",
    "list = s.split('-')\n",
    "list"
   ]
  },
  {
   "cell_type": "code",
   "execution_count": 21,
   "metadata": {},
   "outputs": [
    {
     "data": {
      "text/plain": [
       "'Jennifer-Anna-Joseph'"
      ]
     },
     "execution_count": 21,
     "metadata": {},
     "output_type": "execute_result"
    }
   ],
   "source": [
    "l = ['Jennifer', 'Anna', 'Joseph']\n",
    "#Jennifer-Anna-Joseph\n",
    "s = '-'. join(l)\n",
    "s\n",
    "\n"
   ]
  },
  {
   "cell_type": "code",
   "execution_count": 24,
   "metadata": {},
   "outputs": [
    {
     "name": "stdout",
     "output_type": "stream",
     "text": [
      "JENNIFER JOSEPH IS A DATA SCIENTIST\n",
      "jennifer joseph is a data scientist\n",
      "jENNIFER jOSEPH IS A dATA sCIENTIST\n",
      "Jennifer Joseph Is A Data Scientist\n",
      "Jennifer joseph is a data scientist\n"
     ]
    }
   ],
   "source": [
    "s = 'Jennifer Joseph is a Data Scientist'\n",
    "print(s.upper())\n",
    "print(s.lower())\n",
    "print(s.swapcase())\n",
    "print(s.title())\n",
    "print(s.capitalize())"
   ]
  },
  {
   "cell_type": "code",
   "execution_count": 25,
   "metadata": {},
   "outputs": [
    {
     "name": "stdout",
     "output_type": "stream",
     "text": [
      "True\n",
      "False\n"
     ]
    }
   ],
   "source": [
    "#To check start and end part of the string\n",
    "s = 'Learning Python is very simple'\n",
    "print(s.startswith('Learning'))\n",
    "print(s.endswith('Learning'))"
   ]
  },
  {
   "cell_type": "code",
   "execution_count": null,
   "metadata": {},
   "outputs": [],
   "source": [
    "#Type of character in the string\n",
    "isalnum()\n",
    "isalpha()\n",
    "isdigit()\n",
    "islower()\n",
    "isupper()\n",
    "istitle()\n",
    "isspace()"
   ]
  },
  {
   "cell_type": "code",
   "execution_count": 35,
   "metadata": {},
   "outputs": [
    {
     "name": "stdout",
     "output_type": "stream",
     "text": [
      "True\n",
      "True\n",
      "False\n",
      "False\n",
      "False\n",
      "True\n",
      "False\n"
     ]
    }
   ],
   "source": [
    "print('Jennifer030992'.isalnum())\n",
    "print('Jennifer'.isalpha())\n",
    "print('Jennifer'.isdigit())\n",
    "print('Jennifer'.islower())\n",
    "print('Jennifer'.isupper())\n",
    "print('Jennifer'.istitle())\n",
    "print(''.isspace())"
   ]
  },
  {
   "cell_type": "code",
   "execution_count": 40,
   "metadata": {},
   "outputs": [
    {
     "name": "stdout",
     "output_type": "stream",
     "text": [
      "Enter the string      \n",
      "It is a space\n"
     ]
    }
   ],
   "source": [
    "s = input('Enter the string')\n",
    "if s.isalnum():\n",
    "    print('Alphanumeric string')\n",
    "    if s.isalpha:\n",
    "        print('Alphabetic string')\n",
    "        if s.islower:\n",
    "            print('Lower alphabet string')\n",
    "        else:\n",
    "            print('Upper alphabet string')\n",
    "    else:\n",
    "        print('It is a digit')\n",
    "elif s.isspace():\n",
    "    print('It is a space')\n",
    "else:\n",
    "    print('It is a special character')"
   ]
  },
  {
   "cell_type": "code",
   "execution_count": 1,
   "metadata": {},
   "outputs": [
    {
     "data": {
      "text/plain": [
       "'refinneJ'"
      ]
     },
     "execution_count": 1,
     "metadata": {},
     "output_type": "execute_result"
    }
   ],
   "source": [
    "s = 'Jennifer'\n",
    "#refinnej\n",
    "s[::-1]"
   ]
  },
  {
   "cell_type": "code",
   "execution_count": 2,
   "metadata": {},
   "outputs": [
    {
     "name": "stdout",
     "output_type": "stream",
     "text": [
      "r e f i n n e J "
     ]
    }
   ],
   "source": [
    "reversed(s)\n",
    "for x in reversed(s):\n",
    "    print(x, end = ' ')"
   ]
  },
  {
   "cell_type": "code",
   "execution_count": 7,
   "metadata": {},
   "outputs": [
    {
     "name": "stdout",
     "output_type": "stream",
     "text": [
      "Enter the stringJesus\n",
      "4\n",
      "suseJ\n"
     ]
    }
   ],
   "source": [
    "s = input('Enter the string')\n",
    "i = len(s)-1\n",
    "print(i)\n",
    "output = ''\n",
    "while i>=0:\n",
    "    output = output + s[i]\n",
    "    i = i-1\n",
    "print(output)"
   ]
  },
  {
   "cell_type": "code",
   "execution_count": 11,
   "metadata": {},
   "outputs": [
    {
     "name": "stdout",
     "output_type": "stream",
     "text": [
      "Enter the stringJennifer Anna Joseph Data Scientist\n",
      "['Jennifer', 'Anna', 'Joseph', 'Data', 'Scientist']\n",
      "['Scientist', 'Data', 'Joseph', 'Anna', 'Jennifer']\n",
      "Scientist Data Joseph Anna Jennifer\n"
     ]
    }
   ],
   "source": [
    "s = input('Enter the string')\n",
    "list = s.split()\n",
    "print(list)\n",
    "l1 = []\n",
    "i = len(list) - 1\n",
    "while i>=0:\n",
    "    l1.append(list[i])\n",
    "    i = i - 1\n",
    "print(l1)\n",
    "output = ' '.join(l1)\n",
    "print(output)"
   ]
  },
  {
   "cell_type": "code",
   "execution_count": 14,
   "metadata": {},
   "outputs": [
    {
     "name": "stdout",
     "output_type": "stream",
     "text": [
      "\n"
     ]
    }
   ],
   "source": [
    "output = ''\n",
    "type(output)\n",
    "print(output)"
   ]
  },
  {
   "cell_type": "code",
   "execution_count": 19,
   "metadata": {},
   "outputs": [
    {
     "name": "stdout",
     "output_type": "stream",
     "text": [
      "Enter the stringJennifer Joseph\n",
      "['refinneJ', 'hpesoJ']\n",
      "refinneJ hpesoJ\n"
     ]
    }
   ],
   "source": [
    "s = input('Enter the string')\n",
    "l = s.split()\n",
    "l1 = []\n",
    "for x in l:\n",
    "    l1.append(x[::-1])\n",
    "print(l1)\n",
    "output = ' '.join(l1)\n",
    "print(output)\n"
   ]
  },
  {
   "cell_type": "code",
   "execution_count": 4,
   "metadata": {},
   "outputs": [
    {
     "name": "stdout",
     "output_type": "stream",
     "text": [
      "Enter the stringJENNY\n",
      "Enter'1' if you want to remove odd positioned characters', '2' for even positioned characters2\n",
      "String after removing characters of even position\n",
      "JNY\n"
     ]
    }
   ],
   "source": [
    "#Algorithm to remove odd or even index character from a string :\n",
    "input_string = input('Enter the string')\n",
    "output_string = ''\n",
    "\n",
    "oddoreven = int(input(\"Enter'1' if you want to remove odd positioned characters', '2' for even positioned characters\"))\n",
    "if oddoreven == 1:\n",
    "    print(\"String after removing characters of odd position:\")\n",
    "    for i in range(len(input_string)):\n",
    "        if i%2 !=0:\n",
    "            output_string = output_string + input_string [i]\n",
    "elif oddoreven ==2:\n",
    "    print(\"String after removing characters of even position\")\n",
    "    for i in range (len(input_string)):\n",
    "        if i%2 == 0:\n",
    "            output_string = output_string + input_string [i]\n",
    "print(output_string)"
   ]
  },
  {
   "cell_type": "code",
   "execution_count": 2,
   "metadata": {},
   "outputs": [
    {
     "name": "stdout",
     "output_type": "stream",
     "text": [
      "Enter a string : Jeny\n",
      "Enter '1' if you want to remove odd positioned characters , '2' for even positioned characters : 1\n",
      "String after removing characters on odd position : \n",
      "ey\n"
     ]
    }
   ],
   "source": [
    "input_string = input(\"Enter a string : \")\n",
    "\n",
    "output_string = \"\"\n",
    "\n",
    "oddOrEven = int(input(\"Enter '1' if you want to remove odd positioned characters , '2' for even positioned characters : \"))\n",
    "\n",
    "if oddOrEven ==1 :\n",
    "\tprint (\"String after removing characters on odd position : \")\n",
    "\tfor i in range(len(input_string)):\n",
    "\t\tif i%2 != 0:\n",
    "\t\t\toutput_string = output_string + input_string[i]\n",
    "\n",
    "elif oddOrEven == 2 :\n",
    "\tprint (\"String after removing characters on even position : \")\n",
    "\tfor i in range(len(input_string)):\n",
    "\t\tif i%2 == 0:\n",
    "\t\t\toutput_string = output_string + input_string[i]\n",
    "\n",
    "print (output_string)"
   ]
  },
  {
   "cell_type": "code",
   "execution_count": 5,
   "metadata": {},
   "outputs": [
    {
     "name": "stdout",
     "output_type": "stream",
     "text": [
      "['JOHN', 'JAME']\n"
     ]
    }
   ],
   "source": [
    "#s1 = john\n",
    "#s2 = jame\n",
    "#jjoahmne\n",
    "l1 = ['JOHN']\n",
    "l2 = ['JAME']\n",
    "print(l1+l2)"
   ]
  },
  {
   "cell_type": "code",
   "execution_count": 22,
   "metadata": {},
   "outputs": [
    {
     "name": "stdout",
     "output_type": "stream",
     "text": [
      "[['J', 'J'], ['O', 'A'], ['H', 'M'], ['N', 'E']]\n"
     ]
    }
   ],
   "source": [
    "#How to combine two string elements into one?\n",
    "s = [['J','O','H','N'],['J','A','M','E']]\n",
    "newlist = []\n",
    "\n",
    "for i in range(len(s)):\n",
    "    if i % 2 == 0:\n",
    "        list1 = lsts[i]\n",
    "        list2 = lsts[i + 1]\n",
    "        for n in range(len(list1)):\n",
    "            newlist.append([list1[n],list2[n]])\n",
    "\n",
    "print (newlist)"
   ]
  },
  {
   "cell_type": "code",
   "execution_count": 41,
   "metadata": {},
   "outputs": [
    {
     "name": "stdout",
     "output_type": "stream",
     "text": [
      "[1, 3, 4, 'A', 'B', 'D']\n"
     ]
    }
   ],
   "source": [
    "#How to sort alphanumeric?\n",
    "lst = ['B',4,'A',1,'D',3]\n",
    "def sort(lst): \n",
    "    lst = [str(i) for i in lst] \n",
    "    lst.sort() \n",
    "    lst = [int(i) if i.isdigit() else i for i in lst ] \n",
    "    return lst\n",
    "print(sort(lst))\n"
   ]
  },
  {
   "cell_type": "code",
   "execution_count": null,
   "metadata": {},
   "outputs": [],
   "source": [
    "#Input a4b3c2\n",
    "#output aaaabbbcc"
   ]
  },
  {
   "cell_type": "code",
   "execution_count": 44,
   "metadata": {},
   "outputs": [
    {
     "name": "stdout",
     "output_type": "stream",
     "text": [
      "aaaabbbcc\n"
     ]
    }
   ],
   "source": [
    "s = 'a4b3c2'\n",
    "output = ''\n",
    "for ch in s:\n",
    "    if ch.isalpha():\n",
    "        x = ch\n",
    "    else:\n",
    "        d = int(ch)\n",
    "        output = output + x*d\n",
    "print(output)"
   ]
  },
  {
   "cell_type": "code",
   "execution_count": 51,
   "metadata": {},
   "outputs": [
    {
     "name": "stdout",
     "output_type": "stream",
     "text": [
      "aaatttttzzbbbb\n"
     ]
    }
   ],
   "source": [
    "s = 'a3t5z2b4'\n",
    "output=''\n",
    "for ch in s:\n",
    "    if ch.isalpha():\n",
    "        x = ch\n",
    "    else:\n",
    "        d = int(ch)\n",
    "        output = output + x*d\n",
    "print(output)"
   ]
  },
  {
   "cell_type": "code",
   "execution_count": null,
   "metadata": {},
   "outputs": [],
   "source": [
    "#Regular expressions\n",
    "#Pattern Matching\n",
    "#A RegEx, or Regular Expression, is a sequence of characters that forms a search pattern.\n",
    "#RegEx can be used to check if a string contains the specified search pattern.\n",
    "#Python has a built-in package called re, which can be used to work with Regular Expressions."
   ]
  },
  {
   "cell_type": "code",
   "execution_count": 4,
   "metadata": {},
   "outputs": [
    {
     "name": "stdout",
     "output_type": "stream",
     "text": [
      "Match is available at the start index 0\n",
      "Match is available at the start index 2\n",
      "Match is available at the start index 4\n",
      "Match is available at the start index 11\n",
      "Match is available at the start index 13\n",
      "Match is available at the start index 19\n",
      "6\n"
     ]
    }
   ],
   "source": [
    "import re\n",
    "count = 0\n",
    "pattern = re.compile('cd')\n",
    "matcher = pattern.finditer('cdcdcddddddcdcdddddcd')\n",
    "for match in matcher:\n",
    "    count = count+1\n",
    "    print('Match is available at the start index', match.start())\n",
    "print(count)"
   ]
  },
  {
   "cell_type": "code",
   "execution_count": 8,
   "metadata": {},
   "outputs": [
    {
     "name": "stdout",
     "output_type": "stream",
     "text": [
      "0 ... a\n",
      "5 ... c\n",
      "6 ... x\n"
     ]
    }
   ],
   "source": [
    "#[acx] - > either a or c or x in a string to be found\n",
    "import re\n",
    "matcher = re.finditer('[acx]', 'a7b@kcx') \n",
    "for m in matcher:\n",
    "    print(m.start(), '...', m.group())"
   ]
  },
  {
   "cell_type": "code",
   "execution_count": 9,
   "metadata": {},
   "outputs": [
    {
     "name": "stdout",
     "output_type": "stream",
     "text": [
      "1 ... 7\n",
      "2 ... b\n",
      "3 ... @\n",
      "4 ... k\n"
     ]
    }
   ],
   "source": [
    "#[^acx] - > except this everything else will be mentioned\n",
    "import re\n",
    "matcher = re.finditer('[^acx]', 'a7b@kcx') \n",
    "for m in matcher:\n",
    "    print(m.start(), '...', m.group())"
   ]
  },
  {
   "cell_type": "code",
   "execution_count": 10,
   "metadata": {},
   "outputs": [
    {
     "name": "stdout",
     "output_type": "stream",
     "text": [
      "1 ... 7\n"
     ]
    }
   ],
   "source": [
    "#[a-z] - > All lower case\n",
    "#[A-Z] - > All upper case\n",
    "#[a-zA-Z] - > All alphabet\n",
    "#[0-9] - > Any digit\n",
    "#[a-zA-Z0-9] - > All alphabet and numbers\n",
    "#[a-zA-Z0-9] - > Special characters\n",
    "\n",
    "import re\n",
    "matcher = re.finditer('[0-9]', 'a7b@kcx') \n",
    "for m in matcher:\n",
    "    print(m.start(), '...', m.group())"
   ]
  },
  {
   "cell_type": "code",
   "execution_count": null,
   "metadata": {},
   "outputs": [],
   "source": [
    "#predefined characters\n",
    "\\s = search for space character\n",
    "\\S = Except space character\n",
    "\\d = any digit\n",
    "\\D = except any digit\n",
    "\\w = any alphanumeric\n",
    "\\W = except alphanumeric aka special characters"
   ]
  },
  {
   "cell_type": "code",
   "execution_count": 13,
   "metadata": {},
   "outputs": [
    {
     "name": "stdout",
     "output_type": "stream",
     "text": [
      "3 ...  \n"
     ]
    }
   ],
   "source": [
    "import re\n",
    "matcher = re.finditer('\\s', 'a7b @kcx') \n",
    "for m in matcher:\n",
    "    print(m.start(), '...', m.group())"
   ]
  },
  {
   "cell_type": "code",
   "execution_count": 14,
   "metadata": {},
   "outputs": [
    {
     "name": "stdout",
     "output_type": "stream",
     "text": [
      "0 ... a\n",
      "1 ... 7\n",
      "2 ... b\n",
      "4 ... @\n",
      "5 ... k\n",
      "6 ... c\n",
      "7 ... x\n"
     ]
    }
   ],
   "source": [
    "import re\n",
    "matcher = re.finditer('\\S', 'a7b @kcx') \n",
    "for m in matcher:\n",
    "    print(m.start(), '...', m.group())"
   ]
  },
  {
   "cell_type": "code",
   "execution_count": 15,
   "metadata": {},
   "outputs": [
    {
     "name": "stdout",
     "output_type": "stream",
     "text": [
      "1 ... 7\n"
     ]
    }
   ],
   "source": [
    "import re\n",
    "matcher = re.finditer('\\d', 'a7b @kcx') \n",
    "for m in matcher:\n",
    "    print(m.start(), '...', m.group())"
   ]
  },
  {
   "cell_type": "code",
   "execution_count": 16,
   "metadata": {},
   "outputs": [
    {
     "name": "stdout",
     "output_type": "stream",
     "text": [
      "0 ... a\n",
      "2 ... b\n",
      "3 ...  \n",
      "4 ... @\n",
      "5 ... k\n",
      "6 ... c\n",
      "7 ... x\n"
     ]
    }
   ],
   "source": [
    "import re\n",
    "matcher = re.finditer('\\D', 'a7b @kcx') \n",
    "for m in matcher:\n",
    "    print(m.start(), '...', m.group())"
   ]
  },
  {
   "cell_type": "code",
   "execution_count": 17,
   "metadata": {},
   "outputs": [
    {
     "name": "stdout",
     "output_type": "stream",
     "text": [
      "0 ... a\n",
      "1 ... 7\n",
      "2 ... b\n",
      "5 ... k\n",
      "6 ... c\n",
      "7 ... x\n"
     ]
    }
   ],
   "source": [
    "import re\n",
    "matcher = re.finditer('\\w', 'a7b @kcx') \n",
    "for m in matcher:\n",
    "    print(m.start(), '...', m.group())"
   ]
  },
  {
   "cell_type": "code",
   "execution_count": 18,
   "metadata": {},
   "outputs": [
    {
     "name": "stdout",
     "output_type": "stream",
     "text": [
      "3 ...  \n",
      "4 ... @\n"
     ]
    }
   ],
   "source": [
    "import re\n",
    "matcher = re.finditer('\\W', 'a7b @kcx') \n",
    "for m in matcher:\n",
    "    print(m.start(), '...', m.group())"
   ]
  },
  {
   "cell_type": "code",
   "execution_count": 19,
   "metadata": {},
   "outputs": [
    {
     "name": "stdout",
     "output_type": "stream",
     "text": [
      "0 ... c\n",
      "2 ... c\n",
      "4 ... c\n",
      "10 ... cccc\n"
     ]
    }
   ],
   "source": [
    "#c+ = atleast one C's or any number of c's\n",
    "import re\n",
    "matcher = re.finditer('c+', 'cdcdcdddddcccc')\n",
    "for m in matcher:\n",
    "    print(m.start(), '...', m.group())"
   ]
  },
  {
   "cell_type": "code",
   "execution_count": 20,
   "metadata": {},
   "outputs": [
    {
     "name": "stdout",
     "output_type": "stream",
     "text": [
      "10 ... cccc\n"
     ]
    }
   ],
   "source": [
    "#c{} = specify the # of c's you want\n",
    "import re\n",
    "matcher = re.finditer('c{4}', 'cdcdcdddddcccc')\n",
    "for m in matcher:\n",
    "    print(m.start(), '...', m.group())"
   ]
  },
  {
   "cell_type": "code",
   "execution_count": null,
   "metadata": {},
   "outputs": [],
   "source": [
    "#[^c] - except c\n",
    "#^c = tells you if the string is starting with C or not\n",
    "#d$ = tells if my string ends with d or not"
   ]
  },
  {
   "cell_type": "code",
   "execution_count": null,
   "metadata": {},
   "outputs": [],
   "source": [
    "#Re Module\n",
    "    #Full match\n",
    "    #search\n",
    "    #finditer\n",
    "    #findall\n",
    "    #sub\n",
    "    #subn\n",
    "    #split\n",
    "    #compile\n"
   ]
  },
  {
   "cell_type": "code",
   "execution_count": 23,
   "metadata": {},
   "outputs": [
    {
     "name": "stdout",
     "output_type": "stream",
     "text": [
      "Enter the stringabc\n",
      "Match is available at the beginning of the string\n",
      "Start Index: 0 and End Index: 3\n"
     ]
    }
   ],
   "source": [
    "import re\n",
    "s = input('Enter the string')\n",
    "m = re.match(s, 'abc')\n",
    "if m != None:\n",
    "    print('Match is available at the beginning of the string')\n",
    "    print('Start Index: {} and End Index: {}'. format(m.start(), m.end()))\n",
    "else:\n",
    "    print('Match is not available')"
   ]
  },
  {
   "cell_type": "code",
   "execution_count": 25,
   "metadata": {},
   "outputs": [
    {
     "name": "stdout",
     "output_type": "stream",
     "text": [
      "Enter the stringabc\n",
      "Match is available at the beginning of the string\n",
      "Start Index: 0 and End Index: 3\n"
     ]
    }
   ],
   "source": [
    "import re\n",
    "s = input('Enter the string')\n",
    "m = re.fullmatch(s, 'abc')\n",
    "if m != None:\n",
    "    print('Match is available at the beginning of the string')\n",
    "    print('Start Index: {} and End Index: {}'. format(m.start(), m.end()))\n",
    "else:\n",
    "    print('Match is not available')"
   ]
  },
  {
   "cell_type": "code",
   "execution_count": 27,
   "metadata": {},
   "outputs": [
    {
     "name": "stdout",
     "output_type": "stream",
     "text": [
      "Enter the stringjenabc\n",
      "Full string not matched\n"
     ]
    }
   ],
   "source": [
    "import re\n",
    "s = input('Enter the string')\n",
    "m = re.search(s, 'abc')\n",
    "if m != None:\n",
    "    print('Full string match')\n",
    "    print('Start Index: {} and End Index: {}'. format(m.start(), m.end()))\n",
    "else:\n",
    "    print('Full string not matched')"
   ]
  },
  {
   "cell_type": "code",
   "execution_count": 1,
   "metadata": {},
   "outputs": [
    {
     "name": "stdout",
     "output_type": "stream",
     "text": [
      "Enter the patternd\n",
      "['d', 'd', 'd', 'd', 'd', 'd', 'd', 'd']\n"
     ]
    }
   ],
   "source": [
    "import re\n",
    "s = input('Enter the pattern')\n",
    "m = re.findall(s, 'abcdddddddd')\n",
    "print(m)"
   ]
  },
  {
   "cell_type": "code",
   "execution_count": 2,
   "metadata": {},
   "outputs": [
    {
     "name": "stdout",
     "output_type": "stream",
     "text": [
      "Enter the patternddd\n",
      "2\n"
     ]
    }
   ],
   "source": [
    "import re\n",
    "count = 0\n",
    "s = input('Enter the pattern')\n",
    "m = re.findall(s, 'abcdddddddd')\n",
    "for i in m:\n",
    "    count = count + 1\n",
    "print(count)"
   ]
  },
  {
   "cell_type": "code",
   "execution_count": 3,
   "metadata": {},
   "outputs": [
    {
     "name": "stdout",
     "output_type": "stream",
     "text": [
      "['7', '5', '6', '0', '4', '3', '9']\n"
     ]
    }
   ],
   "source": [
    "import re\n",
    "m = re.findall('[0-9]', 'a7t56m0t4o39')\n",
    "print(m)"
   ]
  },
  {
   "cell_type": "code",
   "execution_count": 6,
   "metadata": {},
   "outputs": [
    {
     "name": "stdout",
     "output_type": "stream",
     "text": [
      "['#', '!', '^']\n"
     ]
    }
   ],
   "source": [
    "import re\n",
    "m = re.findall('\\W', 'a7#t56m0t!4o^39')\n",
    "print(m)"
   ]
  },
  {
   "cell_type": "code",
   "execution_count": 7,
   "metadata": {},
   "outputs": [
    {
     "name": "stdout",
     "output_type": "stream",
     "text": [
      "['a', '#', 't', 'm', 't', '!', 'o', '^']\n"
     ]
    }
   ],
   "source": [
    "import re\n",
    "m = re.findall('\\D', 'a7#t56m0t!4o^39')\n",
    "print(m)"
   ]
  },
  {
   "cell_type": "code",
   "execution_count": 8,
   "metadata": {},
   "outputs": [
    {
     "name": "stdout",
     "output_type": "stream",
     "text": [
      "['7', '5', '6', '0', '4', '3', '9']\n"
     ]
    }
   ],
   "source": [
    "import re\n",
    "m = re.findall('\\d', 'a7#t56m0t!4o^39')\n",
    "print(m)"
   ]
  },
  {
   "cell_type": "code",
   "execution_count": 9,
   "metadata": {},
   "outputs": [
    {
     "name": "stdout",
     "output_type": "stream",
     "text": [
      "['a', '7', 't', '5', '6', 'm', '0', 't', '4', 'o', '3', '9']\n"
     ]
    }
   ],
   "source": [
    "import re\n",
    "m = re.findall('\\w', 'a7#t56m0t!4o^39')\n",
    "print(m)"
   ]
  },
  {
   "cell_type": "code",
   "execution_count": 10,
   "metadata": {},
   "outputs": [
    {
     "name": "stdout",
     "output_type": "stream",
     "text": [
      "#n#n#j#k#l#h\n"
     ]
    }
   ],
   "source": [
    "#sub = substitue\n",
    "import re\n",
    "s = re.sub('\\d', '#', '1n3n4j5k6l3h')\n",
    "print(s)"
   ]
  },
  {
   "cell_type": "code",
   "execution_count": 14,
   "metadata": {},
   "outputs": [
    {
     "name": "stdout",
     "output_type": "stream",
     "text": [
      "('#n#n#j#k#l#h', 6)\n",
      "#n#n#j#k#l#h\n",
      "6\n"
     ]
    }
   ],
   "source": [
    "#subn = how many values replaced?\n",
    "import re\n",
    "s = re.subn('\\d', '#', '1n3n4j5k6l3h')\n",
    "print(s)\n",
    "print(s[0])\n",
    "print(s[1])"
   ]
  },
  {
   "cell_type": "code",
   "execution_count": 15,
   "metadata": {},
   "outputs": [
    {
     "name": "stdout",
     "output_type": "stream",
     "text": [
      "['10', '20', '30', '40', '50']\n"
     ]
    }
   ],
   "source": [
    "import re\n",
    "l = re.split('-', '10-20-30-40-50')\n",
    "print(l)"
   ]
  },
  {
   "cell_type": "code",
   "execution_count": 16,
   "metadata": {},
   "outputs": [
    {
     "name": "stdout",
     "output_type": "stream",
     "text": [
      "['', '', '', '', '', '', '', '', '', '', '', '', '', '', '', '', '', '', '', '', '', '']\n"
     ]
    }
   ],
   "source": [
    "import re\n",
    "l = re.split('.', 'www.jenniferjoseph.in')\n",
    "print(l)"
   ]
  },
  {
   "cell_type": "code",
   "execution_count": 17,
   "metadata": {},
   "outputs": [
    {
     "name": "stdout",
     "output_type": "stream",
     "text": [
      "['www', 'jenniferjoseph', 'in']\n"
     ]
    }
   ],
   "source": [
    "import re\n",
    "l = re.split('\\.', 'www.jenniferjoseph.in')\n",
    "print(l)"
   ]
  },
  {
   "cell_type": "code",
   "execution_count": 18,
   "metadata": {},
   "outputs": [
    {
     "name": "stdout",
     "output_type": "stream",
     "text": [
      "['www', 'jenniferjoseph', 'in']\n"
     ]
    }
   ],
   "source": [
    "import re\n",
    "l = re.split('[.]', 'www.jenniferjoseph.in')\n",
    "print(l)"
   ]
  },
  {
   "cell_type": "code",
   "execution_count": 19,
   "metadata": {},
   "outputs": [
    {
     "name": "stdout",
     "output_type": "stream",
     "text": [
      "Target string starts with Learn\n"
     ]
    }
   ],
   "source": [
    "import re\n",
    "s = 'Learning python is very easy'\n",
    "res = re.search('^Learn', s)\n",
    "if res !=None:\n",
    "    print('Target string starts with Learn')\n",
    "else:\n",
    "    print('Not starts with Learn')"
   ]
  },
  {
   "cell_type": "code",
   "execution_count": 20,
   "metadata": {},
   "outputs": [
    {
     "name": "stdout",
     "output_type": "stream",
     "text": [
      "Target string ends with easy\n"
     ]
    }
   ],
   "source": [
    "import re\n",
    "s = 'Learning python is very easy'\n",
    "res = re.search('easy$', s)\n",
    "if res !=None:\n",
    "    print('Target string ends with easy')\n",
    "else:\n",
    "    print('Not end with easy')"
   ]
  },
  {
   "cell_type": "code",
   "execution_count": 23,
   "metadata": {},
   "outputs": [
    {
     "name": "stdout",
     "output_type": "stream",
     "text": [
      "Target string ends with easy\n"
     ]
    }
   ],
   "source": [
    "import re\n",
    "s = 'Learning python is very Easy'\n",
    "res = re.search('easy$', s, re.IGNORECASE)\n",
    "if res !=None:\n",
    "    print('Target string ends with easy')\n",
    "else:\n",
    "    print('Not end with easy')"
   ]
  },
  {
   "cell_type": "code",
   "execution_count": null,
   "metadata": {},
   "outputs": [],
   "source": [
    "#New programming language Rava - Identifiers\n",
    "#1. The allowed characters are:\n",
    "    #Alphabet\n",
    "    #Digits\n",
    "    ##\n",
    "#2. First character should be lower case alphabet symbol from a to k\n",
    "#3. The second character should be digit that should be divisble by 3.\n",
    "#4. The length of identifier should be atleast 2.\n",
    "[a-k], [0369], [a-zA-Z0-9#]"
   ]
  },
  {
   "cell_type": "code",
   "execution_count": 25,
   "metadata": {},
   "outputs": [
    {
     "name": "stdout",
     "output_type": "stream",
     "text": [
      "Enter the identifier to validatea3#\n",
      "a3# is valid Rava identifier\n"
     ]
    }
   ],
   "source": [
    "import re\n",
    "s = input('Enter the identifier to validate')\n",
    "m = re.fullmatch('[a-k][0369][a-zA-Z0-9#]*', s)\n",
    "if m !=None:\n",
    "    print(s, 'is valid Rava identifier')\n",
    "else:\n",
    "    print(s, 'is not a valid Rava identifier')"
   ]
  },
  {
   "cell_type": "code",
   "execution_count": null,
   "metadata": {},
   "outputs": [],
   "source": [
    "#10 digit phone number\n",
    "[6789][0-9]*\n",
    "[6-9]\\d{9}"
   ]
  },
  {
   "cell_type": "code",
   "execution_count": 28,
   "metadata": {},
   "outputs": [
    {
     "name": "stdout",
     "output_type": "stream",
     "text": [
      "Enter the mobile number8879981449\n",
      "8879981449 is a valid mobile number\n"
     ]
    }
   ],
   "source": [
    "import re\n",
    "s = input('Enter the mobile number')\n",
    "m = re.fullmatch('[6-9]\\d{9}',s)\n",
    "if m !=None:\n",
    "    print(s, 'is a valid mobile number')\n",
    "else:\n",
    "    print(s, 'is not a valid mobile number')"
   ]
  },
  {
   "cell_type": "code",
   "execution_count": 29,
   "metadata": {},
   "outputs": [
    {
     "name": "stdout",
     "output_type": "stream",
     "text": [
      "Enter the phone number+918879981449\n",
      "+918879981449 valid no.\n"
     ]
    }
   ],
   "source": [
    "#10, 11, 12 13 digit\n",
    "#10 : [6-9] [0-9]*\n",
    "#11: starts with 0\n",
    "#12: 91\n",
    "#13: +91\n",
    "import re\n",
    "s = input('Enter the phone number')\n",
    "m = re.fullmatch('(0|91|\\+91)?[6789]\\d{9}',s)\n",
    "if m !=None:\n",
    "    print(s, 'valid no.')\n",
    "else:\n",
    "    print(s, 'Invalid no.')"
   ]
  },
  {
   "cell_type": "code",
   "execution_count": 30,
   "metadata": {},
   "outputs": [
    {
     "name": "stdout",
     "output_type": "stream",
     "text": [
      "Enter the phone number78927625789\n",
      "78927625789 Invalid no.\n"
     ]
    }
   ],
   "source": [
    "import re\n",
    "s = input('Enter the phone number')\n",
    "m = re.fullmatch('(0|91|\\+91)?[6789]\\d{9}',s)\n",
    "if m !=None:\n",
    "    print(s, 'valid no.')\n",
    "else:\n",
    "    print(s, 'Invalid no.')"
   ]
  },
  {
   "cell_type": "code",
   "execution_count": 38,
   "metadata": {},
   "outputs": [
    {
     "name": "stdout",
     "output_type": "stream",
     "text": [
      "searching...... http://google.com\n",
      "<title>Google</title>\n",
      "searching...... https://rediff.com\n",
      "<title>Rediff.com: News | Rediffmail | Stock Quotes | Shopping</title>\n"
     ]
    }
   ],
   "source": [
    "#WebScraping\n",
    "#got to the page - right click - view page source code\n",
    "import re,urllib \n",
    "import urllib.request\n",
    "sites = ['http://google.com', 'https://rediff.com']\n",
    "for s in sites:\n",
    "    print('searching......', s)\n",
    "    u = urllib.request.urlopen(s)\n",
    "    text = u.read()\n",
    "    title = re.findall('<title>.*</title>', str(text), re.IGNORECASE)\n",
    "    print(title[0])"
   ]
  },
  {
   "cell_type": "code",
   "execution_count": 39,
   "metadata": {},
   "outputs": [
    {
     "name": "stdout",
     "output_type": "stream",
     "text": [
      "['(257) 563-7401', '(372) 587-2335', '(786) 713-8616', '(793) 151-6230', '(492) 709-6392', '(654) 393-5734', '(404) 960-3807', '(314) 244-6306', '(947) 278-5929', '(684) 579-1879', '(389) 737-2852', '(660) 663-4518', '(608) 265-2215', '(959) 119-8364', '(468) 353-2641', '(248) 675-4007', '(939) 353-1107', '(570) 873-7090', '(302) 259-2375', '(717) 450-4729', '(453) 391-4650', '(559) 104-5475', '(387) 142-9434', '(516) 745-4496', '(326) 677-3419', '(746) 679-2470', '(455) 430-0989', '(490) 936-4694', '(985) 834-8285', '(662) 661-1446', '(802) 668-8240', '(477) 768-9247', '(791) 239-9057', '(832) 109-0213', '(837) 196-3274', '(268) 442-2428', '(850) 676-5117', '(861) 546-5032', '(176) 805-4108', '(715) 912-6931', '(993) 554-0563', '(357) 616-5411', '(121) 347-0086', '(304) 506-6314', '(425) 288-2332', '(145) 987-4962', '(187) 582-9707', '(750) 558-3965', '(492) 467-3131', '(774) 914-2510', '(888) 106-8550', '(539) 567-3573', '(693) 337-2849', '(545) 604-9386', '(221) 156-5026', '(414) 876-0865', '(932) 726-8645', '(726) 710-9826', '(622) 594-1662', '(948) 600-8503', '(605) 900-7508', '(716) 977-5775', '(368) 239-8275', '(725) 342-0650', '(711) 993-5187', '(882) 399-5084', '(287) 755-9948', '(659) 551-3389', '(275) 730-6868', '(725) 757-4047', '(314) 882-1496', '(639) 360-7590', '(168) 222-1592', '(896) 303-1164', '(203) 982-6130', '(906) 217-1470', '(614) 514-1269', '(763) 409-5446', '(836) 292-5324', '(926) 709-3295', '(963) 356-9268', '(736) 522-8584', '(410) 483-0352', '(252) 204-1434', '(874) 886-4174', '(581) 379-7573', '(983) 632-8597', '(295) 983-3476', '(873) 392-8802', '(360) 669-3923', '(840) 987-9449', '(422) 517-6053', '(126) 940-2753', '(427) 930-5255', '(689) 721-5145', '(676) 334-2174', '(437) 994-5270', '(564) 908-6970', '(577) 333-6244', '(655) 840-6139']\n"
     ]
    }
   ],
   "source": [
    "#How to fetch all phone numbers from a website?\n",
    "import re\n",
    "url = 'https://www.summet.com/dmsi/html/codesamples/addresses.html'\n",
    "response = urllib.request.urlopen(url)\n",
    "html = response.read()\n",
    "htmlstr = html.decode()\n",
    "pdata = re.findall('\\(\\d{3}\\) \\d{3}-\\d{4}', htmlstr)\n",
    "print(pdata)\n"
   ]
  },
  {
   "cell_type": "code",
   "execution_count": 40,
   "metadata": {},
   "outputs": [
    {
     "name": "stdout",
     "output_type": "stream",
     "text": [
      "(257) 563-7401\n",
      "(372) 587-2335\n",
      "(786) 713-8616\n",
      "(793) 151-6230\n",
      "(492) 709-6392\n",
      "(654) 393-5734\n",
      "(404) 960-3807\n",
      "(314) 244-6306\n",
      "(947) 278-5929\n",
      "(684) 579-1879\n",
      "(389) 737-2852\n",
      "(660) 663-4518\n",
      "(608) 265-2215\n",
      "(959) 119-8364\n",
      "(468) 353-2641\n",
      "(248) 675-4007\n",
      "(939) 353-1107\n",
      "(570) 873-7090\n",
      "(302) 259-2375\n",
      "(717) 450-4729\n",
      "(453) 391-4650\n",
      "(559) 104-5475\n",
      "(387) 142-9434\n",
      "(516) 745-4496\n",
      "(326) 677-3419\n",
      "(746) 679-2470\n",
      "(455) 430-0989\n",
      "(490) 936-4694\n",
      "(985) 834-8285\n",
      "(662) 661-1446\n",
      "(802) 668-8240\n",
      "(477) 768-9247\n",
      "(791) 239-9057\n",
      "(832) 109-0213\n",
      "(837) 196-3274\n",
      "(268) 442-2428\n",
      "(850) 676-5117\n",
      "(861) 546-5032\n",
      "(176) 805-4108\n",
      "(715) 912-6931\n",
      "(993) 554-0563\n",
      "(357) 616-5411\n",
      "(121) 347-0086\n",
      "(304) 506-6314\n",
      "(425) 288-2332\n",
      "(145) 987-4962\n",
      "(187) 582-9707\n",
      "(750) 558-3965\n",
      "(492) 467-3131\n",
      "(774) 914-2510\n",
      "(888) 106-8550\n",
      "(539) 567-3573\n",
      "(693) 337-2849\n",
      "(545) 604-9386\n",
      "(221) 156-5026\n",
      "(414) 876-0865\n",
      "(932) 726-8645\n",
      "(726) 710-9826\n",
      "(622) 594-1662\n",
      "(948) 600-8503\n",
      "(605) 900-7508\n",
      "(716) 977-5775\n",
      "(368) 239-8275\n",
      "(725) 342-0650\n",
      "(711) 993-5187\n",
      "(882) 399-5084\n",
      "(287) 755-9948\n",
      "(659) 551-3389\n",
      "(275) 730-6868\n",
      "(725) 757-4047\n",
      "(314) 882-1496\n",
      "(639) 360-7590\n",
      "(168) 222-1592\n",
      "(896) 303-1164\n",
      "(203) 982-6130\n",
      "(906) 217-1470\n",
      "(614) 514-1269\n",
      "(763) 409-5446\n",
      "(836) 292-5324\n",
      "(926) 709-3295\n",
      "(963) 356-9268\n",
      "(736) 522-8584\n",
      "(410) 483-0352\n",
      "(252) 204-1434\n",
      "(874) 886-4174\n",
      "(581) 379-7573\n",
      "(983) 632-8597\n",
      "(295) 983-3476\n",
      "(873) 392-8802\n",
      "(360) 669-3923\n",
      "(840) 987-9449\n",
      "(422) 517-6053\n",
      "(126) 940-2753\n",
      "(427) 930-5255\n",
      "(689) 721-5145\n",
      "(676) 334-2174\n",
      "(437) 994-5270\n",
      "(564) 908-6970\n",
      "(577) 333-6244\n",
      "(655) 840-6139\n"
     ]
    }
   ],
   "source": [
    "#How to fetch all phone numbers from a website?\n",
    "import re\n",
    "url = 'https://www.summet.com/dmsi/html/codesamples/addresses.html'\n",
    "response = urllib.request.urlopen(url)\n",
    "html = response.read()\n",
    "htmlstr = html.decode()\n",
    "pdata = re.findall('\\(\\d{3}\\) \\d{3}-\\d{4}', htmlstr)\n",
    "for i in pdata:\n",
    "    print(i)"
   ]
  },
  {
   "cell_type": "code",
   "execution_count": 41,
   "metadata": {},
   "outputs": [
    {
     "name": "stdout",
     "output_type": "stream",
     "text": [
      "Enter the email IDjen92@gmail.com\n",
      "Valid\n"
     ]
    }
   ],
   "source": [
    "#check if email add is valid or not\n",
    "import re\n",
    "s = input('Enter the email ID')\n",
    "m = re.fullmatch('[a-zA-Z0-9_.]*@gmail[.]com', s)\n",
    "if m !=None:\n",
    "    print('Valid')\n",
    "else:\n",
    "    print('Invalid')"
   ]
  },
  {
   "cell_type": "code",
   "execution_count": 42,
   "metadata": {},
   "outputs": [
    {
     "name": "stdout",
     "output_type": "stream",
     "text": [
      "Enter the email IDjen92@rediff.com\n",
      "Valid\n"
     ]
    }
   ],
   "source": [
    "#check if email add is valid or not\n",
    "import re\n",
    "s = input('Enter the email ID')\n",
    "m = re.fullmatch('[a-zA-Z0-9_.]*@(gmail|rediff)[.]com', s)\n",
    "if m !=None:\n",
    "    print('Valid')\n",
    "else:\n",
    "    print('Invalid')"
   ]
  },
  {
   "cell_type": "code",
   "execution_count": 44,
   "metadata": {},
   "outputs": [
    {
     "name": "stdout",
     "output_type": "stream",
     "text": [
      "Enter the email IDjen@tv9.com\n",
      "Valid\n"
     ]
    }
   ],
   "source": [
    "#check if email add is valid or not\n",
    "import re\n",
    "s = input('Enter the email ID')\n",
    "m = re.fullmatch('[a-zA-Z0-9_.]*@[a-z0-9]+[.]com', s)\n",
    "if m !=None:\n",
    "    print('Valid')\n",
    "else:\n",
    "    print('Invalid')"
   ]
  },
  {
   "cell_type": "code",
   "execution_count": 45,
   "metadata": {},
   "outputs": [
    {
     "name": "stdout",
     "output_type": "stream",
     "text": [
      "Enter the email IDjen92@tv.in\n",
      "Valid\n"
     ]
    }
   ],
   "source": [
    "#check if email add is valid or not\n",
    "import re\n",
    "s = input('Enter the email ID')\n",
    "m = re.fullmatch('[a-zA-Z0-9_.]*@[a-z0-9]+[.]+[a-z]*', s)\n",
    "if m !=None:\n",
    "    print('Valid')\n",
    "else:\n",
    "    print('Invalid')"
   ]
  },
  {
   "cell_type": "code",
   "execution_count": null,
   "metadata": {},
   "outputs": [],
   "source": [
    "#Car registration number\n",
    "#MH14DT8745\n",
    "[A-Z][A-Z][0-9][0-9][A-Z][A-Z][0-9][0-9][0-9][0-9]"
   ]
  },
  {
   "cell_type": "code",
   "execution_count": 46,
   "metadata": {},
   "outputs": [
    {
     "name": "stdout",
     "output_type": "stream",
     "text": [
      "Enter the Car registration numberMH14DT8745\n",
      "Valid\n"
     ]
    }
   ],
   "source": [
    "import re\n",
    "s = input('Enter the Car registration number')\n",
    "m = re.fullmatch('[A-Z][A-Z][0-9][0-9][A-Z][A-Z][0-9][0-9][0-9][0-9]', s)\n",
    "if m !=None:\n",
    "    print('Valid')\n",
    "else:\n",
    "    print('Invalid')"
   ]
  }
 ],
 "metadata": {
  "kernelspec": {
   "display_name": "Python 3",
   "language": "python",
   "name": "python3"
  },
  "language_info": {
   "codemirror_mode": {
    "name": "ipython",
    "version": 3
   },
   "file_extension": ".py",
   "mimetype": "text/x-python",
   "name": "python",
   "nbconvert_exporter": "python",
   "pygments_lexer": "ipython3",
   "version": "3.7.6"
  }
 },
 "nbformat": 4,
 "nbformat_minor": 4
}
