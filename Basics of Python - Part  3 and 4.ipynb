{
 "cells": [
  {
   "cell_type": "code",
   "execution_count": null,
   "metadata": {},
   "outputs": [],
   "source": [
    "#Input and Output - This tutorial focuses on two built-in functions print() and input() to perform I/O task in Python. \n",
    "    #Also, you will learn to import modules and use them in your program.\n",
    "    #Python provides numerous built-in functions that are readily available to us at the Python prompt.\n",
    "    #Some of the functions like input() and print() are widely used for standard input and output operations respectively. \n",
    "#String Operations\n",
    "#Loops - if, elif, else, for and while\n",
    "#Functions"
   ]
  },
  {
   "cell_type": "code",
   "execution_count": null,
   "metadata": {},
   "outputs": [],
   "source": [
    "#Input - The input() function allows user input.\n",
    "#Syntax - input(prompt)\n",
    "#Parameter - A String, representing a default message before the input.\n",
    "#To convert this into a number we can use int() or float() functions.\n",
    "#This same operation can be performed using the eval() function. \n",
    "#But eval takes it further. It can evaluate even expressions, provided the input is a string."
   ]
  },
  {
   "cell_type": "code",
   "execution_count": 3,
   "metadata": {},
   "outputs": [
    {
     "name": "stdout",
     "output_type": "stream",
     "text": [
      "Enter your age:28\n"
     ]
    },
    {
     "data": {
      "text/plain": [
       "28"
      ]
     },
     "execution_count": 3,
     "metadata": {},
     "output_type": "execute_result"
    }
   ],
   "source": [
    "int(input('Enter your age:'))"
   ]
  },
  {
   "cell_type": "code",
   "execution_count": 6,
   "metadata": {},
   "outputs": [
    {
     "name": "stdout",
     "output_type": "stream",
     "text": [
      "Enter 5 numbers:22 32 45 32 22\n"
     ]
    }
   ],
   "source": [
    "#How to read multiple values from the keyboard in a single line?\n",
    "a = input('Enter 5 numbers:').split()\n",
    "#split = space and converts it into a list - you can any separator"
   ]
  },
  {
   "cell_type": "code",
   "execution_count": 7,
   "metadata": {},
   "outputs": [
    {
     "data": {
      "text/plain": [
       "['22', '32', '45', '32', '22']"
      ]
     },
     "execution_count": 7,
     "metadata": {},
     "output_type": "execute_result"
    }
   ],
   "source": [
    "a"
   ]
  },
  {
   "cell_type": "code",
   "execution_count": 10,
   "metadata": {},
   "outputs": [
    {
     "name": "stdout",
     "output_type": "stream",
     "text": [
      "Enter 5 numbers:22:33:34:12:90\n"
     ]
    }
   ],
   "source": [
    "a = input('Enter 5 numbers:').split(':')"
   ]
  },
  {
   "cell_type": "code",
   "execution_count": 11,
   "metadata": {},
   "outputs": [
    {
     "data": {
      "text/plain": [
       "['22', '33', '34', '12', '90']"
      ]
     },
     "execution_count": 11,
     "metadata": {},
     "output_type": "execute_result"
    }
   ],
   "source": [
    "a"
   ]
  },
  {
   "cell_type": "code",
   "execution_count": null,
   "metadata": {},
   "outputs": [],
   "source": [
    "#How to add these values as integers?"
   ]
  },
  {
   "cell_type": "code",
   "execution_count": 14,
   "metadata": {},
   "outputs": [
    {
     "name": "stdout",
     "output_type": "stream",
     "text": [
      "Enter 5 numbers:45,22,32,22,32\n"
     ]
    }
   ],
   "source": [
    "a = [int(x) for x in input('Enter 5 numbers:').split(',')]"
   ]
  },
  {
   "cell_type": "code",
   "execution_count": 15,
   "metadata": {},
   "outputs": [
    {
     "data": {
      "text/plain": [
       "[45, 22, 32, 22, 32]"
      ]
     },
     "execution_count": 15,
     "metadata": {},
     "output_type": "execute_result"
    }
   ],
   "source": [
    "a"
   ]
  },
  {
   "cell_type": "code",
   "execution_count": 16,
   "metadata": {},
   "outputs": [
    {
     "data": {
      "text/plain": [
       "list"
      ]
     },
     "execution_count": 16,
     "metadata": {},
     "output_type": "execute_result"
    }
   ],
   "source": [
    "type(a)"
   ]
  },
  {
   "cell_type": "code",
   "execution_count": 18,
   "metadata": {},
   "outputs": [
    {
     "name": "stdout",
     "output_type": "stream",
     "text": [
      "Enter 5 numbers:10,20,20,30,40\n",
      "The sum is: 120\n"
     ]
    }
   ],
   "source": [
    "a,b,c,d,e = [int(x) for x in input('Enter 5 numbers:').split(',')]\n",
    "print('The sum is:', a+b+c+d+e)"
   ]
  },
  {
   "cell_type": "code",
   "execution_count": null,
   "metadata": {},
   "outputs": [],
   "source": [
    "#How to put number, string, boolean etc?"
   ]
  },
  {
   "cell_type": "code",
   "execution_count": 26,
   "metadata": {},
   "outputs": [
    {
     "name": "stdout",
     "output_type": "stream",
     "text": [
      "Enter 5 numbers:'Jen', 10, True, 3.5, 10.6\n",
      "<class 'str'>\n",
      "<class 'int'>\n",
      "<class 'bool'>\n",
      "<class 'float'>\n",
      "<class 'float'>\n"
     ]
    }
   ],
   "source": [
    "a,b,c,d,e = [eval(x) for x in input('Enter 5 numbers:').split(',')]\n",
    "print(type(a))\n",
    "print(type(b))\n",
    "print(type(c))\n",
    "print(type(d))\n",
    "print(type(e))"
   ]
  },
  {
   "cell_type": "code",
   "execution_count": null,
   "metadata": {},
   "outputs": [],
   "source": [
    "#Output - The Python print statement is often used to output variables.\n",
    "#To combine both text and a variable, Python uses the + character:\n",
    "#You can also use the comma character , to print more than one string/variable:\n",
    "#We use the print() function to output data to the standard output device (screen)."
   ]
  },
  {
   "cell_type": "code",
   "execution_count": 29,
   "metadata": {},
   "outputs": [
    {
     "name": "stdout",
     "output_type": "stream",
     "text": [
      "Hello\n",
      "\n",
      "Hi\n"
     ]
    }
   ],
   "source": [
    "print('Hello')\n",
    "print()\n",
    "print('Hi')"
   ]
  },
  {
   "cell_type": "code",
   "execution_count": 30,
   "metadata": {},
   "outputs": [
    {
     "name": "stdout",
     "output_type": "stream",
     "text": [
      "Hello\n",
      " all\n"
     ]
    }
   ],
   "source": [
    "print('Hello\\n all')"
   ]
  },
  {
   "cell_type": "code",
   "execution_count": 31,
   "metadata": {},
   "outputs": [
    {
     "name": "stdout",
     "output_type": "stream",
     "text": [
      "Hello\t all\n"
     ]
    }
   ],
   "source": [
    "print('Hello\\t all')"
   ]
  },
  {
   "cell_type": "code",
   "execution_count": 33,
   "metadata": {},
   "outputs": [
    {
     "name": "stdout",
     "output_type": "stream",
     "text": [
      "Jennifer Joseph\n"
     ]
    }
   ],
   "source": [
    "print('Jennifer' + ' ' + 'Joseph')"
   ]
  },
  {
   "cell_type": "code",
   "execution_count": 34,
   "metadata": {},
   "outputs": [
    {
     "name": "stdout",
     "output_type": "stream",
     "text": [
      "The values are:  10 20 30\n"
     ]
    }
   ],
   "source": [
    "a,b,c = 10,20,30\n",
    "print('The values are: ', a, b, c)"
   ]
  },
  {
   "cell_type": "code",
   "execution_count": 36,
   "metadata": {},
   "outputs": [
    {
     "name": "stdout",
     "output_type": "stream",
     "text": [
      "10 20 30\n",
      "10,20,30\n",
      "10:20:30\n"
     ]
    }
   ],
   "source": [
    "a,b,c = 10,20,30\n",
    "print(a,b,c)\n",
    "print(a,b,c,sep=',')\n",
    "print(a,b,c,sep=':')"
   ]
  },
  {
   "cell_type": "code",
   "execution_count": 43,
   "metadata": {},
   "outputs": [
    {
     "name": "stdout",
     "output_type": "stream",
     "text": [
      "Hello students! Welcome to the Python World! "
     ]
    }
   ],
   "source": [
    "#end = space\n",
    "print('Hello', end = ' ')\n",
    "print('students', end = '!' +' ')\n",
    "print('Welcome to the Python World', end = '!' + ' ')"
   ]
  },
  {
   "cell_type": "code",
   "execution_count": 44,
   "metadata": {},
   "outputs": [
    {
     "name": "stdout",
     "output_type": "stream",
     "text": [
      "10-20-30-40-50---------"
     ]
    }
   ],
   "source": [
    "print(10,20,30,40,50,sep = '-', end = '---------')"
   ]
  },
  {
   "cell_type": "code",
   "execution_count": 50,
   "metadata": {
    "scrolled": true
   },
   "outputs": [
    {
     "name": "stdout",
     "output_type": "stream",
     "text": [
      "[10, 20, 30, 40]\n",
      "(10, 20, 30, 40)\n",
      "{40, 10, 20, 30}\n"
     ]
    }
   ],
   "source": [
    "list1 = [10,20,30,40]\n",
    "Tuple1 = (10,20,30,40)\n",
    "Set1 = {10,20,30,40}\n",
    "print(list1)\n",
    "print(Tuple1)\n",
    "print(Set1)"
   ]
  },
  {
   "cell_type": "code",
   "execution_count": 48,
   "metadata": {},
   "outputs": [
    {
     "name": "stdout",
     "output_type": "stream",
     "text": [
      "[10, 20, 30, 40] (10, 20, 30, 40) {40, 10, 20, 30} "
     ]
    }
   ],
   "source": [
    "list1 = [10,20,30,40]\n",
    "Tuple1 = (10,20,30,40)\n",
    "Set1 = {10,20,30,40}\n",
    "print(list1, end = ' ')\n",
    "print(Tuple1, end = ' ')\n",
    "print(Set1, end = ' ')"
   ]
  },
  {
   "cell_type": "code",
   "execution_count": 49,
   "metadata": {},
   "outputs": [
    {
     "name": "stdout",
     "output_type": "stream",
     "text": [
      "[10, 20, 30, 40]:(10, 20, 30, 40): {40, 10, 20, 30}: "
     ]
    }
   ],
   "source": [
    "print(list1, end = ':')\n",
    "print(Tuple1, end = ': ')\n",
    "print(Set1, end = ': ')"
   ]
  },
  {
   "cell_type": "code",
   "execution_count": 55,
   "metadata": {},
   "outputs": [
    {
     "name": "stdout",
     "output_type": "stream",
     "text": [
      "[10, 20, 30, 40]+(10, 20, 30, 40)+{40, 10, 20, 30}\n"
     ]
    }
   ],
   "source": [
    "list1 = [10,20,30,40]\n",
    "Tuple1 = (10,20,30,40)\n",
    "Set1 = {10,20,30,40}\n",
    "print(list1, Tuple1, Set1, sep= '+')"
   ]
  },
  {
   "cell_type": "code",
   "execution_count": 60,
   "metadata": {},
   "outputs": [
    {
     "name": "stdout",
     "output_type": "stream",
     "text": [
      "The value of a is 10\n",
      "The value of a is 10.500000\n"
     ]
    }
   ],
   "source": [
    "a,b,c = 10.5, 20, 30\n",
    "#integer (i or integer)\n",
    "print('The value of a is %i' %a)    \n",
    "#float (f or float)\n",
    "print('The value of a is %f' %a)"
   ]
  },
  {
   "cell_type": "code",
   "execution_count": 62,
   "metadata": {},
   "outputs": [
    {
     "name": "stdout",
     "output_type": "stream",
     "text": [
      "Hello Jennifer, your salary is 100000 and your company is Wipro\n"
     ]
    }
   ],
   "source": [
    "#Replacement Operator in Print\n",
    "name = 'Jennifer'\n",
    "Salary = 100000\n",
    "Company = 'Wipro'\n",
    "\n",
    "print('Hello {}, your salary is {} and your company is {}'.format(name, Salary, Company))"
   ]
  },
  {
   "cell_type": "code",
   "execution_count": 63,
   "metadata": {},
   "outputs": [
    {
     "name": "stdout",
     "output_type": "stream",
     "text": [
      "Hello Wipro, your salary is 100000 and your company is Jennifer\n"
     ]
    }
   ],
   "source": [
    "print('Hello {}, your salary is {} and your company is {}'.format(Company, Salary, name))"
   ]
  },
  {
   "cell_type": "code",
   "execution_count": 64,
   "metadata": {},
   "outputs": [
    {
     "name": "stdout",
     "output_type": "stream",
     "text": [
      "Hello Wipro, your salary is 100000 and your company is Jennifer\n"
     ]
    }
   ],
   "source": [
    "print('Hello {2}, your salary is {1} and your company is {0}'.format(name, Salary, Company))"
   ]
  },
  {
   "cell_type": "code",
   "execution_count": 65,
   "metadata": {},
   "outputs": [
    {
     "name": "stdout",
     "output_type": "stream",
     "text": [
      "Hello Jennifer, your salary is 100000 and your company is Wipro\n"
     ]
    }
   ],
   "source": [
    "print('Hello {n}, your salary is {s} and your company is {c}'.format(n = name, s = Salary, c = Company))"
   ]
  },
  {
   "cell_type": "code",
   "execution_count": null,
   "metadata": {},
   "outputs": [],
   "source": [
    "#If and Else - Conditional Statements\n",
    "#Python supports the usual logical conditions from mathematics:\n",
    "    #Equals: a == b\n",
    "    #Not Equals: a != b\n",
    "    #Less than: a < b\n",
    "    #Less than or equal to: a <= b\n",
    "    #Greater than: a > b\n",
    "    #Greater than or equal to: a >= b\n",
    "#These conditions can be used in several ways, most commonly in \"if statements\" and loops.\n",
    "#An \"if statement\" is written by using the if keyword.\n",
    "#If there are multiple conditions then user multiple elifs"
   ]
  },
  {
   "cell_type": "code",
   "execution_count": 70,
   "metadata": {},
   "outputs": [
    {
     "name": "stdout",
     "output_type": "stream",
     "text": [
      "b is greater than a\n"
     ]
    }
   ],
   "source": [
    "a = 33\n",
    "b = 200\n",
    "if b>a:\n",
    "    print('b is greater than a')"
   ]
  },
  {
   "cell_type": "code",
   "execution_count": 75,
   "metadata": {},
   "outputs": [
    {
     "name": "stdout",
     "output_type": "stream",
     "text": [
      "You are excellent!\n"
     ]
    }
   ],
   "source": [
    "marks = 88\n",
    "if marks <35:\n",
    "    print('You have failed!')\n",
    "elif marks >=35 and marks <=50:\n",
    "    print('You have got first class!')\n",
    "else:\n",
    "    print(\"You are excellent!\")"
   ]
  },
  {
   "cell_type": "code",
   "execution_count": 76,
   "metadata": {},
   "outputs": [
    {
     "name": "stdout",
     "output_type": "stream",
     "text": [
      "B\n"
     ]
    }
   ],
   "source": [
    "a = 2\n",
    "b = 330\n",
    "print(\"A\") if a > b else print(\"B\")\n",
    "#This technique is known as Ternary Operators, or Conditional Expressions."
   ]
  },
  {
   "cell_type": "code",
   "execution_count": 79,
   "metadata": {},
   "outputs": [
    {
     "name": "stdout",
     "output_type": "stream",
     "text": [
      "Enter first number:30\n",
      "Enter first number:40\n",
      "y is larger\n"
     ]
    }
   ],
   "source": [
    "x = int(input('Enter first number:'))\n",
    "y = int(input('Enter first number:'))\n",
    "if x>y:\n",
    "    print('x is larger')\n",
    "else:\n",
    "    print('y is larger')"
   ]
  },
  {
   "cell_type": "code",
   "execution_count": 85,
   "metadata": {},
   "outputs": [
    {
     "name": "stdout",
     "output_type": "stream",
     "text": [
      "Enter first number:2\n",
      "This is an Even number.\n"
     ]
    }
   ],
   "source": [
    "#how to showcase if a number is even or odd?\n",
    "x = int(input('Enter first number:'))\n",
    "if x%2 == 0:\n",
    "    print('This is an Even number.')\n",
    "else:\n",
    "    print('This is an Odd number.')"
   ]
  },
  {
   "cell_type": "code",
   "execution_count": null,
   "metadata": {},
   "outputs": [],
   "source": [
    "#For loop\n",
    "#A for loop is used for iterating over a sequence (that is either a list, a tuple, a dictionary, a set, or a string).\n",
    "#This is less like the for keyword in other programming languages, and works more like an iterator method as found in other object-orientated programming languages.\n",
    "#With the for loop we can execute a set of statements, once for each item in a list, tuple, set etc."
   ]
  },
  {
   "cell_type": "code",
   "execution_count": 86,
   "metadata": {},
   "outputs": [
    {
     "name": "stdout",
     "output_type": "stream",
     "text": [
      "J\n",
      "e\n",
      "n\n",
      "n\n",
      "i\n",
      "f\n",
      "e\n",
      "r\n"
     ]
    }
   ],
   "source": [
    "a = 'Jennifer'\n",
    "for i in a:\n",
    "    print(i)"
   ]
  },
  {
   "cell_type": "code",
   "execution_count": 88,
   "metadata": {},
   "outputs": [],
   "source": [
    "#How to count the number of characters?"
   ]
  },
  {
   "cell_type": "code",
   "execution_count": 93,
   "metadata": {},
   "outputs": [
    {
     "name": "stdout",
     "output_type": "stream",
     "text": [
      "52\n"
     ]
    }
   ],
   "source": [
    "a = 'This is Python for loop and it is an amazing concept'\n",
    "count = 0\n",
    "for x in a:\n",
    "    count = count+1\n",
    "print(count)"
   ]
  },
  {
   "cell_type": "code",
   "execution_count": 91,
   "metadata": {},
   "outputs": [
    {
     "data": {
      "text/plain": [
       "52"
      ]
     },
     "execution_count": 91,
     "metadata": {},
     "output_type": "execute_result"
    }
   ],
   "source": [
    "len(a)"
   ]
  },
  {
   "cell_type": "code",
   "execution_count": 94,
   "metadata": {},
   "outputs": [
    {
     "name": "stdout",
     "output_type": "stream",
     "text": [
      "J\n",
      "e\n",
      "n\n",
      "n\n",
      "i\n",
      "f\n",
      "e\n",
      "r\n"
     ]
    }
   ],
   "source": [
    "#How to find Index of a word?\n",
    "a = 'Jennifer'\n",
    "for i in range(len(a)):\n",
    "    print(a[i])\n",
    "    "
   ]
  },
  {
   "cell_type": "code",
   "execution_count": 95,
   "metadata": {},
   "outputs": [
    {
     "name": "stdout",
     "output_type": "stream",
     "text": [
      "(0, 'J')\n",
      "(1, 'e')\n",
      "(2, 'n')\n",
      "(3, 'n')\n",
      "(4, 'i')\n",
      "(5, 'f')\n",
      "(6, 'e')\n",
      "(7, 'r')\n"
     ]
    }
   ],
   "source": [
    "F = [(i, a[i]) for i in range(len(a))]\n",
    "for tup in F:\n",
    "    print(tup)"
   ]
  },
  {
   "cell_type": "code",
   "execution_count": 97,
   "metadata": {},
   "outputs": [
    {
     "name": "stdout",
     "output_type": "stream",
     "text": [
      "0.12583745994756773\n",
      "0.1337854500616523\n",
      "0.06457046603032005\n",
      "0.10316985645933015\n"
     ]
    }
   ],
   "source": [
    "#How to find the ratio using for loop?\n",
    "sales = [3433, 3244, 5343, 3344]\n",
    "profit = [432, 434, 345, 345]\n",
    "for i in range (0, len(sales)):\n",
    "    print(profit[i]/sales[i])"
   ]
  },
  {
   "cell_type": "code",
   "execution_count": 98,
   "metadata": {},
   "outputs": [
    {
     "name": "stdout",
     "output_type": "stream",
     "text": [
      "0.12583745994756773\n",
      "0.1337854500616523\n",
      "0.06457046603032005\n",
      "0.10316985645933015\n"
     ]
    }
   ],
   "source": [
    "#zip: will allow to parallely iterate on multiple list\n",
    "for (p,s) in zip(profit,sales):\n",
    "    print(p/s)"
   ]
  },
  {
   "cell_type": "code",
   "execution_count": 103,
   "metadata": {},
   "outputs": [],
   "source": [
    "#While Loops: With the while loop we can execute a set of statements as long as a condition is true.\n",
    "#Print i as long as i is less than 6\n",
    "#Note: remember to increment i, or else the loop will continue forever.\n",
    "#The while loop requires relevant variables to be ready, \n",
    "#in this example we need to define an indexing variable, i, which we set to 1."
   ]
  },
  {
   "cell_type": "code",
   "execution_count": 102,
   "metadata": {},
   "outputs": [
    {
     "name": "stdout",
     "output_type": "stream",
     "text": [
      "1\n",
      "2\n",
      "3\n",
      "4\n",
      "5\n"
     ]
    }
   ],
   "source": [
    "i = 1\n",
    "while i < 6:\n",
    "  print(i)\n",
    "  i += 1"
   ]
  },
  {
   "cell_type": "code",
   "execution_count": 2,
   "metadata": {},
   "outputs": [
    {
     "name": "stdout",
     "output_type": "stream",
     "text": [
      "Total coupons are: 5\n",
      "Total coupons are: 4\n",
      "Total coupons are: 3\n",
      "Total coupons are: 2\n",
      "Total coupons are: 1\n",
      "Total coupons are: 0\n",
      "No coupons left\n"
     ]
    }
   ],
   "source": [
    "coupons = 5\n",
    "utilized  = 0\n",
    "while utilized <6:\n",
    "    print('Total coupons are:', coupons-utilized)\n",
    "    utilized = utilized+1\n",
    "print('No coupons left')"
   ]
  },
  {
   "cell_type": "code",
   "execution_count": null,
   "metadata": {},
   "outputs": [],
   "source": [
    "#While True:\n",
    "#Print('Hi')\n",
    "#infinite times it will be printed"
   ]
  },
  {
   "cell_type": "code",
   "execution_count": null,
   "metadata": {},
   "outputs": [],
   "source": [
    "#Difference between for and while loop\n",
    "#Both the loops are used for repeating a set of statements a fixed number of times. \n",
    "#The difference is only in the syntax of the two.\n",
    "#The 'for' loop is more appropriate for use in case the number of iterations is known in advance.\n",
    "#The 'while' loop is preferably used in case the number of iterations is not specified beforehand."
   ]
  },
  {
   "cell_type": "code",
   "execution_count": null,
   "metadata": {},
   "outputs": [],
   "source": [
    "#Functions in Python\n",
    "#A function is a block of code which only runs when it is called.\n",
    "#You can pass data, known as parameters, into a function.\n",
    "#A function can return data as a result.\n",
    "#In Python a function is defined using the def keyword:"
   ]
  },
  {
   "cell_type": "code",
   "execution_count": 3,
   "metadata": {},
   "outputs": [
    {
     "name": "stdout",
     "output_type": "stream",
     "text": [
      "Good Morning!\n"
     ]
    }
   ],
   "source": [
    "def greeting():\n",
    "    print('Good Morning!')\n",
    "greeting()"
   ]
  },
  {
   "cell_type": "code",
   "execution_count": 3,
   "metadata": {},
   "outputs": [
    {
     "name": "stdout",
     "output_type": "stream",
     "text": [
      "Hello Jennifer! Good Morning!\n"
     ]
    }
   ],
   "source": [
    "def greeting (name):\n",
    "    print('Hello', name, 'Good Morning!')\n",
    "greeting('Jennifer!')"
   ]
  },
  {
   "cell_type": "code",
   "execution_count": 9,
   "metadata": {},
   "outputs": [
    {
     "name": "stdout",
     "output_type": "stream",
     "text": [
      "Hello Guest Good Morning!\n"
     ]
    }
   ],
   "source": [
    "def greeting(name = 'Guest'):\n",
    "    '''This fuction helps me to greet guest'''\n",
    "    print('Hello', name, 'Good Morning!')\n",
    "greeting()"
   ]
  },
  {
   "cell_type": "code",
   "execution_count": 13,
   "metadata": {},
   "outputs": [
    {
     "name": "stdout",
     "output_type": "stream",
     "text": [
      "Enter your nameJesus\n",
      "Hello Jesus Good Morning!\n"
     ]
    }
   ],
   "source": [
    "a = input('Enter your name')\n",
    "def greeting(name):\n",
    "    print('Hello', name, 'Good Morning!')\n",
    "greeting(a)"
   ]
  },
  {
   "cell_type": "code",
   "execution_count": 16,
   "metadata": {},
   "outputs": [
    {
     "name": "stdout",
     "output_type": "stream",
     "text": [
      "33 number is odd\n"
     ]
    }
   ],
   "source": [
    "#How to know if a number is odd or even?\n",
    "#n%2 : n is a number that when divided by 2 has no remainder, i.e. any even number\n",
    "def evenodd(n):\n",
    "    if n%2==0:\n",
    "        print('{} number is even' . format(n))\n",
    "    else:\n",
    "        print('{} number is odd' . format(n))\n",
    "evenodd(33)"
   ]
  },
  {
   "cell_type": "code",
   "execution_count": 20,
   "metadata": {},
   "outputs": [
    {
     "data": {
      "text/plain": [
       "3628800"
      ]
     },
     "execution_count": 20,
     "metadata": {},
     "output_type": "execute_result"
    }
   ],
   "source": [
    "#how to find factorial of a number?\n",
    "def fact(n):\n",
    "    result = 1\n",
    "    while n>1:\n",
    "        result = result * n\n",
    "        n = n-1\n",
    "    return result\n",
    "fact(10)"
   ]
  },
  {
   "cell_type": "code",
   "execution_count": 21,
   "metadata": {},
   "outputs": [
    {
     "name": "stdout",
     "output_type": "stream",
     "text": [
      "The factorial of 1 is 1\n",
      "The factorial of 2 is 2\n",
      "The factorial of 3 is 6\n",
      "The factorial of 4 is 24\n",
      "The factorial of 5 is 120\n",
      "The factorial of 6 is 720\n",
      "The factorial of 7 is 5040\n",
      "The factorial of 8 is 40320\n",
      "The factorial of 9 is 362880\n",
      "The factorial of 10 is 3628800\n"
     ]
    }
   ],
   "source": [
    "#How to find factorial from a range?\n",
    "for i in range(1,11):\n",
    "    print('The factorial of {} is {}'. format(i, fact(i)))"
   ]
  },
  {
   "cell_type": "code",
   "execution_count": 29,
   "metadata": {},
   "outputs": [
    {
     "name": "stdout",
     "output_type": "stream",
     "text": [
      "900\n",
      "0.9\n"
     ]
    }
   ],
   "source": [
    "def financials(revenue, expense):\n",
    "    profit = revenue-expense\n",
    "    profitratio = profit/revenue\n",
    "    print(profit)\n",
    "    print(profitratio)\n",
    "a = financials(1000, 100)"
   ]
  },
  {
   "cell_type": "code",
   "execution_count": 30,
   "metadata": {},
   "outputs": [
    {
     "data": {
      "text/plain": [
       "NoneType"
      ]
     },
     "execution_count": 30,
     "metadata": {},
     "output_type": "execute_result"
    }
   ],
   "source": [
    "type(a)"
   ]
  },
  {
   "cell_type": "code",
   "execution_count": 36,
   "metadata": {},
   "outputs": [],
   "source": [
    "#how to save a function to a variable? don't use print\n",
    "def financials(revenue, expense):\n",
    "    profit = revenue-expense\n",
    "    profitratio = profit/revenue\n",
    "    return {'profit': profit, 'profitratio': profitratio}\n",
    "a = financials(1000, 100)"
   ]
  },
  {
   "cell_type": "code",
   "execution_count": 33,
   "metadata": {},
   "outputs": [
    {
     "data": {
      "text/plain": [
       "tuple"
      ]
     },
     "execution_count": 33,
     "metadata": {},
     "output_type": "execute_result"
    }
   ],
   "source": [
    "type(a)"
   ]
  },
  {
   "cell_type": "code",
   "execution_count": 37,
   "metadata": {},
   "outputs": [
    {
     "data": {
      "text/plain": [
       "{'profit': 900, 'profitratio': 0.9}"
      ]
     },
     "execution_count": 37,
     "metadata": {},
     "output_type": "execute_result"
    }
   ],
   "source": [
    "a"
   ]
  },
  {
   "cell_type": "code",
   "execution_count": null,
   "metadata": {},
   "outputs": [],
   "source": [
    "#Types of arguments in a function: An argument is simply a value provided to a function when you call it\n",
    "#1. Positional argument\n",
    "#2. Keyword argument\n",
    "#3. Default argument - A default argument is a value provided in a function declaration that is automatically assigned by the compiler \n",
    "    #if the caller of the function doesn't provide a value for the argument with a default value.\n",
    "#4. Variable length argument"
   ]
  },
  {
   "cell_type": "code",
   "execution_count": 1,
   "metadata": {},
   "outputs": [
    {
     "name": "stdout",
     "output_type": "stream",
     "text": [
      "30\n"
     ]
    }
   ],
   "source": [
    "#1. Positional argument\n",
    "def sum(a,b):\n",
    "    print(a+b)\n",
    "sum(10,20)  "
   ]
  },
  {
   "cell_type": "code",
   "execution_count": 3,
   "metadata": {},
   "outputs": [
    {
     "name": "stdout",
     "output_type": "stream",
     "text": [
      "Hello Jennifer Welcome\n"
     ]
    }
   ],
   "source": [
    "#2. Keyword argument\n",
    "def greeting(name, msg):\n",
    "    print(\"Hello\", name, msg)\n",
    "greeting(name = 'Jennifer', msg = 'Welcome')"
   ]
  },
  {
   "cell_type": "code",
   "execution_count": 4,
   "metadata": {},
   "outputs": [
    {
     "name": "stdout",
     "output_type": "stream",
     "text": [
      "Hello student Welcome\n"
     ]
    }
   ],
   "source": [
    "#3. Default argument\n",
    "def greetings (name = 'student'):\n",
    "    print(\"Hello\", name, \"Welcome\")\n",
    "greetings()"
   ]
  },
  {
   "cell_type": "code",
   "execution_count": 6,
   "metadata": {},
   "outputs": [
    {
     "name": "stdout",
     "output_type": "stream",
     "text": [
      "70\n"
     ]
    }
   ],
   "source": [
    "#4. Variable length argument \n",
    "def sum(a,b):\n",
    "    print(a+b)\n",
    "sum(30,40)"
   ]
  },
  {
   "cell_type": "code",
   "execution_count": 7,
   "metadata": {},
   "outputs": [],
   "source": [
    "def sum(*a):    #- if I want to submit three variables here, will it work.\n",
    "    result = 0\n",
    "    for i in a:\n",
    "        result = result+i\n",
    "    print(result)"
   ]
  },
  {
   "cell_type": "code",
   "execution_count": 9,
   "metadata": {},
   "outputs": [
    {
     "name": "stdout",
     "output_type": "stream",
     "text": [
      "1150\n"
     ]
    }
   ],
   "source": [
    "sum(100, 400, 500, 100, 50)"
   ]
  },
  {
   "cell_type": "code",
   "execution_count": 14,
   "metadata": {},
   "outputs": [],
   "source": [
    "#How to call another function in a function?\n",
    "def outer():\n",
    "    print(\"This is outer function\")\n",
    "    def inner():\n",
    "        print(\"This is inner function\")\n",
    "    inner()"
   ]
  },
  {
   "cell_type": "code",
   "execution_count": 15,
   "metadata": {},
   "outputs": [
    {
     "name": "stdout",
     "output_type": "stream",
     "text": [
      "This is outer function\n",
      "This is inner function\n"
     ]
    }
   ],
   "source": [
    "outer()"
   ]
  },
  {
   "cell_type": "code",
   "execution_count": null,
   "metadata": {},
   "outputs": [],
   "source": [
    "#lamda function - It is a small anonymous function.\n",
    "# a vague way of writing a function\n",
    "#A lambda function can take any number of arguments, but can only have one expression."
   ]
  },
  {
   "cell_type": "code",
   "execution_count": 18,
   "metadata": {},
   "outputs": [
    {
     "data": {
      "text/plain": [
       "49"
      ]
     },
     "execution_count": 18,
     "metadata": {},
     "output_type": "execute_result"
    }
   ],
   "source": [
    "def square(n):\n",
    "    return n*n\n",
    "square(7)"
   ]
  },
  {
   "cell_type": "code",
   "execution_count": 20,
   "metadata": {},
   "outputs": [
    {
     "data": {
      "text/plain": [
       "16"
      ]
     },
     "execution_count": 20,
     "metadata": {},
     "output_type": "execute_result"
    }
   ],
   "source": [
    "m1 = lambda n: n*n\n",
    "m1(4)"
   ]
  },
  {
   "cell_type": "code",
   "execution_count": 24,
   "metadata": {},
   "outputs": [
    {
     "data": {
      "text/plain": [
       "5"
      ]
     },
     "execution_count": 24,
     "metadata": {},
     "output_type": "execute_result"
    }
   ],
   "source": [
    "s = lambda a,b : a+b\n",
    "s(2,3)"
   ]
  },
  {
   "cell_type": "code",
   "execution_count": 26,
   "metadata": {},
   "outputs": [
    {
     "data": {
      "text/plain": [
       "9"
      ]
     },
     "execution_count": 26,
     "metadata": {},
     "output_type": "execute_result"
    }
   ],
   "source": [
    "s = lambda a,b : a if a >b else b\n",
    "s (1,9)"
   ]
  }
 ],
 "metadata": {
  "kernelspec": {
   "display_name": "Python 3",
   "language": "python",
   "name": "python3"
  },
  "language_info": {
   "codemirror_mode": {
    "name": "ipython",
    "version": 3
   },
   "file_extension": ".py",
   "mimetype": "text/x-python",
   "name": "python",
   "nbconvert_exporter": "python",
   "pygments_lexer": "ipython3",
   "version": "3.7.6"
  }
 },
 "nbformat": 4,
 "nbformat_minor": 4
}
