{
 "cells": [
  {
   "cell_type": "code",
   "execution_count": null,
   "metadata": {},
   "outputs": [],
   "source": [
    "#Classification Hands on \n",
    "#Clustering \n",
    "    #Theory\n",
    "    #Practical "
   ]
  },
  {
   "cell_type": "code",
   "execution_count": 4,
   "metadata": {},
   "outputs": [],
   "source": [
    "import pandas as pd\n",
    "import numpy as np\n",
    "import seaborn as sns\n",
    "import os"
   ]
  },
  {
   "cell_type": "code",
   "execution_count": 5,
   "metadata": {},
   "outputs": [
    {
     "data": {
      "text/plain": [
       "'C:\\\\Users\\\\je638474'"
      ]
     },
     "execution_count": 5,
     "metadata": {},
     "output_type": "execute_result"
    }
   ],
   "source": [
    "os.getcwd()"
   ]
  },
  {
   "cell_type": "code",
   "execution_count": 6,
   "metadata": {},
   "outputs": [],
   "source": [
    "os.chdir(r'C:\\Users\\je638474\\Documents\\JJ\\Folders\\Udemy\\Python EDUREKA')"
   ]
  },
  {
   "cell_type": "code",
   "execution_count": 7,
   "metadata": {},
   "outputs": [],
   "source": [
    "data = pd.read_csv('Social_Network_Ads.csv')"
   ]
  },
  {
   "cell_type": "code",
   "execution_count": 8,
   "metadata": {},
   "outputs": [],
   "source": [
    "x = data.iloc[:,2:4].values"
   ]
  },
  {
   "cell_type": "code",
   "execution_count": 9,
   "metadata": {},
   "outputs": [],
   "source": [
    "y = data.iloc[:,4].values"
   ]
  },
  {
   "cell_type": "code",
   "execution_count": 10,
   "metadata": {},
   "outputs": [],
   "source": [
    "from sklearn.preprocessing import StandardScaler\n",
    "sc_x = StandardScaler()\n",
    "x = sc_x.fit_transform(x)"
   ]
  },
  {
   "cell_type": "code",
   "execution_count": 11,
   "metadata": {},
   "outputs": [
    {
     "data": {
      "text/plain": [
       "array([[ 0.17951354,  0.76103154],\n",
       "       [ 1.11315372, -1.14804259],\n",
       "       [ 1.622412  ,  0.39722026],\n",
       "       [-0.0751156 , -1.63500628],\n",
       "       [-0.0751156 ,  0.51296235],\n",
       "       [-0.0751156 ,  0.27205647],\n",
       "       [-1.68776681, -0.49988685],\n",
       "       [ 1.622412  ,  1.71449234],\n",
       "       [ 0.68877182, -0.67642883],\n",
       "       [ 0.17951354,  0.51010409],\n",
       "       [-0.66925025, -0.42211381],\n",
       "       [ 0.7736482 ,  0.48681452],\n",
       "       [ 1.28290648, -0.40397617],\n",
       "       [ 1.1980301 ,  1.66971285],\n",
       "       [ 1.45265924,  1.40703476],\n",
       "       [ 0.09463716,  1.23391563],\n",
       "       [ 0.94340096,  0.58523059],\n",
       "       [ 1.28290648, -0.95915007],\n",
       "       [ 0.3492663 ,  0.82945347],\n",
       "       [ 0.60389544,  0.48695567],\n",
       "       [ 1.02827734, -0.72004384],\n",
       "       [-1.68776681,  0.2258655 ],\n",
       "       [ 0.00976078, -1.41410826],\n",
       "       [ 1.02827734, -0.82625839],\n",
       "       [-1.00875577,  0.67023751],\n",
       "       [-1.51801405,  0.21697311],\n",
       "       [-1.26338491,  0.53166458],\n",
       "       [-0.15999198, -0.50532108],\n",
       "       [ 1.45265924,  0.50308193],\n",
       "       [ 1.45265924,  1.18754822],\n",
       "       [ 0.26438992,  0.24622622],\n",
       "       [-0.41462111, -0.53630326],\n",
       "       [-0.49949749, -0.12181953],\n",
       "       [-0.66925025, -1.08628994],\n",
       "       [ 1.28290648, -0.31060618],\n",
       "       [ 0.68877182, -1.6924186 ],\n",
       "       [-1.51801405, -1.6164452 ],\n",
       "       [ 0.17951354,  1.38254542],\n",
       "       [ 1.622412  ,  0.59020609],\n",
       "       [-1.43313767, -0.08695575],\n",
       "       [ 0.00976078,  1.17163368],\n",
       "       [-1.34826129,  0.69021008],\n",
       "       [ 0.85852458,  0.73844772],\n",
       "       [ 0.09463716,  0.48692038],\n",
       "       [ 1.02827734,  0.10366584],\n",
       "       [-0.49949749,  1.42961858],\n",
       "       [-1.68776681, -1.61168143],\n",
       "       [-1.26338491, -1.27151258],\n",
       "       [ 0.51901906, -1.54170686],\n",
       "       [ 1.53753562, -1.22433356],\n",
       "       [-0.15999198, -0.9753822 ],\n",
       "       [-1.60289043,  0.31433057],\n",
       "       [ 0.17951354,  0.73717738],\n",
       "       [-0.75412663, -1.11914235],\n",
       "       [-1.17850853, -0.68687385],\n",
       "       [ 0.60389544, -1.36901118],\n",
       "       [-0.75412663,  0.82532486],\n",
       "       [-0.32974473, -0.04302315],\n",
       "       [-1.26338491,  0.76053752],\n",
       "       [-1.00875577, -1.36223604],\n",
       "       [ 0.09463716,  0.27018625],\n",
       "       [-0.66925025, -0.44872037],\n",
       "       [ 1.11315372,  0.66325064],\n",
       "       [-0.15999198, -1.27052454],\n",
       "       [ 0.26438992, -1.63535915],\n",
       "       [-0.49949749, -0.39084932],\n",
       "       [-0.92387939, -0.12647744],\n",
       "       [ 0.60389544,  0.83065323],\n",
       "       [-0.75412663,  0.80718723],\n",
       "       [-0.75412663, -0.74287468],\n",
       "       [ 0.94340096,  1.50947357],\n",
       "       [ 1.622412  , -0.42670114],\n",
       "       [-0.92387939,  1.51166138],\n",
       "       [-1.26338491,  1.29902056],\n",
       "       [ 1.622412  ,  1.66244369],\n",
       "       [ 1.70728837,  1.50372175],\n",
       "       [-0.41462111, -1.06398842],\n",
       "       [-1.17850853, -1.1156842 ],\n",
       "       [-0.32974473,  0.37756527],\n",
       "       [-1.43313767, -0.57737759],\n",
       "       [ 1.53753562,  0.31157816],\n",
       "       [-0.83900301,  1.46935199],\n",
       "       [ 0.26438992,  1.75083818],\n",
       "       [ 1.36778286, -1.46213417],\n",
       "       [ 0.94340096,  0.10130159],\n",
       "       [-1.00875577, -1.57385352],\n",
       "       [ 0.09463716, -1.75283032],\n",
       "       [-0.49949749,  0.28073713],\n",
       "       [ 0.26438992,  0.53240561],\n",
       "       [ 0.60389544,  0.7790986 ],\n",
       "       [-0.49949749, -0.64597596],\n",
       "       [-0.49949749,  0.26785729],\n",
       "       [-1.17850853,  0.44012952],\n",
       "       [ 0.43414268, -0.14549725],\n",
       "       [ 1.45265924,  0.79060223],\n",
       "       [ 0.94340096, -0.14390933],\n",
       "       [-0.49949749,  1.52782293],\n",
       "       [ 1.622412  ,  1.34443522],\n",
       "       [-0.32974473, -1.67844485],\n",
       "       [-0.32974473, -0.70977526],\n",
       "       [-1.43313767,  0.48762613],\n",
       "       [ 1.1980301 ,  1.47609185],\n",
       "       [-0.24486835, -1.2051726 ],\n",
       "       [-0.32974473,  0.44256434],\n",
       "       [-0.49949749, -0.64407045],\n",
       "       [ 0.85852458,  1.74981485],\n",
       "       [ 0.00976078, -0.86242779],\n",
       "       [ 1.02827734,  0.0319622 ],\n",
       "       [ 0.09463716,  0.9514414 ],\n",
       "       [ 0.00976078,  0.29541661],\n",
       "       [ 0.7736482 ,  0.21189175],\n",
       "       [-1.68776681,  1.31338246],\n",
       "       [-1.34826129, -0.23664415],\n",
       "       [-1.00875577,  0.82483084],\n",
       "       [-1.68776681, -0.61319413],\n",
       "       [-1.43313767,  0.87102182],\n",
       "       [-0.0751156 , -0.79344127],\n",
       "       [ 0.17951354, -0.90639567],\n",
       "       [ 1.36778286, -1.15862875],\n",
       "       [-1.68776681,  1.27498996],\n",
       "       [ 1.36778286,  1.45618986],\n",
       "       [ 0.60389544, -1.54040123],\n",
       "       [ 1.1980301 ,  0.2189492 ],\n",
       "       [-0.75412663,  1.21662489],\n",
       "       [ 0.00976078,  1.43385305],\n",
       "       [ 1.02827734, -0.58570538],\n",
       "       [ 0.26438992,  1.21655432],\n",
       "       [ 0.43414268, -1.51347708],\n",
       "       [ 1.53753562, -0.74100445],\n",
       "       [-0.83900301, -0.51805977],\n",
       "       [-0.66925025,  0.92832827],\n",
       "       [-1.26338491,  0.50128228],\n",
       "       [ 0.68877182, -0.13734591],\n",
       "       [-0.58437387, -0.08078048],\n",
       "       [ 0.60389544,  1.24524283],\n",
       "       [-1.17850853,  0.68565803],\n",
       "       [ 1.1980301 ,  1.73933455],\n",
       "       [ 0.43414268, -0.6049722 ],\n",
       "       [ 1.53753562,  1.47693875],\n",
       "       [ 1.1980301 , -0.74294525],\n",
       "       [ 1.45265924,  0.87458583],\n",
       "       [ 0.85852458,  1.13493497],\n",
       "       [ 0.09463716, -1.43785656],\n",
       "       [ 0.51901906,  0.75185686],\n",
       "       [ 1.36778286,  1.06280788],\n",
       "       [-0.92387939, -0.24373689],\n",
       "       [-0.83900301, -1.65130898],\n",
       "       [-0.24486835,  0.38857489],\n",
       "       [-1.17850853,  0.65054724],\n",
       "       [-0.58437387,  0.44341123],\n",
       "       [ 0.09463716, -0.34695202],\n",
       "       [-0.83900301,  0.76089039],\n",
       "       [-0.41462111, -0.35697359],\n",
       "       [ 0.43414268,  0.03905493],\n",
       "       [ 0.26438992, -1.20665466],\n",
       "       [ 1.1980301 , -1.63175986],\n",
       "       [ 1.02827734, -1.66979948],\n",
       "       [ 1.53753562, -0.59858521],\n",
       "       [-0.83900301, -1.62671378],\n",
       "       [-1.51801405, -0.42497207],\n",
       "       [ 1.02827734, -0.37151193],\n",
       "       [ 0.51901906,  1.58124778],\n",
       "       [ 1.36778286,  0.03961953],\n",
       "       [-1.26338491,  1.56420405],\n",
       "       [-1.51801405, -0.24394861],\n",
       "       [ 0.17951354,  1.55640558],\n",
       "       [ 0.00976078,  1.23215127],\n",
       "       [ 1.53753562, -1.37508059],\n",
       "       [-0.15999198, -0.98243964],\n",
       "       [ 1.11315372,  0.62072954],\n",
       "       [-1.34826129, -1.40507473],\n",
       "       [ 0.43414268, -0.64103575],\n",
       "       [ 0.26438992,  0.18810817],\n",
       "       [ 1.1980301 , -0.36223139],\n",
       "       [-0.83900301,  0.04455974],\n",
       "       [-1.34826129, -1.26586663],\n",
       "       [ 0.26438992, -0.75448417],\n",
       "       [-0.49949749, -0.05615   ],\n",
       "       [-1.60289043, -1.14871304],\n",
       "       [-1.09363215, -1.40221646],\n",
       "       [ 0.26438992, -0.49600525],\n",
       "       [-0.75412663,  0.78626191],\n",
       "       [-0.41462111,  0.41129986],\n",
       "       [ 0.94340096,  0.44521088],\n",
       "       [-1.34826129,  1.60090277],\n",
       "       [ 1.11315372, -0.52829306],\n",
       "       [-1.34826129,  0.63696166],\n",
       "       [ 0.7736482 ,  0.85179028],\n",
       "       [-0.24486835,  0.38352881],\n",
       "       [-0.0751156 , -1.17524904],\n",
       "       [-1.00875577, -0.90583108],\n",
       "       [-0.49949749, -1.6487683 ],\n",
       "       [ 0.43414268, -1.38040896],\n",
       "       [-0.15999198, -0.13039432],\n",
       "       [-0.24486835,  0.56289378],\n",
       "       [-0.66925025,  1.75747218],\n",
       "       [-1.51801405, -1.58267533],\n",
       "       [ 1.45265924,  0.2493315 ],\n",
       "       [-1.17850853, -0.61869893],\n",
       "       [-0.49949749, -0.06207826],\n",
       "       [-0.49949749,  1.05536228],\n",
       "       [ 0.68877182, -1.60398881],\n",
       "       [ 0.09463716,  0.54246247],\n",
       "       [ 0.60389544, -1.47141471],\n",
       "       [-0.66925025,  0.23916878],\n",
       "       [-0.75412663, -1.18174188],\n",
       "       [ 1.36778286,  0.50971593],\n",
       "       [-0.66925025, -0.21504837],\n",
       "       [-0.83900301, -0.31205295],\n",
       "       [-0.66925025, -0.42761861],\n",
       "       [-1.43313767, -1.49392796],\n",
       "       [-0.41462111,  1.3848038 ],\n",
       "       [ 1.28290648, -0.71722086],\n",
       "       [-1.43313767, -1.44142057],\n",
       "       [-0.66925025, -0.70352942],\n",
       "       [ 0.17951354, -0.91807574],\n",
       "       [ 0.43414268, -0.06715962],\n",
       "       [ 0.51901906,  0.89014749],\n",
       "       [-1.26338491,  0.95567587],\n",
       "       [-0.92387939,  1.06030249],\n",
       "       [ 0.3492663 ,  0.49380139],\n",
       "       [ 0.51901906,  1.43431178],\n",
       "       [-0.58437387, -0.10569326],\n",
       "       [-1.26338491, -0.92142803],\n",
       "       [ 1.1980301 ,  1.13017119],\n",
       "       [ 1.11315372,  0.54429741],\n",
       "       [-1.43313767,  1.1729746 ],\n",
       "       [ 1.28290648, -0.74100445],\n",
       "       [-1.17850853,  0.51370338],\n",
       "       [-0.92387939,  1.56716818],\n",
       "       [ 1.622412  , -0.91528805],\n",
       "       [ 0.43414268, -1.05975395],\n",
       "       [ 1.02827734,  0.11742785],\n",
       "       [-0.75412663,  0.73936518],\n",
       "       [ 0.26438992, -0.38753233],\n",
       "       [ 0.94340096,  1.60968929],\n",
       "       [-0.0751156 ,  0.02306982],\n",
       "       [-0.58437387,  1.18888914],\n",
       "       [-1.00875577, -0.7146449 ],\n",
       "       [ 0.17951354, -1.43026981],\n",
       "       [-1.43313767, -1.41439055],\n",
       "       [-1.00875577, -0.12704204],\n",
       "       [ 1.45265924,  0.1744873 ],\n",
       "       [-0.15999198,  0.89903987],\n",
       "       [-1.26338491, -1.23209675],\n",
       "       [ 0.3492663 ,  1.67712317],\n",
       "       [-0.32974473, -1.68864286],\n",
       "       [ 0.51901906, -0.43082975],\n",
       "       [ 0.3492663 ,  0.82634819],\n",
       "       [ 1.53753562, -0.67110046],\n",
       "       [ 1.02827734, -1.33626464],\n",
       "       [ 1.28290648, -1.54587075],\n",
       "       [-0.32974473, -0.58492906],\n",
       "       [ 1.45265924, -1.32412583],\n",
       "       [-0.92387939, -0.49388802],\n",
       "       [-1.60289043, -0.2718608 ],\n",
       "       [ 1.53753562,  0.52721839],\n",
       "       [-1.26338491, -0.84672498],\n",
       "       [-0.0751156 ,  1.67119492],\n",
       "       [-1.09363215,  0.57873774],\n",
       "       [ 0.09463716, -0.83568008],\n",
       "       [-1.00875577,  1.41384519],\n",
       "       [ 0.94340096, -0.36639528],\n",
       "       [-0.83900301, -0.09754192],\n",
       "       [ 0.43414268, -0.57444875],\n",
       "       [ 0.26438992,  0.85231959],\n",
       "       [-0.75412663,  0.13852961],\n",
       "       [-1.26338491,  1.74797992],\n",
       "       [ 1.28290648,  0.06834333],\n",
       "       [-0.92387939, -0.54247853],\n",
       "       [ 1.622412  , -0.68274524],\n",
       "       [-0.41462111,  0.59525216],\n",
       "       [ 0.68877182, -1.27214775],\n",
       "       [-1.43313767,  0.90263917],\n",
       "       [-0.75412663,  0.54750855],\n",
       "       [-1.51801405, -1.67773911],\n",
       "       [ 1.28290648, -0.72156119],\n",
       "       [-1.34826129,  0.64920633],\n",
       "       [ 0.43414268,  0.6763422 ],\n",
       "       [-0.66925025,  1.62528624],\n",
       "       [-1.26338491, -0.34525823],\n",
       "       [ 1.45265924,  0.01569479],\n",
       "       [ 1.622412  , -1.71161485],\n",
       "       [ 1.622412  , -0.09701261],\n",
       "       [ 0.94340096,  0.74105897],\n",
       "       [ 0.60389544, -0.30930055],\n",
       "       [-0.15999198, -1.15986381],\n",
       "       [ 1.622412  , -1.5109364 ],\n",
       "       [ 1.70728837, -0.8820122 ],\n",
       "       [-1.34826129,  1.51014403],\n",
       "       [ 1.36778286, -0.98286309],\n",
       "       [-0.0751156 ,  1.37944015],\n",
       "       [-0.32974473, -0.93564878],\n",
       "       [-0.24486835,  1.59179866],\n",
       "       [-0.24486835,  1.33646031],\n",
       "       [-1.68776681, -1.33488844],\n",
       "       [ 1.622412  , -0.56545051],\n",
       "       [ 0.85852458,  0.53088826],\n",
       "       [ 0.94340096,  0.61508358],\n",
       "       [ 1.70728837, -1.25965608],\n",
       "       [-0.41462111, -1.5195112 ],\n",
       "       [ 1.45265924,  0.0593098 ],\n",
       "       [ 0.26438992, -0.87573107],\n",
       "       [-1.09363215, -1.00089486],\n",
       "       [-0.83900301,  1.10017705],\n",
       "       [-1.51801405,  0.3995845 ],\n",
       "       [ 1.45265924,  1.31955773],\n",
       "       [-0.24486835, -1.20725455],\n",
       "       [-1.26338491, -0.3685478 ],\n",
       "       [-1.43313767,  1.45213183],\n",
       "       [ 0.85852458,  1.29870298],\n",
       "       [ 1.1980301 , -0.85597023],\n",
       "       [ 1.02827734, -0.99930693],\n",
       "       [ 1.622412  , -0.63500163],\n",
       "       [ 0.3492663 , -0.13512281],\n",
       "       [ 0.60389544,  0.29262892],\n",
       "       [-0.92387939, -0.57120233],\n",
       "       [ 0.60389544,  0.65294677],\n",
       "       [ 1.02827734, -0.8786952 ],\n",
       "       [-1.26338491, -1.44262033],\n",
       "       [-0.15999198, -1.22715654],\n",
       "       [-1.68776681, -1.22768585],\n",
       "       [-1.51801405,  0.40978251],\n",
       "       [ 0.26438992, -0.30146679],\n",
       "       [ 0.09463716, -1.19860918],\n",
       "       [-0.66925025,  0.93757352],\n",
       "       [-1.43313767,  1.42626629],\n",
       "       [-1.00875577, -0.19440535],\n",
       "       [ 1.02827734,  0.89773425],\n",
       "       [ 1.02827734, -1.29310836],\n",
       "       [ 0.00976078,  0.25938836],\n",
       "       [ 0.7736482 , -1.42243604],\n",
       "       [-0.32974473,  1.23977331],\n",
       "       [-1.00875577, -1.44533745],\n",
       "       [-0.24486835,  1.59769163],\n",
       "       [-1.51801405,  1.63735447],\n",
       "       [-0.75412663,  0.97737751],\n",
       "       [-0.0751156 , -0.57684828],\n",
       "       [-1.60289043,  0.83672264],\n",
       "       [ 0.94340096, -1.25415127],\n",
       "       [ 0.7736482 ,  1.02042793],\n",
       "       [ 0.68877182,  0.71946319],\n",
       "       [-1.00875577, -0.68630925],\n",
       "       [-0.83900301,  0.16937065],\n",
       "       [-1.34826129,  1.37834624],\n",
       "       [ 0.17951354,  1.07893414],\n",
       "       [ 1.622412  ,  1.4190677 ],\n",
       "       [ 1.70728837, -0.94722299],\n",
       "       [ 0.94340096, -1.6816207 ],\n",
       "       [-0.32974473,  0.70679508],\n",
       "       [-0.58437387, -0.46336457],\n",
       "       [-0.92387939, -1.04983824],\n",
       "       [-1.60289043, -0.37313514],\n",
       "       [ 0.3492663 ,  1.53406876],\n",
       "       [-0.92387939,  1.09237858],\n",
       "       [ 1.622412  , -0.68909695],\n",
       "       [-1.00875577,  0.70587761],\n",
       "       [-1.60289043, -0.83649168],\n",
       "       [ 0.3492663 ,  1.63093219],\n",
       "       [-1.26338491, -0.70307069],\n",
       "       [ 0.26438992, -0.34462306],\n",
       "       [ 0.51901906,  1.68608613],\n",
       "       [-0.32974473, -1.38231447],\n",
       "       [ 0.26438992, -0.76397644],\n",
       "       [ 1.28290648, -0.64714044],\n",
       "       [-1.00875577, -1.01628009],\n",
       "       [ 0.85852458,  0.16051356],\n",
       "       [ 0.68877182,  0.99237458],\n",
       "       [-0.58437387,  0.93683249],\n",
       "       [-1.34826129,  0.39591463],\n",
       "       [ 1.11315372, -0.28505823],\n",
       "       [-0.0751156 , -0.29162165],\n",
       "       [-0.15999198, -0.73161805],\n",
       "       [ 0.60389544,  0.21136245],\n",
       "       [ 1.70728837,  1.75122634],\n",
       "       [-0.66925025,  1.1500379 ],\n",
       "       [ 1.28290648, -1.21688796],\n",
       "       [ 0.26438992,  0.75524444],\n",
       "       [ 1.28290648,  1.54945399],\n",
       "       [-0.0751156 ,  0.2866301 ],\n",
       "       [-0.41462111, -0.38890853],\n",
       "       [ 1.28290648, -0.76549379],\n",
       "       [-0.32974473, -1.45225375],\n",
       "       [-1.09363215, -1.33188902],\n",
       "       [ 0.94340096,  0.00468517],\n",
       "       [ 0.17951354, -0.96465488],\n",
       "       [ 0.60389544, -0.28325858],\n",
       "       [-0.49949749,  1.44772093],\n",
       "       [-0.41462111, -0.72699542],\n",
       "       [ 1.53753562,  1.01891058],\n",
       "       [-1.26338491,  1.00790096],\n",
       "       [-1.43313767, -0.94754058],\n",
       "       [ 1.45265924,  0.57238604],\n",
       "       [-1.00875577,  0.40314851],\n",
       "       [ 0.09463716,  0.28483045],\n",
       "       [-1.68776681,  1.4638119 ],\n",
       "       [ 0.85852458, -0.84337269],\n",
       "       [-1.26338491, -0.60652484],\n",
       "       [ 1.28290648,  1.69092048],\n",
       "       [ 1.1980301 ,  1.24294916]])"
      ]
     },
     "execution_count": 11,
     "metadata": {},
     "output_type": "execute_result"
    }
   ],
   "source": [
    "x"
   ]
  },
  {
   "cell_type": "code",
   "execution_count": 13,
   "metadata": {},
   "outputs": [],
   "source": [
    "from sklearn.model_selection import train_test_split\n",
    "x_train, x_test, y_train, y_test = train_test_split (x,y, test_size = 0.2)"
   ]
  },
  {
   "cell_type": "code",
   "execution_count": 14,
   "metadata": {},
   "outputs": [],
   "source": [
    "#Let's apply different classification models/algorithms"
   ]
  },
  {
   "cell_type": "code",
   "execution_count": 15,
   "metadata": {},
   "outputs": [
    {
     "data": {
      "text/plain": [
       "LogisticRegression(C=1.0, class_weight=None, dual=False, fit_intercept=True,\n",
       "                   intercept_scaling=1, l1_ratio=None, max_iter=100,\n",
       "                   multi_class='auto', n_jobs=None, penalty='l2',\n",
       "                   random_state=None, solver='lbfgs', tol=0.0001, verbose=0,\n",
       "                   warm_start=False)"
      ]
     },
     "execution_count": 15,
     "metadata": {},
     "output_type": "execute_result"
    }
   ],
   "source": [
    "#Logistic Regression\n",
    "from sklearn.linear_model import LogisticRegression\n",
    "classifier_Logistic = LogisticRegression()\n",
    "classifier_Logistic.fit(x_train, y_train)"
   ]
  },
  {
   "cell_type": "code",
   "execution_count": 16,
   "metadata": {},
   "outputs": [],
   "source": [
    "#Based on this classifer logistic, I want to do the prediction\n",
    "y_pred_cl_log = classifier_Logistic.predict(x_test)"
   ]
  },
  {
   "cell_type": "code",
   "execution_count": 17,
   "metadata": {},
   "outputs": [
    {
     "data": {
      "text/plain": [
       "array([0, 0, 0, 0, 0, 0, 0, 0, 0, 0, 0, 0, 0, 0, 0, 0, 0, 0, 0, 0, 0, 0,\n",
       "       0, 0, 0, 0, 0, 0, 0, 0, 0, 0, 0, 0, 0, 0, 0, 0, 0, 0, 0, 0, 0, 0,\n",
       "       0, 0, 0, 0, 0, 0, 0, 0, 0, 0, 0, 0, 0, 0, 0, 0, 0, 0, 0, 0, 0, 0,\n",
       "       0, 0, 0, 0, 0, 0, 0, 0, 0, 0, 0, 0, 0, 0], dtype=int64)"
      ]
     },
     "execution_count": 17,
     "metadata": {},
     "output_type": "execute_result"
    }
   ],
   "source": [
    "y_pred_cl_log"
   ]
  },
  {
   "cell_type": "code",
   "execution_count": 18,
   "metadata": {},
   "outputs": [
    {
     "data": {
      "text/plain": [
       "array([0, 1, 0, 1, 0, 1, 0, 0, 1, 1, 0, 0, 0, 1, 0, 0, 0, 1, 0, 0, 0, 0,\n",
       "       0, 0, 0, 0, 0, 1, 1, 0, 1, 1, 1, 0, 0, 0, 0, 0, 1, 0, 0, 0, 0, 0,\n",
       "       1, 0, 0, 0, 0, 1, 0, 0, 1, 1, 1, 0, 1, 0, 0, 0, 0, 0, 0, 0, 0, 1,\n",
       "       0, 0, 0, 0, 1, 1, 0, 0, 1, 0, 1, 0, 0, 0], dtype=int64)"
      ]
     },
     "execution_count": 18,
     "metadata": {},
     "output_type": "execute_result"
    }
   ],
   "source": [
    "y_test"
   ]
  },
  {
   "cell_type": "code",
   "execution_count": 19,
   "metadata": {},
   "outputs": [
    {
     "data": {
      "text/plain": [
       "KNeighborsClassifier(algorithm='auto', leaf_size=30, metric='minkowski',\n",
       "                     metric_params=None, n_jobs=None, n_neighbors=5, p=2,\n",
       "                     weights='uniform')"
      ]
     },
     "execution_count": 19,
     "metadata": {},
     "output_type": "execute_result"
    }
   ],
   "source": [
    "#KNN\n",
    "from sklearn.neighbors import KNeighborsClassifier\n",
    "classifier_knn = KNeighborsClassifier()\n",
    "classifier_knn.fit(x_train, y_train)"
   ]
  },
  {
   "cell_type": "code",
   "execution_count": 20,
   "metadata": {},
   "outputs": [],
   "source": [
    "y_pred_knn = classifier_knn.predict(x_test)"
   ]
  },
  {
   "cell_type": "code",
   "execution_count": 21,
   "metadata": {},
   "outputs": [
    {
     "data": {
      "text/plain": [
       "array([0, 1, 0, 1, 0, 1, 0, 0, 1, 1, 0, 0, 0, 1, 0, 0, 0, 1, 0, 0, 0, 0,\n",
       "       0, 0, 0, 0, 0, 1, 1, 0, 1, 1, 1, 0, 0, 0, 0, 0, 1, 0, 0, 0, 0, 0,\n",
       "       1, 0, 0, 0, 0, 1, 0, 0, 1, 1, 1, 0, 1, 0, 0, 0, 0, 0, 0, 0, 0, 1,\n",
       "       0, 0, 0, 0, 1, 1, 0, 0, 1, 0, 1, 0, 0, 0], dtype=int64)"
      ]
     },
     "execution_count": 21,
     "metadata": {},
     "output_type": "execute_result"
    }
   ],
   "source": [
    "y_test"
   ]
  },
  {
   "cell_type": "code",
   "execution_count": 22,
   "metadata": {},
   "outputs": [
    {
     "data": {
      "text/plain": [
       "array([0, 1, 0, 0, 0, 0, 0, 0, 0, 0, 0, 1, 0, 1, 0, 0, 0, 1, 1, 1, 0, 0,\n",
       "       1, 0, 0, 1, 0, 1, 0, 0, 1, 0, 0, 0, 0, 0, 0, 0, 0, 0, 1, 0, 0, 0,\n",
       "       1, 0, 0, 1, 0, 0, 1, 0, 0, 0, 0, 1, 0, 1, 0, 0, 0, 0, 1, 0, 0, 0,\n",
       "       0, 1, 0, 0, 0, 0, 0, 0, 1, 0, 1, 0, 0, 1], dtype=int64)"
      ]
     },
     "execution_count": 22,
     "metadata": {},
     "output_type": "execute_result"
    }
   ],
   "source": [
    "y_pred_knn"
   ]
  },
  {
   "cell_type": "code",
   "execution_count": 23,
   "metadata": {},
   "outputs": [
    {
     "data": {
      "text/plain": [
       "GaussianNB(priors=None, var_smoothing=1e-09)"
      ]
     },
     "execution_count": 23,
     "metadata": {},
     "output_type": "execute_result"
    }
   ],
   "source": [
    "#NaiveBayes\n",
    "from sklearn.naive_bayes import GaussianNB\n",
    "classifier_nb = GaussianNB()\n",
    "classifier_nb.fit(x_train, y_train)"
   ]
  },
  {
   "cell_type": "code",
   "execution_count": 24,
   "metadata": {},
   "outputs": [],
   "source": [
    "y_pred_cl_nb = classifier_nb.predict(x_test)"
   ]
  },
  {
   "cell_type": "code",
   "execution_count": 25,
   "metadata": {},
   "outputs": [
    {
     "data": {
      "text/plain": [
       "array([0, 1, 0, 1, 0, 1, 0, 0, 1, 1, 0, 0, 0, 1, 0, 0, 0, 1, 0, 0, 0, 0,\n",
       "       0, 0, 0, 0, 0, 1, 1, 0, 1, 1, 1, 0, 0, 0, 0, 0, 1, 0, 0, 0, 0, 0,\n",
       "       1, 0, 0, 0, 0, 1, 0, 0, 1, 1, 1, 0, 1, 0, 0, 0, 0, 0, 0, 0, 0, 1,\n",
       "       0, 0, 0, 0, 1, 1, 0, 0, 1, 0, 1, 0, 0, 0], dtype=int64)"
      ]
     },
     "execution_count": 25,
     "metadata": {},
     "output_type": "execute_result"
    }
   ],
   "source": [
    "y_test"
   ]
  },
  {
   "cell_type": "code",
   "execution_count": 26,
   "metadata": {},
   "outputs": [
    {
     "data": {
      "text/plain": [
       "array([0, 0, 0, 0, 0, 0, 0, 0, 0, 0, 0, 0, 0, 0, 0, 0, 0, 0, 0, 0, 0, 0,\n",
       "       0, 0, 0, 0, 0, 0, 0, 0, 0, 0, 0, 0, 0, 0, 0, 0, 0, 0, 0, 0, 0, 0,\n",
       "       0, 0, 0, 0, 0, 0, 0, 0, 0, 0, 0, 0, 0, 0, 0, 0, 0, 0, 0, 0, 0, 0,\n",
       "       0, 0, 0, 0, 0, 0, 0, 0, 0, 0, 0, 0, 0, 0], dtype=int64)"
      ]
     },
     "execution_count": 26,
     "metadata": {},
     "output_type": "execute_result"
    }
   ],
   "source": [
    "y_pred_cl_nb"
   ]
  },
  {
   "cell_type": "code",
   "execution_count": 27,
   "metadata": {},
   "outputs": [
    {
     "data": {
      "text/plain": [
       "SVC(C=1.0, break_ties=False, cache_size=200, class_weight=None, coef0=0.0,\n",
       "    decision_function_shape='ovr', degree=3, gamma='scale', kernel='linear',\n",
       "    max_iter=-1, probability=False, random_state=None, shrinking=True,\n",
       "    tol=0.001, verbose=False)"
      ]
     },
     "execution_count": 27,
     "metadata": {},
     "output_type": "execute_result"
    }
   ],
   "source": [
    "#SVM - Linear\n",
    "from sklearn.svm import SVC\n",
    "classifier_svc_lin = SVC(kernel = 'linear')\n",
    "classifier_svc_lin.fit(x_train, y_train)"
   ]
  },
  {
   "cell_type": "code",
   "execution_count": 28,
   "metadata": {},
   "outputs": [],
   "source": [
    "y_pred_svc_lin = classifier_svc_lin.predict(x_test)"
   ]
  },
  {
   "cell_type": "code",
   "execution_count": 29,
   "metadata": {},
   "outputs": [
    {
     "data": {
      "text/plain": [
       "SVC(C=1.0, break_ties=False, cache_size=200, class_weight=None, coef0=0.0,\n",
       "    decision_function_shape='ovr', degree=3, gamma='scale', kernel='sigmoid',\n",
       "    max_iter=-1, probability=False, random_state=None, shrinking=True,\n",
       "    tol=0.001, verbose=False)"
      ]
     },
     "execution_count": 29,
     "metadata": {},
     "output_type": "execute_result"
    }
   ],
   "source": [
    "#SVM - Sigmoid\n",
    "from sklearn.svm import SVC\n",
    "classifier_svc_sig = SVC(kernel = 'sigmoid')\n",
    "classifier_svc_sig.fit(x_train, y_train)"
   ]
  },
  {
   "cell_type": "code",
   "execution_count": 30,
   "metadata": {},
   "outputs": [],
   "source": [
    "y_pred_svc_sig = classifier_svc_sig.predict(x_test)"
   ]
  },
  {
   "cell_type": "code",
   "execution_count": 31,
   "metadata": {},
   "outputs": [
    {
     "data": {
      "text/plain": [
       "SVC(C=1.0, break_ties=False, cache_size=200, class_weight=None, coef0=0.0,\n",
       "    decision_function_shape='ovr', degree=3, gamma='scale', kernel='poly',\n",
       "    max_iter=-1, probability=False, random_state=None, shrinking=True,\n",
       "    tol=0.001, verbose=False)"
      ]
     },
     "execution_count": 31,
     "metadata": {},
     "output_type": "execute_result"
    }
   ],
   "source": [
    "#SVM - Poly\n",
    "from sklearn.svm import SVC\n",
    "classifier_svc_poly = SVC(kernel = 'poly')\n",
    "classifier_svc_poly.fit(x_train, y_train)"
   ]
  },
  {
   "cell_type": "code",
   "execution_count": 32,
   "metadata": {},
   "outputs": [],
   "source": [
    "y_pred_svc_poly = classifier_svc_poly.predict(x_test)"
   ]
  },
  {
   "cell_type": "code",
   "execution_count": 33,
   "metadata": {},
   "outputs": [
    {
     "data": {
      "text/plain": [
       "SVC(C=1.0, break_ties=False, cache_size=200, class_weight=None, coef0=0.0,\n",
       "    decision_function_shape='ovr', degree=3, gamma='scale', kernel='rbf',\n",
       "    max_iter=-1, probability=False, random_state=None, shrinking=True,\n",
       "    tol=0.001, verbose=False)"
      ]
     },
     "execution_count": 33,
     "metadata": {},
     "output_type": "execute_result"
    }
   ],
   "source": [
    "#SVM - rbf\n",
    "from sklearn.svm import SVC\n",
    "classifier_svc_rbf= SVC(kernel = 'rbf')\n",
    "classifier_svc_rbf.fit(x_train, y_train)"
   ]
  },
  {
   "cell_type": "code",
   "execution_count": 34,
   "metadata": {},
   "outputs": [],
   "source": [
    "y_pred_svc_rbf = classifier_svc_rbf.predict(x_test)"
   ]
  },
  {
   "cell_type": "code",
   "execution_count": 35,
   "metadata": {},
   "outputs": [
    {
     "data": {
      "text/plain": [
       "DecisionTreeClassifier(ccp_alpha=0.0, class_weight=None, criterion='entropy',\n",
       "                       max_depth=None, max_features=None, max_leaf_nodes=None,\n",
       "                       min_impurity_decrease=0.0, min_impurity_split=None,\n",
       "                       min_samples_leaf=1, min_samples_split=2,\n",
       "                       min_weight_fraction_leaf=0.0, presort='deprecated',\n",
       "                       random_state=None, splitter='best')"
      ]
     },
     "execution_count": 35,
     "metadata": {},
     "output_type": "execute_result"
    }
   ],
   "source": [
    "#Decision Tree\n",
    "from sklearn.tree import DecisionTreeClassifier\n",
    "classifier_dt = DecisionTreeClassifier(criterion='entropy')\n",
    "classifier_dt.fit(x_train, y_train)"
   ]
  },
  {
   "cell_type": "code",
   "execution_count": 36,
   "metadata": {},
   "outputs": [],
   "source": [
    "y_pred_dt = classifier_dt.predict(x_test)"
   ]
  },
  {
   "cell_type": "code",
   "execution_count": 37,
   "metadata": {},
   "outputs": [
    {
     "data": {
      "text/plain": [
       "RandomForestClassifier(bootstrap=True, ccp_alpha=0.0, class_weight=None,\n",
       "                       criterion='entropy', max_depth=None, max_features='auto',\n",
       "                       max_leaf_nodes=None, max_samples=None,\n",
       "                       min_impurity_decrease=0.0, min_impurity_split=None,\n",
       "                       min_samples_leaf=1, min_samples_split=2,\n",
       "                       min_weight_fraction_leaf=0.0, n_estimators=100,\n",
       "                       n_jobs=None, oob_score=False, random_state=None,\n",
       "                       verbose=0, warm_start=False)"
      ]
     },
     "execution_count": 37,
     "metadata": {},
     "output_type": "execute_result"
    }
   ],
   "source": [
    "#Random Forest\n",
    "from sklearn.ensemble import RandomForestClassifier\n",
    "classifier_rf = RandomForestClassifier(criterion='entropy')\n",
    "classifier_rf.fit(x_train, y_train)"
   ]
  },
  {
   "cell_type": "code",
   "execution_count": 38,
   "metadata": {},
   "outputs": [],
   "source": [
    "y_pred_rf = classifier_rf.predict(x_test)"
   ]
  },
  {
   "cell_type": "code",
   "execution_count": 39,
   "metadata": {},
   "outputs": [],
   "source": [
    "#how to check which classification algortihm gives highest accuracy?\n",
    "#sklearn metrics -confusin matrix, accuracy score"
   ]
  },
  {
   "cell_type": "code",
   "execution_count": 40,
   "metadata": {},
   "outputs": [
    {
     "data": {
      "text/plain": [
       "array([[56,  0],\n",
       "       [24,  0]], dtype=int64)"
      ]
     },
     "execution_count": 40,
     "metadata": {},
     "output_type": "execute_result"
    }
   ],
   "source": [
    "#Logistic Regression\n",
    "from sklearn.metrics import confusion_matrix, accuracy_score\n",
    "confusion_matrix(y_test, y_pred_cl_log)"
   ]
  },
  {
   "cell_type": "code",
   "execution_count": 41,
   "metadata": {},
   "outputs": [
    {
     "data": {
      "text/plain": [
       "array([[43, 13],\n",
       "       [16,  8]], dtype=int64)"
      ]
     },
     "execution_count": 41,
     "metadata": {},
     "output_type": "execute_result"
    }
   ],
   "source": [
    "#KNN\n",
    "from sklearn.metrics import confusion_matrix, accuracy_score\n",
    "confusion_matrix(y_test, y_pred_knn)"
   ]
  },
  {
   "cell_type": "code",
   "execution_count": 42,
   "metadata": {},
   "outputs": [
    {
     "data": {
      "text/plain": [
       "array([[56,  0],\n",
       "       [24,  0]], dtype=int64)"
      ]
     },
     "execution_count": 42,
     "metadata": {},
     "output_type": "execute_result"
    }
   ],
   "source": [
    "#Naive Bayes\n",
    "from sklearn.metrics import confusion_matrix, accuracy_score\n",
    "confusion_matrix(y_test, y_pred_cl_nb)"
   ]
  },
  {
   "cell_type": "code",
   "execution_count": 43,
   "metadata": {},
   "outputs": [
    {
     "data": {
      "text/plain": [
       "array([[35, 21],\n",
       "       [15,  9]], dtype=int64)"
      ]
     },
     "execution_count": 43,
     "metadata": {},
     "output_type": "execute_result"
    }
   ],
   "source": [
    "#Decision Tree\n",
    "from sklearn.metrics import confusion_matrix, accuracy_score\n",
    "confusion_matrix(y_test, y_pred_dt)"
   ]
  },
  {
   "cell_type": "code",
   "execution_count": 44,
   "metadata": {},
   "outputs": [
    {
     "data": {
      "text/plain": [
       "array([[42, 14],\n",
       "       [13, 11]], dtype=int64)"
      ]
     },
     "execution_count": 44,
     "metadata": {},
     "output_type": "execute_result"
    }
   ],
   "source": [
    "#Random Forest\n",
    "from sklearn.metrics import confusion_matrix, accuracy_score\n",
    "confusion_matrix(y_test, y_pred_rf)"
   ]
  },
  {
   "cell_type": "code",
   "execution_count": 45,
   "metadata": {},
   "outputs": [
    {
     "data": {
      "text/plain": [
       "array([[56,  0],\n",
       "       [24,  0]], dtype=int64)"
      ]
     },
     "execution_count": 45,
     "metadata": {},
     "output_type": "execute_result"
    }
   ],
   "source": [
    "#SVM Linear\n",
    "from sklearn.metrics import confusion_matrix, accuracy_score\n",
    "confusion_matrix(y_test, y_pred_svc_lin)"
   ]
  },
  {
   "cell_type": "code",
   "execution_count": 46,
   "metadata": {},
   "outputs": [
    {
     "data": {
      "text/plain": [
       "array([[35, 21],\n",
       "       [10, 14]], dtype=int64)"
      ]
     },
     "execution_count": 46,
     "metadata": {},
     "output_type": "execute_result"
    }
   ],
   "source": [
    "#SVM Sigmoid\n",
    "from sklearn.metrics import confusion_matrix, accuracy_score\n",
    "confusion_matrix(y_test, y_pred_svc_sig)"
   ]
  },
  {
   "cell_type": "code",
   "execution_count": 47,
   "metadata": {},
   "outputs": [
    {
     "data": {
      "text/plain": [
       "array([[56,  0],\n",
       "       [24,  0]], dtype=int64)"
      ]
     },
     "execution_count": 47,
     "metadata": {},
     "output_type": "execute_result"
    }
   ],
   "source": [
    "#SVM Poly\n",
    "from sklearn.metrics import confusion_matrix, accuracy_score\n",
    "confusion_matrix(y_test, y_pred_svc_poly)"
   ]
  },
  {
   "cell_type": "code",
   "execution_count": 48,
   "metadata": {},
   "outputs": [
    {
     "data": {
      "text/plain": [
       "array([[56,  0],\n",
       "       [24,  0]], dtype=int64)"
      ]
     },
     "execution_count": 48,
     "metadata": {},
     "output_type": "execute_result"
    }
   ],
   "source": [
    "#SVM rbf\n",
    "from sklearn.metrics import confusion_matrix, accuracy_score\n",
    "confusion_matrix(y_test, y_pred_svc_rbf)"
   ]
  },
  {
   "cell_type": "code",
   "execution_count": 49,
   "metadata": {},
   "outputs": [],
   "source": [
    "#REMOVE THE DUPLICATE VALUES GIVING ALGORITHM\n",
    "#Below given has the unique value algorithm. Also paste it in excel for further analysis"
   ]
  },
  {
   "cell_type": "code",
   "execution_count": 50,
   "metadata": {},
   "outputs": [
    {
     "data": {
      "text/plain": [
       "array([[56,  0],\n",
       "       [24,  0]], dtype=int64)"
      ]
     },
     "execution_count": 50,
     "metadata": {},
     "output_type": "execute_result"
    }
   ],
   "source": [
    "#Logistic Regression\n",
    "from sklearn.metrics import confusion_matrix, accuracy_score\n",
    "confusion_matrix(y_test, y_pred_cl_log)"
   ]
  },
  {
   "cell_type": "code",
   "execution_count": 51,
   "metadata": {},
   "outputs": [
    {
     "data": {
      "text/plain": [
       "array([[43, 13],\n",
       "       [16,  8]], dtype=int64)"
      ]
     },
     "execution_count": 51,
     "metadata": {},
     "output_type": "execute_result"
    }
   ],
   "source": [
    "#KNN\n",
    "from sklearn.metrics import confusion_matrix, accuracy_score\n",
    "confusion_matrix(y_test, y_pred_knn)"
   ]
  },
  {
   "cell_type": "code",
   "execution_count": 52,
   "metadata": {},
   "outputs": [
    {
     "data": {
      "text/plain": [
       "array([[35, 21],\n",
       "       [15,  9]], dtype=int64)"
      ]
     },
     "execution_count": 52,
     "metadata": {},
     "output_type": "execute_result"
    }
   ],
   "source": [
    "#Decision Tree\n",
    "from sklearn.metrics import confusion_matrix, accuracy_score\n",
    "confusion_matrix(y_test, y_pred_dt)"
   ]
  },
  {
   "cell_type": "code",
   "execution_count": 53,
   "metadata": {},
   "outputs": [
    {
     "data": {
      "text/plain": [
       "array([[42, 14],\n",
       "       [13, 11]], dtype=int64)"
      ]
     },
     "execution_count": 53,
     "metadata": {},
     "output_type": "execute_result"
    }
   ],
   "source": [
    "#Random Forest\n",
    "from sklearn.metrics import confusion_matrix, accuracy_score\n",
    "confusion_matrix(y_test, y_pred_rf)"
   ]
  },
  {
   "cell_type": "code",
   "execution_count": 54,
   "metadata": {},
   "outputs": [
    {
     "data": {
      "text/plain": [
       "array([[35, 21],\n",
       "       [10, 14]], dtype=int64)"
      ]
     },
     "execution_count": 54,
     "metadata": {},
     "output_type": "execute_result"
    }
   ],
   "source": [
    "#SVM Sigmoid\n",
    "from sklearn.metrics import confusion_matrix, accuracy_score\n",
    "confusion_matrix(y_test, y_pred_svc_sig)"
   ]
  },
  {
   "cell_type": "code",
   "execution_count": 55,
   "metadata": {},
   "outputs": [
    {
     "data": {
      "text/plain": [
       "80"
      ]
     },
     "execution_count": 55,
     "metadata": {},
     "output_type": "execute_result"
    }
   ],
   "source": [
    "len(x_test)"
   ]
  },
  {
   "cell_type": "code",
   "execution_count": 56,
   "metadata": {},
   "outputs": [
    {
     "data": {
      "text/plain": [
       "24"
      ]
     },
     "execution_count": 56,
     "metadata": {},
     "output_type": "execute_result"
    }
   ],
   "source": [
    "sum(y_test)\n",
    "#give me sum of ones"
   ]
  },
  {
   "cell_type": "code",
   "execution_count": 57,
   "metadata": {},
   "outputs": [],
   "source": [
    "#Here, SVM - Sigmoid has the highest accuract of 67.5%"
   ]
  },
  {
   "cell_type": "markdown",
   "metadata": {},
   "source": [
    "# Clustering"
   ]
  },
  {
   "cell_type": "code",
   "execution_count": 58,
   "metadata": {},
   "outputs": [],
   "source": [
    "#two types of clustering - K means and Hierarchical clustering"
   ]
  },
  {
   "cell_type": "code",
   "execution_count": 59,
   "metadata": {},
   "outputs": [
    {
     "data": {
      "text/plain": [
       "'C:\\\\Users\\\\je638474\\\\Documents\\\\JJ\\\\Folders\\\\Udemy\\\\Python EDUREKA'"
      ]
     },
     "execution_count": 59,
     "metadata": {},
     "output_type": "execute_result"
    }
   ],
   "source": [
    "#K means\n",
    "import os\n",
    "os.getcwd()"
   ]
  },
  {
   "cell_type": "code",
   "execution_count": 60,
   "metadata": {},
   "outputs": [
    {
     "data": {
      "text/html": [
       "<div>\n",
       "<style scoped>\n",
       "    .dataframe tbody tr th:only-of-type {\n",
       "        vertical-align: middle;\n",
       "    }\n",
       "\n",
       "    .dataframe tbody tr th {\n",
       "        vertical-align: top;\n",
       "    }\n",
       "\n",
       "    .dataframe thead th {\n",
       "        text-align: right;\n",
       "    }\n",
       "</style>\n",
       "<table border=\"1\" class=\"dataframe\">\n",
       "  <thead>\n",
       "    <tr style=\"text-align: right;\">\n",
       "      <th></th>\n",
       "      <th>CustomerID</th>\n",
       "      <th>Genre</th>\n",
       "      <th>Age</th>\n",
       "      <th>Annual Income (k$)</th>\n",
       "      <th>Spending Score (1-100)</th>\n",
       "    </tr>\n",
       "  </thead>\n",
       "  <tbody>\n",
       "    <tr>\n",
       "      <th>0</th>\n",
       "      <td>1</td>\n",
       "      <td>Male</td>\n",
       "      <td>19</td>\n",
       "      <td>15</td>\n",
       "      <td>39</td>\n",
       "    </tr>\n",
       "    <tr>\n",
       "      <th>1</th>\n",
       "      <td>2</td>\n",
       "      <td>Male</td>\n",
       "      <td>21</td>\n",
       "      <td>15</td>\n",
       "      <td>81</td>\n",
       "    </tr>\n",
       "    <tr>\n",
       "      <th>2</th>\n",
       "      <td>3</td>\n",
       "      <td>Female</td>\n",
       "      <td>20</td>\n",
       "      <td>16</td>\n",
       "      <td>6</td>\n",
       "    </tr>\n",
       "    <tr>\n",
       "      <th>3</th>\n",
       "      <td>4</td>\n",
       "      <td>Female</td>\n",
       "      <td>23</td>\n",
       "      <td>16</td>\n",
       "      <td>77</td>\n",
       "    </tr>\n",
       "    <tr>\n",
       "      <th>4</th>\n",
       "      <td>5</td>\n",
       "      <td>Female</td>\n",
       "      <td>31</td>\n",
       "      <td>17</td>\n",
       "      <td>40</td>\n",
       "    </tr>\n",
       "    <tr>\n",
       "      <th>...</th>\n",
       "      <td>...</td>\n",
       "      <td>...</td>\n",
       "      <td>...</td>\n",
       "      <td>...</td>\n",
       "      <td>...</td>\n",
       "    </tr>\n",
       "    <tr>\n",
       "      <th>195</th>\n",
       "      <td>196</td>\n",
       "      <td>Female</td>\n",
       "      <td>35</td>\n",
       "      <td>120</td>\n",
       "      <td>79</td>\n",
       "    </tr>\n",
       "    <tr>\n",
       "      <th>196</th>\n",
       "      <td>197</td>\n",
       "      <td>Female</td>\n",
       "      <td>45</td>\n",
       "      <td>126</td>\n",
       "      <td>28</td>\n",
       "    </tr>\n",
       "    <tr>\n",
       "      <th>197</th>\n",
       "      <td>198</td>\n",
       "      <td>Male</td>\n",
       "      <td>32</td>\n",
       "      <td>126</td>\n",
       "      <td>74</td>\n",
       "    </tr>\n",
       "    <tr>\n",
       "      <th>198</th>\n",
       "      <td>199</td>\n",
       "      <td>Male</td>\n",
       "      <td>32</td>\n",
       "      <td>137</td>\n",
       "      <td>18</td>\n",
       "    </tr>\n",
       "    <tr>\n",
       "      <th>199</th>\n",
       "      <td>200</td>\n",
       "      <td>Male</td>\n",
       "      <td>30</td>\n",
       "      <td>137</td>\n",
       "      <td>83</td>\n",
       "    </tr>\n",
       "  </tbody>\n",
       "</table>\n",
       "<p>200 rows × 5 columns</p>\n",
       "</div>"
      ],
      "text/plain": [
       "     CustomerID   Genre  Age  Annual Income (k$)  Spending Score (1-100)\n",
       "0             1    Male   19                  15                      39\n",
       "1             2    Male   21                  15                      81\n",
       "2             3  Female   20                  16                       6\n",
       "3             4  Female   23                  16                      77\n",
       "4             5  Female   31                  17                      40\n",
       "..          ...     ...  ...                 ...                     ...\n",
       "195         196  Female   35                 120                      79\n",
       "196         197  Female   45                 126                      28\n",
       "197         198    Male   32                 126                      74\n",
       "198         199    Male   32                 137                      18\n",
       "199         200    Male   30                 137                      83\n",
       "\n",
       "[200 rows x 5 columns]"
      ]
     },
     "execution_count": 60,
     "metadata": {},
     "output_type": "execute_result"
    }
   ],
   "source": [
    "import pandas as pd\n",
    "pd.read_csv('Mall_Customers.csv')"
   ]
  },
  {
   "cell_type": "code",
   "execution_count": 61,
   "metadata": {},
   "outputs": [],
   "source": [
    "data = pd.read_csv('Mall_Customers.csv')\n",
    "import matplotlib.pyplot as plt"
   ]
  },
  {
   "cell_type": "code",
   "execution_count": 62,
   "metadata": {},
   "outputs": [
    {
     "data": {
      "image/png": "[encoded data removed]",
      "text/plain": [
       "<Figure size 432x288 with 1 Axes>"
      ]
     },
     "metadata": {
      "needs_background": "light"
     },
     "output_type": "display_data"
    }
   ],
   "source": [
    "from sklearn.cluster import KMeans\n",
    "wcss = []\n",
    "#within clusters sum of squares\n",
    "for i in range (1,11):\n",
    "    kmeans = KMeans(n_clusters=i, init = 'k-means++')\n",
    "    kmeans.fit(x)\n",
    "    wcss.append(kmeans.inertia_)\n",
    "plt.plot(range(1,11), wcss)\n",
    "plt.show()"
   ]
  },
  {
   "cell_type": "code",
   "execution_count": 63,
   "metadata": {},
   "outputs": [
    {
     "data": {
      "text/plain": [
       "[800.0000000000001,\n",
       " 496.320021435116,\n",
       " 312.39094407435346,\n",
       " 196.16462496700956,\n",
       " 165.8382435433449,\n",
       " 137.16398368121304,\n",
       " 116.87791016140974,\n",
       " 98.54936740319702,\n",
       " 86.19015951526494,\n",
       " 77.34371413124279]"
      ]
     },
     "execution_count": 63,
     "metadata": {},
     "output_type": "execute_result"
    }
   ],
   "source": [
    "wcss"
   ]
  },
  {
   "cell_type": "code",
   "execution_count": 64,
   "metadata": {},
   "outputs": [
    {
     "data": {
      "image/png": "[encoded data removed]",
      "text/plain": [
       "<Figure size 360x360 with 1 Axes>"
      ]
     },
     "metadata": {
      "needs_background": "light"
     },
     "output_type": "display_data"
    }
   ],
   "source": [
    "import seaborn as sns\n",
    "sns.lmplot(x ='Annual Income (k$)', y = 'Spending Score (1-100)', data = data, fit_reg = False)\n",
    "plt.show()"
   ]
  },
  {
   "cell_type": "code",
   "execution_count": 65,
   "metadata": {},
   "outputs": [],
   "source": [
    "kmeans = KMeans(n_clusters=5, init='k-means++')\n",
    "y_kmeans = kmeans.fit_predict(x)"
   ]
  },
  {
   "cell_type": "code",
   "execution_count": 66,
   "metadata": {},
   "outputs": [
    {
     "data": {
      "text/plain": [
       "array([2, 3, 2, 0, 1, 0, 4, 2, 3, 2, 0, 2, 3, 2, 2, 2, 2, 3, 2, 2, 3, 1,\n",
       "       0, 3, 1, 1, 1, 0, 2, 2, 0, 0, 0, 4, 3, 3, 4, 2, 2, 4, 2, 1, 2, 2,\n",
       "       2, 1, 4, 4, 3, 3, 0, 1, 2, 4, 4, 3, 1, 0, 1, 4, 0, 0, 2, 0, 0, 0,\n",
       "       4, 2, 1, 4, 2, 3, 1, 1, 2, 2, 0, 4, 1, 4, 2, 1, 2, 3, 2, 4, 0, 1,\n",
       "       2, 2, 0, 1, 1, 0, 2, 3, 1, 2, 4, 0, 1, 2, 0, 1, 0, 2, 0, 2, 2, 0,\n",
       "       2, 1, 4, 1, 4, 1, 0, 0, 3, 1, 2, 3, 2, 1, 2, 3, 2, 3, 3, 4, 1, 1,\n",
       "       0, 0, 2, 1, 2, 0, 2, 3, 2, 2, 0, 2, 2, 4, 4, 1, 1, 1, 0, 1, 0, 0,\n",
       "       0, 3, 3, 3, 4, 4, 3, 2, 3, 1, 4, 2, 2, 3, 0, 2, 4, 0, 0, 3, 1, 4,\n",
       "       0, 0, 4, 4, 0, 1, 1, 2, 1, 3, 1, 2, 1, 0, 4, 4, 3, 0, 1, 1, 4, 2,\n",
       "       4, 0, 1, 3, 2, 3, 1, 4, 2, 0, 4, 0, 4, 1, 3, 4, 4, 0, 0, 2, 1, 1,\n",
       "       2, 2, 0, 4, 2, 2, 1, 3, 1, 1, 3, 0, 2, 1, 0, 2, 0, 1, 4, 0, 4, 4,\n",
       "       2, 1, 4, 2, 4, 0, 2, 3, 3, 3, 0, 3, 4, 4, 2, 4, 1, 1, 0, 1, 3, 4,\n",
       "       0, 2, 1, 1, 2, 4, 3, 1, 3, 1, 1, 4, 3, 1, 2, 1, 4, 3, 3, 3, 2, 0,\n",
       "       0, 3, 3, 1, 3, 1, 0, 1, 1, 4, 3, 2, 2, 3, 4, 3, 0, 4, 1, 1, 2, 0,\n",
       "       4, 1, 2, 3, 3, 3, 0, 2, 4, 2, 3, 4, 0, 4, 1, 0, 0, 1, 1, 4, 2, 3,\n",
       "       0, 3, 1, 4, 1, 1, 1, 0, 1, 3, 2, 2, 4, 1, 1, 2, 2, 3, 3, 1, 0, 4,\n",
       "       4, 2, 1, 3, 1, 4, 2, 4, 0, 2, 0, 0, 3, 4, 2, 2, 1, 1, 3, 0, 0, 2,\n",
       "       2, 1, 3, 2, 2, 0, 0, 3, 0, 4, 2, 0, 0, 1, 0, 2, 1, 4, 2, 1, 0, 1,\n",
       "       3, 4, 2, 2])"
      ]
     },
     "execution_count": 66,
     "metadata": {},
     "output_type": "execute_result"
    }
   ],
   "source": [
    "y_kmeans"
   ]
  },
  {
   "cell_type": "code",
   "execution_count": 67,
   "metadata": {},
   "outputs": [
    {
     "data": {
      "text/html": [
       "<div>\n",
       "<style scoped>\n",
       "    .dataframe tbody tr th:only-of-type {\n",
       "        vertical-align: middle;\n",
       "    }\n",
       "\n",
       "    .dataframe tbody tr th {\n",
       "        vertical-align: top;\n",
       "    }\n",
       "\n",
       "    .dataframe thead th {\n",
       "        text-align: right;\n",
       "    }\n",
       "</style>\n",
       "<table border=\"1\" class=\"dataframe\">\n",
       "  <thead>\n",
       "    <tr style=\"text-align: right;\">\n",
       "      <th></th>\n",
       "      <th>CustomerID</th>\n",
       "      <th>Genre</th>\n",
       "      <th>Age</th>\n",
       "      <th>Annual Income (k$)</th>\n",
       "      <th>Spending Score (1-100)</th>\n",
       "      <th>0</th>\n",
       "    </tr>\n",
       "  </thead>\n",
       "  <tbody>\n",
       "    <tr>\n",
       "      <th>0</th>\n",
       "      <td>1.0</td>\n",
       "      <td>Male</td>\n",
       "      <td>19.0</td>\n",
       "      <td>15.0</td>\n",
       "      <td>39.0</td>\n",
       "      <td>2</td>\n",
       "    </tr>\n",
       "    <tr>\n",
       "      <th>1</th>\n",
       "      <td>2.0</td>\n",
       "      <td>Male</td>\n",
       "      <td>21.0</td>\n",
       "      <td>15.0</td>\n",
       "      <td>81.0</td>\n",
       "      <td>3</td>\n",
       "    </tr>\n",
       "    <tr>\n",
       "      <th>2</th>\n",
       "      <td>3.0</td>\n",
       "      <td>Female</td>\n",
       "      <td>20.0</td>\n",
       "      <td>16.0</td>\n",
       "      <td>6.0</td>\n",
       "      <td>2</td>\n",
       "    </tr>\n",
       "    <tr>\n",
       "      <th>3</th>\n",
       "      <td>4.0</td>\n",
       "      <td>Female</td>\n",
       "      <td>23.0</td>\n",
       "      <td>16.0</td>\n",
       "      <td>77.0</td>\n",
       "      <td>0</td>\n",
       "    </tr>\n",
       "    <tr>\n",
       "      <th>4</th>\n",
       "      <td>5.0</td>\n",
       "      <td>Female</td>\n",
       "      <td>31.0</td>\n",
       "      <td>17.0</td>\n",
       "      <td>40.0</td>\n",
       "      <td>1</td>\n",
       "    </tr>\n",
       "    <tr>\n",
       "      <th>...</th>\n",
       "      <td>...</td>\n",
       "      <td>...</td>\n",
       "      <td>...</td>\n",
       "      <td>...</td>\n",
       "      <td>...</td>\n",
       "      <td>...</td>\n",
       "    </tr>\n",
       "    <tr>\n",
       "      <th>395</th>\n",
       "      <td>NaN</td>\n",
       "      <td>NaN</td>\n",
       "      <td>NaN</td>\n",
       "      <td>NaN</td>\n",
       "      <td>NaN</td>\n",
       "      <td>1</td>\n",
       "    </tr>\n",
       "    <tr>\n",
       "      <th>396</th>\n",
       "      <td>NaN</td>\n",
       "      <td>NaN</td>\n",
       "      <td>NaN</td>\n",
       "      <td>NaN</td>\n",
       "      <td>NaN</td>\n",
       "      <td>3</td>\n",
       "    </tr>\n",
       "    <tr>\n",
       "      <th>397</th>\n",
       "      <td>NaN</td>\n",
       "      <td>NaN</td>\n",
       "      <td>NaN</td>\n",
       "      <td>NaN</td>\n",
       "      <td>NaN</td>\n",
       "      <td>4</td>\n",
       "    </tr>\n",
       "    <tr>\n",
       "      <th>398</th>\n",
       "      <td>NaN</td>\n",
       "      <td>NaN</td>\n",
       "      <td>NaN</td>\n",
       "      <td>NaN</td>\n",
       "      <td>NaN</td>\n",
       "      <td>2</td>\n",
       "    </tr>\n",
       "    <tr>\n",
       "      <th>399</th>\n",
       "      <td>NaN</td>\n",
       "      <td>NaN</td>\n",
       "      <td>NaN</td>\n",
       "      <td>NaN</td>\n",
       "      <td>NaN</td>\n",
       "      <td>2</td>\n",
       "    </tr>\n",
       "  </tbody>\n",
       "</table>\n",
       "<p>400 rows × 6 columns</p>\n",
       "</div>"
      ],
      "text/plain": [
       "     CustomerID   Genre   Age  Annual Income (k$)  Spending Score (1-100)  0\n",
       "0           1.0    Male  19.0                15.0                    39.0  2\n",
       "1           2.0    Male  21.0                15.0                    81.0  3\n",
       "2           3.0  Female  20.0                16.0                     6.0  2\n",
       "3           4.0  Female  23.0                16.0                    77.0  0\n",
       "4           5.0  Female  31.0                17.0                    40.0  1\n",
       "..          ...     ...   ...                 ...                     ... ..\n",
       "395         NaN     NaN   NaN                 NaN                     NaN  1\n",
       "396         NaN     NaN   NaN                 NaN                     NaN  3\n",
       "397         NaN     NaN   NaN                 NaN                     NaN  4\n",
       "398         NaN     NaN   NaN                 NaN                     NaN  2\n",
       "399         NaN     NaN   NaN                 NaN                     NaN  2\n",
       "\n",
       "[400 rows x 6 columns]"
      ]
     },
     "execution_count": 67,
     "metadata": {},
     "output_type": "execute_result"
    }
   ],
   "source": [
    "pd.concat([data, pd.DataFrame(y_kmeans)], axis=1)"
   ]
  },
  {
   "cell_type": "code",
   "execution_count": 68,
   "metadata": {},
   "outputs": [],
   "source": [
    "import matplotlib.pyplot as plt"
   ]
  },
  {
   "cell_type": "code",
   "execution_count": 69,
   "metadata": {},
   "outputs": [
    {
     "data": {
      "image/png": "[encoded data removed]",
      "text/plain": [
       "<Figure size 432x288 with 1 Axes>"
      ]
     },
     "metadata": {
      "needs_background": "light"
     },
     "output_type": "display_data"
    }
   ],
   "source": [
    "plt.scatter(x[y_kmeans==0,0], x[y_kmeans==0,1], s=100, c='red')\n",
    "plt.scatter(x[y_kmeans==1,0], x[y_kmeans==1,1], s=100, c='yellow')\n",
    "plt.scatter(x[y_kmeans==2,0], x[y_kmeans==2,1], s=100, c='blue')\n",
    "plt.scatter(x[y_kmeans==3,0], x[y_kmeans==3,1], s=100, c='black')\n",
    "plt.scatter(x[y_kmeans==4,0], x[y_kmeans==4,1], s=100, c='pink')\n",
    "plt.show()"
   ]
  },
  {
   "cell_type": "code",
   "execution_count": 70,
   "metadata": {},
   "outputs": [
    {
     "name": "stdout",
     "output_type": "stream",
     "text": [
      "0.3983212144570274\n"
     ]
    }
   ],
   "source": [
    "from sklearn.metrics import silhouette_score\n",
    "print(silhouette_score(x, y_kmeans))"
   ]
  },
  {
   "cell_type": "code",
   "execution_count": 71,
   "metadata": {},
   "outputs": [],
   "source": [
    "#Hierarchical Cluster"
   ]
  },
  {
   "cell_type": "code",
   "execution_count": 73,
   "metadata": {},
   "outputs": [
    {
     "data": {
      "image/png": "[encoded data removed]",
      "text/plain": [
       "<Figure size 432x288 with 1 Axes>"
      ]
     },
     "metadata": {
      "needs_background": "light"
     },
     "output_type": "display_data"
    }
   ],
   "source": [
    "import scipy.cluster.hierarchy as sch\n",
    "dendrogram = sch.dendrogram(sch.linkage(x, method = 'ward'))"
   ]
  },
  {
   "cell_type": "code",
   "execution_count": 75,
   "metadata": {},
   "outputs": [],
   "source": [
    "from sklearn.cluster import AgglomerativeClustering\n",
    "hc = AgglomerativeClustering(n_clusters=5, affinity='euclidean', linkage='ward')\n",
    "y_hc = hc.fit_predict(x)"
   ]
  },
  {
   "cell_type": "code",
   "execution_count": 76,
   "metadata": {},
   "outputs": [
    {
     "data": {
      "text/plain": [
       "array([1, 3, 4, 0, 1, 1, 0, 4, 1, 1, 0, 4, 3, 4, 4, 1, 4, 3, 1, 4, 3, 2,\n",
       "       0, 3, 2, 2, 2, 0, 4, 4, 1, 0, 0, 0, 3, 3, 0, 1, 4, 0, 1, 2, 4, 1,\n",
       "       4, 1, 0, 0, 3, 3, 0, 2, 1, 0, 0, 3, 2, 0, 2, 0, 1, 0, 4, 0, 0, 0,\n",
       "       0, 4, 2, 0, 4, 3, 2, 2, 4, 4, 0, 0, 1, 0, 4, 2, 1, 3, 4, 0, 0, 2,\n",
       "       1, 4, 0, 2, 2, 1, 4, 1, 1, 4, 0, 0, 2, 4, 0, 1, 0, 4, 0, 4, 1, 1,\n",
       "       4, 2, 0, 2, 0, 2, 0, 0, 3, 2, 4, 3, 4, 2, 1, 3, 1, 3, 3, 0, 2, 2,\n",
       "       1, 0, 1, 2, 4, 1, 4, 3, 4, 4, 0, 4, 4, 0, 0, 1, 2, 2, 1, 2, 0, 1,\n",
       "       0, 3, 3, 3, 0, 0, 3, 1, 4, 2, 0, 1, 1, 3, 0, 4, 0, 1, 1, 3, 2, 0,\n",
       "       0, 0, 0, 0, 1, 2, 1, 4, 2, 3, 2, 4, 1, 0, 0, 0, 3, 0, 1, 2, 0, 4,\n",
       "       0, 0, 2, 3, 1, 3, 2, 0, 4, 0, 0, 0, 0, 1, 3, 0, 0, 0, 1, 4, 2, 2,\n",
       "       1, 1, 0, 0, 4, 4, 2, 3, 2, 2, 3, 0, 4, 2, 1, 4, 0, 2, 0, 0, 0, 0,\n",
       "       4, 1, 0, 1, 0, 1, 1, 3, 3, 3, 0, 3, 0, 0, 4, 0, 1, 2, 0, 2, 3, 0,\n",
       "       1, 1, 2, 2, 4, 0, 3, 1, 3, 2, 2, 0, 3, 2, 4, 2, 0, 4, 3, 4, 4, 1,\n",
       "       0, 3, 3, 2, 3, 1, 0, 1, 1, 0, 3, 4, 4, 3, 0, 4, 0, 0, 2, 2, 4, 0,\n",
       "       0, 2, 4, 3, 3, 3, 1, 4, 0, 4, 3, 0, 0, 0, 2, 1, 0, 2, 2, 0, 4, 3,\n",
       "       1, 3, 1, 0, 1, 2, 2, 0, 2, 3, 4, 4, 0, 2, 2, 1, 4, 3, 3, 1, 0, 0,\n",
       "       0, 1, 2, 3, 2, 0, 1, 0, 1, 1, 0, 0, 3, 0, 4, 4, 2, 2, 3, 1, 0, 4,\n",
       "       4, 2, 3, 1, 4, 1, 0, 3, 0, 0, 4, 0, 1, 1, 0, 4, 2, 0, 4, 2, 1, 2,\n",
       "       3, 0, 4, 4], dtype=int64)"
      ]
     },
     "execution_count": 76,
     "metadata": {},
     "output_type": "execute_result"
    }
   ],
   "source": [
    "y_hc"
   ]
  },
  {
   "cell_type": "code",
   "execution_count": 77,
   "metadata": {},
   "outputs": [
    {
     "data": {
      "text/html": [
       "<div>\n",
       "<style scoped>\n",
       "    .dataframe tbody tr th:only-of-type {\n",
       "        vertical-align: middle;\n",
       "    }\n",
       "\n",
       "    .dataframe tbody tr th {\n",
       "        vertical-align: top;\n",
       "    }\n",
       "\n",
       "    .dataframe thead th {\n",
       "        text-align: right;\n",
       "    }\n",
       "</style>\n",
       "<table border=\"1\" class=\"dataframe\">\n",
       "  <thead>\n",
       "    <tr style=\"text-align: right;\">\n",
       "      <th></th>\n",
       "      <th>CustomerID</th>\n",
       "      <th>Genre</th>\n",
       "      <th>Age</th>\n",
       "      <th>Annual Income (k$)</th>\n",
       "      <th>Spending Score (1-100)</th>\n",
       "      <th>0</th>\n",
       "    </tr>\n",
       "  </thead>\n",
       "  <tbody>\n",
       "    <tr>\n",
       "      <th>0</th>\n",
       "      <td>1.0</td>\n",
       "      <td>Male</td>\n",
       "      <td>19.0</td>\n",
       "      <td>15.0</td>\n",
       "      <td>39.0</td>\n",
       "      <td>1</td>\n",
       "    </tr>\n",
       "    <tr>\n",
       "      <th>1</th>\n",
       "      <td>2.0</td>\n",
       "      <td>Male</td>\n",
       "      <td>21.0</td>\n",
       "      <td>15.0</td>\n",
       "      <td>81.0</td>\n",
       "      <td>3</td>\n",
       "    </tr>\n",
       "    <tr>\n",
       "      <th>2</th>\n",
       "      <td>3.0</td>\n",
       "      <td>Female</td>\n",
       "      <td>20.0</td>\n",
       "      <td>16.0</td>\n",
       "      <td>6.0</td>\n",
       "      <td>4</td>\n",
       "    </tr>\n",
       "    <tr>\n",
       "      <th>3</th>\n",
       "      <td>4.0</td>\n",
       "      <td>Female</td>\n",
       "      <td>23.0</td>\n",
       "      <td>16.0</td>\n",
       "      <td>77.0</td>\n",
       "      <td>0</td>\n",
       "    </tr>\n",
       "    <tr>\n",
       "      <th>4</th>\n",
       "      <td>5.0</td>\n",
       "      <td>Female</td>\n",
       "      <td>31.0</td>\n",
       "      <td>17.0</td>\n",
       "      <td>40.0</td>\n",
       "      <td>1</td>\n",
       "    </tr>\n",
       "    <tr>\n",
       "      <th>...</th>\n",
       "      <td>...</td>\n",
       "      <td>...</td>\n",
       "      <td>...</td>\n",
       "      <td>...</td>\n",
       "      <td>...</td>\n",
       "      <td>...</td>\n",
       "    </tr>\n",
       "    <tr>\n",
       "      <th>395</th>\n",
       "      <td>NaN</td>\n",
       "      <td>NaN</td>\n",
       "      <td>NaN</td>\n",
       "      <td>NaN</td>\n",
       "      <td>NaN</td>\n",
       "      <td>2</td>\n",
       "    </tr>\n",
       "    <tr>\n",
       "      <th>396</th>\n",
       "      <td>NaN</td>\n",
       "      <td>NaN</td>\n",
       "      <td>NaN</td>\n",
       "      <td>NaN</td>\n",
       "      <td>NaN</td>\n",
       "      <td>3</td>\n",
       "    </tr>\n",
       "    <tr>\n",
       "      <th>397</th>\n",
       "      <td>NaN</td>\n",
       "      <td>NaN</td>\n",
       "      <td>NaN</td>\n",
       "      <td>NaN</td>\n",
       "      <td>NaN</td>\n",
       "      <td>0</td>\n",
       "    </tr>\n",
       "    <tr>\n",
       "      <th>398</th>\n",
       "      <td>NaN</td>\n",
       "      <td>NaN</td>\n",
       "      <td>NaN</td>\n",
       "      <td>NaN</td>\n",
       "      <td>NaN</td>\n",
       "      <td>4</td>\n",
       "    </tr>\n",
       "    <tr>\n",
       "      <th>399</th>\n",
       "      <td>NaN</td>\n",
       "      <td>NaN</td>\n",
       "      <td>NaN</td>\n",
       "      <td>NaN</td>\n",
       "      <td>NaN</td>\n",
       "      <td>4</td>\n",
       "    </tr>\n",
       "  </tbody>\n",
       "</table>\n",
       "<p>400 rows × 6 columns</p>\n",
       "</div>"
      ],
      "text/plain": [
       "     CustomerID   Genre   Age  Annual Income (k$)  Spending Score (1-100)  0\n",
       "0           1.0    Male  19.0                15.0                    39.0  1\n",
       "1           2.0    Male  21.0                15.0                    81.0  3\n",
       "2           3.0  Female  20.0                16.0                     6.0  4\n",
       "3           4.0  Female  23.0                16.0                    77.0  0\n",
       "4           5.0  Female  31.0                17.0                    40.0  1\n",
       "..          ...     ...   ...                 ...                     ... ..\n",
       "395         NaN     NaN   NaN                 NaN                     NaN  2\n",
       "396         NaN     NaN   NaN                 NaN                     NaN  3\n",
       "397         NaN     NaN   NaN                 NaN                     NaN  0\n",
       "398         NaN     NaN   NaN                 NaN                     NaN  4\n",
       "399         NaN     NaN   NaN                 NaN                     NaN  4\n",
       "\n",
       "[400 rows x 6 columns]"
      ]
     },
     "execution_count": 77,
     "metadata": {},
     "output_type": "execute_result"
    }
   ],
   "source": [
    "pd.concat([data, pd.DataFrame(y_hc)], axis=1)"
   ]
  },
  {
   "cell_type": "code",
   "execution_count": 78,
   "metadata": {},
   "outputs": [
    {
     "data": {
      "text/plain": [
       "<matplotlib.collections.PathCollection at 0x24bdb1eddc8>"
      ]
     },
     "execution_count": 78,
     "metadata": {},
     "output_type": "execute_result"
    },
    {
     "data": {
      "image/png": "[encoded data removed]",
      "text/plain": [
       "<Figure size 432x288 with 1 Axes>"
      ]
     },
     "metadata": {
      "needs_background": "light"
     },
     "output_type": "display_data"
    }
   ],
   "source": [
    "plt.scatter(x[y_hc==0, 0], x[y_hc==0,1], s = 100, c = 'red')\n",
    "plt.scatter(x[y_hc==1, 0], x[y_hc==1,1], s = 100, c = 'yellow')\n",
    "plt.scatter(x[y_hc==2, 0], x[y_hc==2,1], s = 100, c = 'blue')\n",
    "plt.scatter(x[y_hc==3, 0], x[y_hc==3,1], s = 100, c = 'black')\n",
    "plt.scatter(x[y_hc==4, 0], x[y_hc==4,1], s = 100, c = 'pink')"
   ]
  },
  {
   "cell_type": "code",
   "execution_count": 79,
   "metadata": {},
   "outputs": [
    {
     "name": "stdout",
     "output_type": "stream",
     "text": [
      "0.36274778518033607\n"
     ]
    }
   ],
   "source": [
    "from sklearn.metrics import silhouette_score\n",
    "print(silhouette_score(x, y_hc))"
   ]
  },
  {
   "cell_type": "code",
   "execution_count": null,
   "metadata": {},
   "outputs": [],
   "source": [
    "#Since the Kmeans S_S score is higher as compared to S_S score of Hierarchical, KMeans is the best cluster here."
   ]
  }
 ],
 "metadata": {
  "kernelspec": {
   "display_name": "Python 3",
   "language": "python",
   "name": "python3"
  },
  "language_info": {
   "codemirror_mode": {
    "name": "ipython",
    "version": 3
   },
   "file_extension": ".py",
   "mimetype": "text/x-python",
   "name": "python",
   "nbconvert_exporter": "python",
   "pygments_lexer": "ipython3",
   "version": "3.7.6"
  }
 },
 "nbformat": 4,
 "nbformat_minor": 4
}
