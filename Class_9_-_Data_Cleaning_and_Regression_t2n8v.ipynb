{
 "cells": [
  {
   "cell_type": "markdown",
   "metadata": {},
   "source": [
    "# Missing Value Treatment"
   ]
  },
  {
   "cell_type": "code",
   "execution_count": 1,
   "metadata": {},
   "outputs": [],
   "source": [
    "import os \n",
    "os.chdir(r'D:\\D\\Cognitior\\Courses\\Dataset\\Python DataScience')"
   ]
  },
  {
   "cell_type": "code",
   "execution_count": 3,
   "metadata": {},
   "outputs": [],
   "source": [
    "import pandas as pd \n",
    "data = pd.read_excel('Employee_Data.xls')"
   ]
  },
  {
   "cell_type": "code",
   "execution_count": 6,
   "metadata": {},
   "outputs": [
    {
     "data": {
      "text/plain": [
       "100"
      ]
     },
     "execution_count": 6,
     "metadata": {},
     "output_type": "execute_result"
    }
   ],
   "source": [
    "len(data)"
   ]
  },
  {
   "cell_type": "code",
   "execution_count": 35,
   "metadata": {},
   "outputs": [
    {
     "data": {
      "text/plain": [
       "Employee Id     0.0\n",
       "First Name      0.0\n",
       "Last Name       0.0\n",
       "Department     19.0\n",
       "Age            18.0\n",
       "Experience     10.0\n",
       "Salary          0.0\n",
       "dtype: float64"
      ]
     },
     "execution_count": 35,
     "metadata": {},
     "output_type": "execute_result"
    }
   ],
   "source": [
    "data.isnull().sum()/len(data)*100"
   ]
  },
  {
   "cell_type": "code",
   "execution_count": 9,
   "metadata": {},
   "outputs": [
    {
     "data": {
      "text/plain": [
       "<matplotlib.axes._subplots.AxesSubplot at 0x20b3b3f9288>"
      ]
     },
     "execution_count": 9,
     "metadata": {},
     "output_type": "execute_result"
    },
    {
     "data": {
      "image/png": "[encoded data removed]",
      "text/plain": [
       "<Figure size 432x288 with 1 Axes>"
      ]
     },
     "metadata": {
      "needs_background": "light"
     },
     "output_type": "display_data"
    }
   ],
   "source": [
    "import seaborn as sns\n",
    "sns.boxplot(data=data, y='Age')"
   ]
  },
  {
   "cell_type": "code",
   "execution_count": 10,
   "metadata": {},
   "outputs": [
    {
     "data": {
      "text/plain": [
       "<matplotlib.axes._subplots.AxesSubplot at 0x20b3b462bc8>"
      ]
     },
     "execution_count": 10,
     "metadata": {},
     "output_type": "execute_result"
    },
    {
     "data": {
      "image/png": "[encoded data removed]",
      "text/plain": [
       "<Figure size 432x288 with 1 Axes>"
      ]
     },
     "metadata": {
      "needs_background": "light"
     },
     "output_type": "display_data"
    }
   ],
   "source": [
    "import seaborn as sns\n",
    "sns.boxplot(data=data, y='Experience')"
   ]
  },
  {
   "cell_type": "code",
   "execution_count": 14,
   "metadata": {},
   "outputs": [],
   "source": [
    "x = data.iloc[:,3:6].values"
   ]
  },
  {
   "cell_type": "code",
   "execution_count": 26,
   "metadata": {},
   "outputs": [
    {
     "data": {
      "text/plain": [
       "array([['Sales and Marketing', 28.0, 3.0],\n",
       "       ['Sales and Marketing', 22.0, 1.0],\n",
       "       ['Customer Relations', 22.0, 1.0],\n",
       "       ['Customer Relations', 22.0, 1.0],\n",
       "       ['Accounting', 27.0, 0.0],\n",
       "       ['Accounting', 26.0, 5.0],\n",
       "       ['Customer Relations', 24.0, 6.0],\n",
       "       ['Customer Relations', 29.0, 2.0],\n",
       "       ['Sales and Marketing', 29.0, 5.0],\n",
       "       ['Customer Relations', 30.0, 6.0],\n",
       "       ['Accounting', 26.0, 5.0],\n",
       "       ['Sales and Marketing', 26.0, 6.0],\n",
       "       ['Accounting', 24.0, 5.0],\n",
       "       ['Accounting', 22.0, 2.0],\n",
       "       ['Sales and Marketing', 25.0, 3.0],\n",
       "       ['Accounting', 25.0, nan],\n",
       "       ['Customer Relations', 22.0, nan],\n",
       "       ['Accounting', 25.0, nan],\n",
       "       ['Accounting', 27.0, nan],\n",
       "       [nan, 25.0, nan],\n",
       "       [nan, 22.0, nan],\n",
       "       [nan, 22.0, nan],\n",
       "       [nan, 24.0, nan],\n",
       "       [nan, 27.0, nan],\n",
       "       [nan, 22.0, nan],\n",
       "       [nan, 33.0, 13.0],\n",
       "       [nan, 36.0, 7.0],\n",
       "       [nan, 35.0, 10.0],\n",
       "       [nan, 33.0, 12.0],\n",
       "       [nan, 30.0, 14.0],\n",
       "       [nan, 40.0, 15.0],\n",
       "       [nan, 39.0, 12.0],\n",
       "       [nan, 37.97560975609756, 9.0],\n",
       "       [nan, 37.97560975609756, 7.0],\n",
       "       [nan, 37.97560975609756, 15.0],\n",
       "       [nan, 37.97560975609756, 11.0],\n",
       "       [nan, 37.97560975609756, 10.0],\n",
       "       [nan, 37.97560975609756, 7.0],\n",
       "       ['Sales and Marketing', 37.97560975609756, 13.0],\n",
       "       ['Sales and Marketing', 37.97560975609756, 9.0],\n",
       "       ['Customer Relations', 37.97560975609756, 8.0],\n",
       "       ['Accounting', 37.97560975609756, 12.0],\n",
       "       ['Accounting', 37.97560975609756, 9.0],\n",
       "       ['Sales and Marketing', 37.97560975609756, 12.0],\n",
       "       ['Sales and Marketing', 37.97560975609756, 15.0],\n",
       "       ['Customer Relations', 37.97560975609756, 14.0],\n",
       "       ['Sales and Marketing', 37.97560975609756, 10.0],\n",
       "       ['Customer Relations', 37.97560975609756, 8.0],\n",
       "       ['Customer Relations', 37.97560975609756, 12.0],\n",
       "       ['Customer Relations', 37.97560975609756, 15.0],\n",
       "       ['Sales and Marketing', 38.0, 14.0],\n",
       "       ['Accounting', 41.0, 25.0],\n",
       "       ['Customer Relations', 44.0, 17.0],\n",
       "       ['Accounting', 41.0, 17.0],\n",
       "       ['Sales and Marketing', 50.0, 21.0],\n",
       "       ['Sales and Marketing', 47.0, 19.0],\n",
       "       ['Accounting', 43.0, 25.0],\n",
       "       ['Customer Relations', 48.0, 25.0],\n",
       "       ['Accounting', 46.0, 22.0],\n",
       "       ['Customer Relations', 44.0, 16.0],\n",
       "       ['Accounting', 42.0, 21.0],\n",
       "       ['Sales and Marketing', 44.0, 19.0],\n",
       "       ['Customer Relations', 49.0, 16.0],\n",
       "       ['Customer Relations', 44.0, 18.0],\n",
       "       ['Sales and Marketing', 49.0, 22.0],\n",
       "       ['Accounting', 44.0, 17.0],\n",
       "       ['Sales and Marketing', 48.0, 16.0],\n",
       "       ['Customer Relations', 47.0, 23.0],\n",
       "       ['Customer Relations', 50.0, 22.0],\n",
       "       ['Sales and Marketing', 42.0, 19.0],\n",
       "       ['Accounting', 48.0, 19.0],\n",
       "       ['Customer Relations', 46.0, 24.0],\n",
       "       ['Sales and Marketing', 42.0, 23.0],\n",
       "       ['Sales and Marketing', 45.0, 22.0],\n",
       "       ['Customer Relations', 48.0, 17.0],\n",
       "       ['Sales and Marketing', 41.0, 23.0],\n",
       "       ['Sales and Marketing', 49.0, 19.0],\n",
       "       ['Sales and Marketing', 41.0, 22.0],\n",
       "       ['Sales and Marketing', 42.0, 24.0],\n",
       "       ['Accounting', 41.0, 22.0],\n",
       "       ['Accounting', 45.0, 21.0],\n",
       "       ['Customer Relations', 43.0, 16.0],\n",
       "       ['Accounting', 46.0, 18.0],\n",
       "       ['Sales and Marketing', 47.0, 20.0],\n",
       "       ['Accounting', 45.0, 17.0],\n",
       "       ['Sales and Marketing', 42.0, 17.0],\n",
       "       ['Sales and Marketing', 44.0, 21.0],\n",
       "       ['Accounting', 45.0, 19.0],\n",
       "       ['Accounting', 44.0, 21.0],\n",
       "       ['Customer Relations', 47.0, 20.0],\n",
       "       ['Sales and Marketing', 44.0, 19.0],\n",
       "       ['Accounting', 44.0, 18.0],\n",
       "       ['Sales and Marketing', 41.0, 17.0],\n",
       "       ['Accounting', 48.0, 21.0],\n",
       "       ['Accounting', 48.0, 22.0],\n",
       "       ['Sales and Marketing', 47.0, 22.0],\n",
       "       ['Sales and Marketing', 46.0, 20.0],\n",
       "       ['Customer Relations', 44.0, 18.0],\n",
       "       ['Customer Relations', 47.0, 22.0],\n",
       "       ['Accounting', 44.0, 21.0]], dtype=object)"
      ]
     },
     "execution_count": 26,
     "metadata": {},
     "output_type": "execute_result"
    }
   ],
   "source": [
    "import numpy as np\n",
    "from sklearn.impute import SimpleImputer\n",
    "imp = SimpleImputer(missing_values=np.nan, strategy='mean')\n",
    "imp = imp.fit(x[:,1:2])\n",
    "x[:,1:2] = imp.transform(x[:,1:2])\n",
    "x"
   ]
  },
  {
   "cell_type": "code",
   "execution_count": 27,
   "metadata": {},
   "outputs": [
    {
     "data": {
      "text/plain": [
       "array([['Sales and Marketing', 28.0, 3.0],\n",
       "       ['Sales and Marketing', 22.0, 1.0],\n",
       "       ['Customer Relations', 22.0, 1.0],\n",
       "       ['Customer Relations', 22.0, 1.0],\n",
       "       ['Accounting', 27.0, 0.0],\n",
       "       ['Accounting', 26.0, 5.0],\n",
       "       ['Customer Relations', 24.0, 6.0],\n",
       "       ['Customer Relations', 29.0, 2.0],\n",
       "       ['Sales and Marketing', 29.0, 5.0],\n",
       "       ['Customer Relations', 30.0, 6.0],\n",
       "       ['Accounting', 26.0, 5.0],\n",
       "       ['Sales and Marketing', 26.0, 6.0],\n",
       "       ['Accounting', 24.0, 5.0],\n",
       "       ['Accounting', 22.0, 2.0],\n",
       "       ['Sales and Marketing', 25.0, 3.0],\n",
       "       ['Accounting', 25.0, 16.5],\n",
       "       ['Customer Relations', 22.0, 16.5],\n",
       "       ['Accounting', 25.0, 16.5],\n",
       "       ['Accounting', 27.0, 16.5],\n",
       "       [nan, 25.0, 16.5],\n",
       "       [nan, 22.0, 16.5],\n",
       "       [nan, 22.0, 16.5],\n",
       "       [nan, 24.0, 16.5],\n",
       "       [nan, 27.0, 16.5],\n",
       "       [nan, 22.0, 16.5],\n",
       "       [nan, 33.0, 13.0],\n",
       "       [nan, 36.0, 7.0],\n",
       "       [nan, 35.0, 10.0],\n",
       "       [nan, 33.0, 12.0],\n",
       "       [nan, 30.0, 14.0],\n",
       "       [nan, 40.0, 15.0],\n",
       "       [nan, 39.0, 12.0],\n",
       "       [nan, 37.97560975609756, 9.0],\n",
       "       [nan, 37.97560975609756, 7.0],\n",
       "       [nan, 37.97560975609756, 15.0],\n",
       "       [nan, 37.97560975609756, 11.0],\n",
       "       [nan, 37.97560975609756, 10.0],\n",
       "       [nan, 37.97560975609756, 7.0],\n",
       "       ['Sales and Marketing', 37.97560975609756, 13.0],\n",
       "       ['Sales and Marketing', 37.97560975609756, 9.0],\n",
       "       ['Customer Relations', 37.97560975609756, 8.0],\n",
       "       ['Accounting', 37.97560975609756, 12.0],\n",
       "       ['Accounting', 37.97560975609756, 9.0],\n",
       "       ['Sales and Marketing', 37.97560975609756, 12.0],\n",
       "       ['Sales and Marketing', 37.97560975609756, 15.0],\n",
       "       ['Customer Relations', 37.97560975609756, 14.0],\n",
       "       ['Sales and Marketing', 37.97560975609756, 10.0],\n",
       "       ['Customer Relations', 37.97560975609756, 8.0],\n",
       "       ['Customer Relations', 37.97560975609756, 12.0],\n",
       "       ['Customer Relations', 37.97560975609756, 15.0],\n",
       "       ['Sales and Marketing', 38.0, 14.0],\n",
       "       ['Accounting', 41.0, 25.0],\n",
       "       ['Customer Relations', 44.0, 17.0],\n",
       "       ['Accounting', 41.0, 17.0],\n",
       "       ['Sales and Marketing', 50.0, 21.0],\n",
       "       ['Sales and Marketing', 47.0, 19.0],\n",
       "       ['Accounting', 43.0, 25.0],\n",
       "       ['Customer Relations', 48.0, 25.0],\n",
       "       ['Accounting', 46.0, 22.0],\n",
       "       ['Customer Relations', 44.0, 16.0],\n",
       "       ['Accounting', 42.0, 21.0],\n",
       "       ['Sales and Marketing', 44.0, 19.0],\n",
       "       ['Customer Relations', 49.0, 16.0],\n",
       "       ['Customer Relations', 44.0, 18.0],\n",
       "       ['Sales and Marketing', 49.0, 22.0],\n",
       "       ['Accounting', 44.0, 17.0],\n",
       "       ['Sales and Marketing', 48.0, 16.0],\n",
       "       ['Customer Relations', 47.0, 23.0],\n",
       "       ['Customer Relations', 50.0, 22.0],\n",
       "       ['Sales and Marketing', 42.0, 19.0],\n",
       "       ['Accounting', 48.0, 19.0],\n",
       "       ['Customer Relations', 46.0, 24.0],\n",
       "       ['Sales and Marketing', 42.0, 23.0],\n",
       "       ['Sales and Marketing', 45.0, 22.0],\n",
       "       ['Customer Relations', 48.0, 17.0],\n",
       "       ['Sales and Marketing', 41.0, 23.0],\n",
       "       ['Sales and Marketing', 49.0, 19.0],\n",
       "       ['Sales and Marketing', 41.0, 22.0],\n",
       "       ['Sales and Marketing', 42.0, 24.0],\n",
       "       ['Accounting', 41.0, 22.0],\n",
       "       ['Accounting', 45.0, 21.0],\n",
       "       ['Customer Relations', 43.0, 16.0],\n",
       "       ['Accounting', 46.0, 18.0],\n",
       "       ['Sales and Marketing', 47.0, 20.0],\n",
       "       ['Accounting', 45.0, 17.0],\n",
       "       ['Sales and Marketing', 42.0, 17.0],\n",
       "       ['Sales and Marketing', 44.0, 21.0],\n",
       "       ['Accounting', 45.0, 19.0],\n",
       "       ['Accounting', 44.0, 21.0],\n",
       "       ['Customer Relations', 47.0, 20.0],\n",
       "       ['Sales and Marketing', 44.0, 19.0],\n",
       "       ['Accounting', 44.0, 18.0],\n",
       "       ['Sales and Marketing', 41.0, 17.0],\n",
       "       ['Accounting', 48.0, 21.0],\n",
       "       ['Accounting', 48.0, 22.0],\n",
       "       ['Sales and Marketing', 47.0, 22.0],\n",
       "       ['Sales and Marketing', 46.0, 20.0],\n",
       "       ['Customer Relations', 44.0, 18.0],\n",
       "       ['Customer Relations', 47.0, 22.0],\n",
       "       ['Accounting', 44.0, 21.0]], dtype=object)"
      ]
     },
     "execution_count": 27,
     "metadata": {},
     "output_type": "execute_result"
    }
   ],
   "source": [
    "import numpy as np\n",
    "from sklearn.impute import SimpleImputer\n",
    "imp = SimpleImputer(missing_values=np.nan, strategy='median')\n",
    "imp = imp.fit(x[:,2:3])\n",
    "x[:,2:3] = imp.transform(x[:,2:3])\n",
    "x"
   ]
  },
  {
   "cell_type": "code",
   "execution_count": 28,
   "metadata": {},
   "outputs": [
    {
     "data": {
      "text/plain": [
       "array([['Sales and Marketing', 28.0, 3.0],\n",
       "       ['Sales and Marketing', 22.0, 1.0],\n",
       "       ['Customer Relations', 22.0, 1.0],\n",
       "       ['Customer Relations', 22.0, 1.0],\n",
       "       ['Accounting', 27.0, 0.0],\n",
       "       ['Accounting', 26.0, 5.0],\n",
       "       ['Customer Relations', 24.0, 6.0],\n",
       "       ['Customer Relations', 29.0, 2.0],\n",
       "       ['Sales and Marketing', 29.0, 5.0],\n",
       "       ['Customer Relations', 30.0, 6.0],\n",
       "       ['Accounting', 26.0, 5.0],\n",
       "       ['Sales and Marketing', 26.0, 6.0],\n",
       "       ['Accounting', 24.0, 5.0],\n",
       "       ['Accounting', 22.0, 2.0],\n",
       "       ['Sales and Marketing', 25.0, 3.0],\n",
       "       ['Accounting', 25.0, 16.5],\n",
       "       ['Customer Relations', 22.0, 16.5],\n",
       "       ['Accounting', 25.0, 16.5],\n",
       "       ['Accounting', 27.0, 16.5],\n",
       "       ['Sales and Marketing', 25.0, 16.5],\n",
       "       ['Sales and Marketing', 22.0, 16.5],\n",
       "       ['Sales and Marketing', 22.0, 16.5],\n",
       "       ['Sales and Marketing', 24.0, 16.5],\n",
       "       ['Sales and Marketing', 27.0, 16.5],\n",
       "       ['Sales and Marketing', 22.0, 16.5],\n",
       "       ['Sales and Marketing', 33.0, 13.0],\n",
       "       ['Sales and Marketing', 36.0, 7.0],\n",
       "       ['Sales and Marketing', 35.0, 10.0],\n",
       "       ['Sales and Marketing', 33.0, 12.0],\n",
       "       ['Sales and Marketing', 30.0, 14.0],\n",
       "       ['Sales and Marketing', 40.0, 15.0],\n",
       "       ['Sales and Marketing', 39.0, 12.0],\n",
       "       ['Sales and Marketing', 37.97560975609756, 9.0],\n",
       "       ['Sales and Marketing', 37.97560975609756, 7.0],\n",
       "       ['Sales and Marketing', 37.97560975609756, 15.0],\n",
       "       ['Sales and Marketing', 37.97560975609756, 11.0],\n",
       "       ['Sales and Marketing', 37.97560975609756, 10.0],\n",
       "       ['Sales and Marketing', 37.97560975609756, 7.0],\n",
       "       ['Sales and Marketing', 37.97560975609756, 13.0],\n",
       "       ['Sales and Marketing', 37.97560975609756, 9.0],\n",
       "       ['Customer Relations', 37.97560975609756, 8.0],\n",
       "       ['Accounting', 37.97560975609756, 12.0],\n",
       "       ['Accounting', 37.97560975609756, 9.0],\n",
       "       ['Sales and Marketing', 37.97560975609756, 12.0],\n",
       "       ['Sales and Marketing', 37.97560975609756, 15.0],\n",
       "       ['Customer Relations', 37.97560975609756, 14.0],\n",
       "       ['Sales and Marketing', 37.97560975609756, 10.0],\n",
       "       ['Customer Relations', 37.97560975609756, 8.0],\n",
       "       ['Customer Relations', 37.97560975609756, 12.0],\n",
       "       ['Customer Relations', 37.97560975609756, 15.0],\n",
       "       ['Sales and Marketing', 38.0, 14.0],\n",
       "       ['Accounting', 41.0, 25.0],\n",
       "       ['Customer Relations', 44.0, 17.0],\n",
       "       ['Accounting', 41.0, 17.0],\n",
       "       ['Sales and Marketing', 50.0, 21.0],\n",
       "       ['Sales and Marketing', 47.0, 19.0],\n",
       "       ['Accounting', 43.0, 25.0],\n",
       "       ['Customer Relations', 48.0, 25.0],\n",
       "       ['Accounting', 46.0, 22.0],\n",
       "       ['Customer Relations', 44.0, 16.0],\n",
       "       ['Accounting', 42.0, 21.0],\n",
       "       ['Sales and Marketing', 44.0, 19.0],\n",
       "       ['Customer Relations', 49.0, 16.0],\n",
       "       ['Customer Relations', 44.0, 18.0],\n",
       "       ['Sales and Marketing', 49.0, 22.0],\n",
       "       ['Accounting', 44.0, 17.0],\n",
       "       ['Sales and Marketing', 48.0, 16.0],\n",
       "       ['Customer Relations', 47.0, 23.0],\n",
       "       ['Customer Relations', 50.0, 22.0],\n",
       "       ['Sales and Marketing', 42.0, 19.0],\n",
       "       ['Accounting', 48.0, 19.0],\n",
       "       ['Customer Relations', 46.0, 24.0],\n",
       "       ['Sales and Marketing', 42.0, 23.0],\n",
       "       ['Sales and Marketing', 45.0, 22.0],\n",
       "       ['Customer Relations', 48.0, 17.0],\n",
       "       ['Sales and Marketing', 41.0, 23.0],\n",
       "       ['Sales and Marketing', 49.0, 19.0],\n",
       "       ['Sales and Marketing', 41.0, 22.0],\n",
       "       ['Sales and Marketing', 42.0, 24.0],\n",
       "       ['Accounting', 41.0, 22.0],\n",
       "       ['Accounting', 45.0, 21.0],\n",
       "       ['Customer Relations', 43.0, 16.0],\n",
       "       ['Accounting', 46.0, 18.0],\n",
       "       ['Sales and Marketing', 47.0, 20.0],\n",
       "       ['Accounting', 45.0, 17.0],\n",
       "       ['Sales and Marketing', 42.0, 17.0],\n",
       "       ['Sales and Marketing', 44.0, 21.0],\n",
       "       ['Accounting', 45.0, 19.0],\n",
       "       ['Accounting', 44.0, 21.0],\n",
       "       ['Customer Relations', 47.0, 20.0],\n",
       "       ['Sales and Marketing', 44.0, 19.0],\n",
       "       ['Accounting', 44.0, 18.0],\n",
       "       ['Sales and Marketing', 41.0, 17.0],\n",
       "       ['Accounting', 48.0, 21.0],\n",
       "       ['Accounting', 48.0, 22.0],\n",
       "       ['Sales and Marketing', 47.0, 22.0],\n",
       "       ['Sales and Marketing', 46.0, 20.0],\n",
       "       ['Customer Relations', 44.0, 18.0],\n",
       "       ['Customer Relations', 47.0, 22.0],\n",
       "       ['Accounting', 44.0, 21.0]], dtype=object)"
      ]
     },
     "execution_count": 28,
     "metadata": {},
     "output_type": "execute_result"
    }
   ],
   "source": [
    "import numpy as np\n",
    "from sklearn.impute import SimpleImputer\n",
    "imp = SimpleImputer(missing_values=np.nan, strategy='most_frequent')\n",
    "imp = imp.fit(x[:,0:1])\n",
    "x[:,0:1] = imp.transform(x[:,0:1])\n",
    "x"
   ]
  },
  {
   "cell_type": "code",
   "execution_count": 32,
   "metadata": {},
   "outputs": [
    {
     "data": {
      "text/plain": [
       "Department\n",
       "Accounting             27\n",
       "Customer Relations     24\n",
       "Sales and Marketing    30\n",
       "dtype: int64"
      ]
     },
     "execution_count": 32,
     "metadata": {},
     "output_type": "execute_result"
    }
   ],
   "source": [
    "data.groupby('Department').size()"
   ]
  },
  {
   "cell_type": "markdown",
   "metadata": {},
   "source": [
    "# Outlier Treatment"
   ]
  },
  {
   "cell_type": "code",
   "execution_count": 36,
   "metadata": {},
   "outputs": [],
   "source": [
    "import os\n",
    "os.chdir(r'D:\\D\\Cognitior\\Courses\\Data Science - Course - Reusable component\\Outlier Treatment')"
   ]
  },
  {
   "cell_type": "code",
   "execution_count": 37,
   "metadata": {},
   "outputs": [],
   "source": [
    "data_out = pd.read_excel('OutlierData.xlsx')"
   ]
  },
  {
   "cell_type": "code",
   "execution_count": 38,
   "metadata": {},
   "outputs": [
    {
     "data": {
      "text/html": [
       "<div>\n",
       "<style scoped>\n",
       "    .dataframe tbody tr th:only-of-type {\n",
       "        vertical-align: middle;\n",
       "    }\n",
       "\n",
       "    .dataframe tbody tr th {\n",
       "        vertical-align: top;\n",
       "    }\n",
       "\n",
       "    .dataframe thead th {\n",
       "        text-align: right;\n",
       "    }\n",
       "</style>\n",
       "<table border=\"1\" class=\"dataframe\">\n",
       "  <thead>\n",
       "    <tr style=\"text-align: right;\">\n",
       "      <th></th>\n",
       "      <th>Department</th>\n",
       "      <th>Age</th>\n",
       "      <th>Experience</th>\n",
       "    </tr>\n",
       "  </thead>\n",
       "  <tbody>\n",
       "    <tr>\n",
       "      <th>0</th>\n",
       "      <td>HR</td>\n",
       "      <td>21</td>\n",
       "      <td>1</td>\n",
       "    </tr>\n",
       "    <tr>\n",
       "      <th>1</th>\n",
       "      <td>HR</td>\n",
       "      <td>33</td>\n",
       "      <td>12</td>\n",
       "    </tr>\n",
       "    <tr>\n",
       "      <th>2</th>\n",
       "      <td>IT</td>\n",
       "      <td>35</td>\n",
       "      <td>12</td>\n",
       "    </tr>\n",
       "    <tr>\n",
       "      <th>3</th>\n",
       "      <td>IT</td>\n",
       "      <td>36</td>\n",
       "      <td>12</td>\n",
       "    </tr>\n",
       "    <tr>\n",
       "      <th>4</th>\n",
       "      <td>HR</td>\n",
       "      <td>34</td>\n",
       "      <td>11</td>\n",
       "    </tr>\n",
       "    <tr>\n",
       "      <th>5</th>\n",
       "      <td>IT</td>\n",
       "      <td>33</td>\n",
       "      <td>13</td>\n",
       "    </tr>\n",
       "    <tr>\n",
       "      <th>6</th>\n",
       "      <td>Marketing</td>\n",
       "      <td>34</td>\n",
       "      <td>12</td>\n",
       "    </tr>\n",
       "    <tr>\n",
       "      <th>7</th>\n",
       "      <td>HR</td>\n",
       "      <td>32</td>\n",
       "      <td>10</td>\n",
       "    </tr>\n",
       "    <tr>\n",
       "      <th>8</th>\n",
       "      <td>Marketing</td>\n",
       "      <td>31</td>\n",
       "      <td>2</td>\n",
       "    </tr>\n",
       "    <tr>\n",
       "      <th>9</th>\n",
       "      <td>IT</td>\n",
       "      <td>55</td>\n",
       "      <td>35</td>\n",
       "    </tr>\n",
       "  </tbody>\n",
       "</table>\n",
       "</div>"
      ],
      "text/plain": [
       "  Department  Age  Experience\n",
       "0         HR   21           1\n",
       "1         HR   33          12\n",
       "2         IT   35          12\n",
       "3         IT   36          12\n",
       "4         HR   34          11\n",
       "5         IT   33          13\n",
       "6  Marketing   34          12\n",
       "7         HR   32          10\n",
       "8  Marketing   31           2\n",
       "9         IT   55          35"
      ]
     },
     "execution_count": 38,
     "metadata": {},
     "output_type": "execute_result"
    }
   ],
   "source": [
    "data_out"
   ]
  },
  {
   "cell_type": "code",
   "execution_count": 40,
   "metadata": {},
   "outputs": [
    {
     "data": {
      "text/plain": [
       "<matplotlib.axes._subplots.AxesSubplot at 0x20b3f374148>"
      ]
     },
     "execution_count": 40,
     "metadata": {},
     "output_type": "execute_result"
    },
    {
     "data": {
      "image/png": "[encoded data removed]",
      "text/plain": [
       "<Figure size 432x288 with 1 Axes>"
      ]
     },
     "metadata": {
      "needs_background": "light"
     },
     "output_type": "display_data"
    }
   ],
   "source": [
    "import seaborn as sns\n",
    "sns.boxplot(data=data_out, y='Age')"
   ]
  },
  {
   "cell_type": "code",
   "execution_count": 41,
   "metadata": {},
   "outputs": [
    {
     "data": {
      "text/plain": [
       "<matplotlib.axes._subplots.AxesSubplot at 0x20b3ddd0788>"
      ]
     },
     "execution_count": 41,
     "metadata": {},
     "output_type": "execute_result"
    },
    {
     "data": {
      "image/png": "[encoded data removed]",
      "text/plain": [
       "<Figure size 432x288 with 1 Axes>"
      ]
     },
     "metadata": {
      "needs_background": "light"
     },
     "output_type": "display_data"
    }
   ],
   "source": [
    "import seaborn as sns\n",
    "sns.boxplot(data=data_out, y='Experience')"
   ]
  },
  {
   "cell_type": "code",
   "execution_count": 42,
   "metadata": {},
   "outputs": [],
   "source": [
    "#Q1 - 1.5IQR \n",
    "#Q3 + 1.5IQR\n",
    "\n",
    "#Q1\n",
    "#Q3\n",
    "#IQR"
   ]
  },
  {
   "cell_type": "code",
   "execution_count": 43,
   "metadata": {},
   "outputs": [],
   "source": [
    "Q1 = data_out.quantile(0.25)\n",
    "Q3 = data_out.quantile(0.75)\n",
    "IQR = Q3-Q1"
   ]
  },
  {
   "cell_type": "code",
   "execution_count": 44,
   "metadata": {},
   "outputs": [
    {
     "data": {
      "text/plain": [
       "Age           32.25\n",
       "Experience    10.25\n",
       "Name: 0.25, dtype: float64"
      ]
     },
     "execution_count": 44,
     "metadata": {},
     "output_type": "execute_result"
    }
   ],
   "source": [
    "Q1"
   ]
  },
  {
   "cell_type": "code",
   "execution_count": 45,
   "metadata": {},
   "outputs": [
    {
     "data": {
      "text/plain": [
       "Age           34.75\n",
       "Experience    12.00\n",
       "Name: 0.75, dtype: float64"
      ]
     },
     "execution_count": 45,
     "metadata": {},
     "output_type": "execute_result"
    }
   ],
   "source": [
    "Q3"
   ]
  },
  {
   "cell_type": "code",
   "execution_count": 46,
   "metadata": {},
   "outputs": [
    {
     "data": {
      "text/plain": [
       "Age           2.50\n",
       "Experience    1.75\n",
       "dtype: float64"
      ]
     },
     "execution_count": 46,
     "metadata": {},
     "output_type": "execute_result"
    }
   ],
   "source": [
    "IQR"
   ]
  },
  {
   "cell_type": "code",
   "execution_count": 48,
   "metadata": {},
   "outputs": [
    {
     "data": {
      "text/html": [
       "<div>\n",
       "<style scoped>\n",
       "    .dataframe tbody tr th:only-of-type {\n",
       "        vertical-align: middle;\n",
       "    }\n",
       "\n",
       "    .dataframe tbody tr th {\n",
       "        vertical-align: top;\n",
       "    }\n",
       "\n",
       "    .dataframe thead th {\n",
       "        text-align: right;\n",
       "    }\n",
       "</style>\n",
       "<table border=\"1\" class=\"dataframe\">\n",
       "  <thead>\n",
       "    <tr style=\"text-align: right;\">\n",
       "      <th></th>\n",
       "      <th>Department</th>\n",
       "      <th>Age</th>\n",
       "      <th>Experience</th>\n",
       "    </tr>\n",
       "  </thead>\n",
       "  <tbody>\n",
       "    <tr>\n",
       "      <th>1</th>\n",
       "      <td>HR</td>\n",
       "      <td>33</td>\n",
       "      <td>12</td>\n",
       "    </tr>\n",
       "    <tr>\n",
       "      <th>2</th>\n",
       "      <td>IT</td>\n",
       "      <td>35</td>\n",
       "      <td>12</td>\n",
       "    </tr>\n",
       "    <tr>\n",
       "      <th>3</th>\n",
       "      <td>IT</td>\n",
       "      <td>36</td>\n",
       "      <td>12</td>\n",
       "    </tr>\n",
       "    <tr>\n",
       "      <th>4</th>\n",
       "      <td>HR</td>\n",
       "      <td>34</td>\n",
       "      <td>11</td>\n",
       "    </tr>\n",
       "    <tr>\n",
       "      <th>5</th>\n",
       "      <td>IT</td>\n",
       "      <td>33</td>\n",
       "      <td>13</td>\n",
       "    </tr>\n",
       "    <tr>\n",
       "      <th>6</th>\n",
       "      <td>Marketing</td>\n",
       "      <td>34</td>\n",
       "      <td>12</td>\n",
       "    </tr>\n",
       "    <tr>\n",
       "      <th>7</th>\n",
       "      <td>HR</td>\n",
       "      <td>32</td>\n",
       "      <td>10</td>\n",
       "    </tr>\n",
       "  </tbody>\n",
       "</table>\n",
       "</div>"
      ],
      "text/plain": [
       "  Department  Age  Experience\n",
       "1         HR   33          12\n",
       "2         IT   35          12\n",
       "3         IT   36          12\n",
       "4         HR   34          11\n",
       "5         IT   33          13\n",
       "6  Marketing   34          12\n",
       "7         HR   32          10"
      ]
     },
     "execution_count": 48,
     "metadata": {},
     "output_type": "execute_result"
    }
   ],
   "source": [
    "data_out[~((data_out<(Q1-1.5*IQR)) | (data_out>(Q3+1.5*IQR))).any(axis=1)]"
   ]
  },
  {
   "cell_type": "code",
   "execution_count": 49,
   "metadata": {},
   "outputs": [
    {
     "data": {
      "text/html": [
       "<div>\n",
       "<style scoped>\n",
       "    .dataframe tbody tr th:only-of-type {\n",
       "        vertical-align: middle;\n",
       "    }\n",
       "\n",
       "    .dataframe tbody tr th {\n",
       "        vertical-align: top;\n",
       "    }\n",
       "\n",
       "    .dataframe thead th {\n",
       "        text-align: right;\n",
       "    }\n",
       "</style>\n",
       "<table border=\"1\" class=\"dataframe\">\n",
       "  <thead>\n",
       "    <tr style=\"text-align: right;\">\n",
       "      <th></th>\n",
       "      <th>Department</th>\n",
       "      <th>Age</th>\n",
       "      <th>Experience</th>\n",
       "    </tr>\n",
       "  </thead>\n",
       "  <tbody>\n",
       "    <tr>\n",
       "      <th>0</th>\n",
       "      <td>HR</td>\n",
       "      <td>21</td>\n",
       "      <td>1</td>\n",
       "    </tr>\n",
       "    <tr>\n",
       "      <th>8</th>\n",
       "      <td>Marketing</td>\n",
       "      <td>31</td>\n",
       "      <td>2</td>\n",
       "    </tr>\n",
       "    <tr>\n",
       "      <th>9</th>\n",
       "      <td>IT</td>\n",
       "      <td>55</td>\n",
       "      <td>35</td>\n",
       "    </tr>\n",
       "  </tbody>\n",
       "</table>\n",
       "</div>"
      ],
      "text/plain": [
       "  Department  Age  Experience\n",
       "0         HR   21           1\n",
       "8  Marketing   31           2\n",
       "9         IT   55          35"
      ]
     },
     "execution_count": 49,
     "metadata": {},
     "output_type": "execute_result"
    }
   ],
   "source": [
    "data_out[((data_out<(Q1-1.5*IQR)) | (data_out>(Q3+1.5*IQR))).any(axis=1)]"
   ]
  },
  {
   "cell_type": "markdown",
   "metadata": {},
   "source": [
    "# Feature Scaling"
   ]
  },
  {
   "cell_type": "code",
   "execution_count": 50,
   "metadata": {},
   "outputs": [],
   "source": [
    "import os\n",
    "os.chdir(r'D:\\D\\Cognitior\\Courses\\Data Science - Course - Reusable component\\Feature Scaling')"
   ]
  },
  {
   "cell_type": "code",
   "execution_count": 52,
   "metadata": {},
   "outputs": [],
   "source": [
    "data_fs=pd.read_csv('data.csv')"
   ]
  },
  {
   "cell_type": "code",
   "execution_count": 58,
   "metadata": {},
   "outputs": [],
   "source": [
    "from sklearn.preprocessing import StandardScaler\n",
    "sc_x = StandardScaler()\n",
    "data_fs.iloc[:,1:3] = sc_x.fit_transform(data_fs.iloc[:,1:3])"
   ]
  },
  {
   "cell_type": "code",
   "execution_count": 59,
   "metadata": {},
   "outputs": [
    {
     "data": {
      "text/html": [
       "<div>\n",
       "<style scoped>\n",
       "    .dataframe tbody tr th:only-of-type {\n",
       "        vertical-align: middle;\n",
       "    }\n",
       "\n",
       "    .dataframe tbody tr th {\n",
       "        vertical-align: top;\n",
       "    }\n",
       "\n",
       "    .dataframe thead th {\n",
       "        text-align: right;\n",
       "    }\n",
       "</style>\n",
       "<table border=\"1\" class=\"dataframe\">\n",
       "  <thead>\n",
       "    <tr style=\"text-align: right;\">\n",
       "      <th></th>\n",
       "      <th>Country</th>\n",
       "      <th>Age</th>\n",
       "      <th>Salary</th>\n",
       "      <th>Purchased</th>\n",
       "    </tr>\n",
       "  </thead>\n",
       "  <tbody>\n",
       "    <tr>\n",
       "      <th>0</th>\n",
       "      <td>France</td>\n",
       "      <td>0.632299</td>\n",
       "      <td>0.818976</td>\n",
       "      <td>No</td>\n",
       "    </tr>\n",
       "    <tr>\n",
       "      <th>1</th>\n",
       "      <td>Spain</td>\n",
       "      <td>-1.756387</td>\n",
       "      <td>-1.127105</td>\n",
       "      <td>Yes</td>\n",
       "    </tr>\n",
       "    <tr>\n",
       "      <th>2</th>\n",
       "      <td>Germany</td>\n",
       "      <td>-1.334854</td>\n",
       "      <td>-0.640585</td>\n",
       "      <td>No</td>\n",
       "    </tr>\n",
       "    <tr>\n",
       "      <th>3</th>\n",
       "      <td>Spain</td>\n",
       "      <td>0.772810</td>\n",
       "      <td>-0.072978</td>\n",
       "      <td>No</td>\n",
       "    </tr>\n",
       "    <tr>\n",
       "      <th>4</th>\n",
       "      <td>Germany</td>\n",
       "      <td>0.070255</td>\n",
       "      <td>-1.370365</td>\n",
       "      <td>Yes</td>\n",
       "    </tr>\n",
       "    <tr>\n",
       "      <th>5</th>\n",
       "      <td>France</td>\n",
       "      <td>-0.632299</td>\n",
       "      <td>-0.316238</td>\n",
       "      <td>Yes</td>\n",
       "    </tr>\n",
       "    <tr>\n",
       "      <th>6</th>\n",
       "      <td>Spain</td>\n",
       "      <td>-0.070255</td>\n",
       "      <td>-0.802758</td>\n",
       "      <td>No</td>\n",
       "    </tr>\n",
       "    <tr>\n",
       "      <th>7</th>\n",
       "      <td>France</td>\n",
       "      <td>1.194343</td>\n",
       "      <td>1.386583</td>\n",
       "      <td>Yes</td>\n",
       "    </tr>\n",
       "    <tr>\n",
       "      <th>8</th>\n",
       "      <td>Germany</td>\n",
       "      <td>1.475365</td>\n",
       "      <td>1.710930</td>\n",
       "      <td>No</td>\n",
       "    </tr>\n",
       "    <tr>\n",
       "      <th>9</th>\n",
       "      <td>France</td>\n",
       "      <td>-0.351277</td>\n",
       "      <td>0.413542</td>\n",
       "      <td>Yes</td>\n",
       "    </tr>\n",
       "  </tbody>\n",
       "</table>\n",
       "</div>"
      ],
      "text/plain": [
       "   Country       Age    Salary Purchased\n",
       "0   France  0.632299  0.818976        No\n",
       "1    Spain -1.756387 -1.127105       Yes\n",
       "2  Germany -1.334854 -0.640585        No\n",
       "3    Spain  0.772810 -0.072978        No\n",
       "4  Germany  0.070255 -1.370365       Yes\n",
       "5   France -0.632299 -0.316238       Yes\n",
       "6    Spain -0.070255 -0.802758        No\n",
       "7   France  1.194343  1.386583       Yes\n",
       "8  Germany  1.475365  1.710930        No\n",
       "9   France -0.351277  0.413542       Yes"
      ]
     },
     "execution_count": 59,
     "metadata": {},
     "output_type": "execute_result"
    }
   ],
   "source": [
    "data_fs"
   ]
  },
  {
   "cell_type": "markdown",
   "metadata": {},
   "source": [
    "# Encoding"
   ]
  },
  {
   "cell_type": "code",
   "execution_count": 61,
   "metadata": {},
   "outputs": [],
   "source": [
    "from sklearn.preprocessing import LabelEncoder, OneHotEncoder\n",
    "labelencod_x = LabelEncoder()\n",
    "data_fs.iloc[:,0] = labelencod_x.fit_transform(data_fs.iloc[:,0])"
   ]
  },
  {
   "cell_type": "code",
   "execution_count": 62,
   "metadata": {},
   "outputs": [
    {
     "data": {
      "text/html": [
       "<div>\n",
       "<style scoped>\n",
       "    .dataframe tbody tr th:only-of-type {\n",
       "        vertical-align: middle;\n",
       "    }\n",
       "\n",
       "    .dataframe tbody tr th {\n",
       "        vertical-align: top;\n",
       "    }\n",
       "\n",
       "    .dataframe thead th {\n",
       "        text-align: right;\n",
       "    }\n",
       "</style>\n",
       "<table border=\"1\" class=\"dataframe\">\n",
       "  <thead>\n",
       "    <tr style=\"text-align: right;\">\n",
       "      <th></th>\n",
       "      <th>Country</th>\n",
       "      <th>Age</th>\n",
       "      <th>Salary</th>\n",
       "      <th>Purchased</th>\n",
       "    </tr>\n",
       "  </thead>\n",
       "  <tbody>\n",
       "    <tr>\n",
       "      <th>0</th>\n",
       "      <td>0</td>\n",
       "      <td>0.632299</td>\n",
       "      <td>0.818976</td>\n",
       "      <td>No</td>\n",
       "    </tr>\n",
       "    <tr>\n",
       "      <th>1</th>\n",
       "      <td>2</td>\n",
       "      <td>-1.756387</td>\n",
       "      <td>-1.127105</td>\n",
       "      <td>Yes</td>\n",
       "    </tr>\n",
       "    <tr>\n",
       "      <th>2</th>\n",
       "      <td>1</td>\n",
       "      <td>-1.334854</td>\n",
       "      <td>-0.640585</td>\n",
       "      <td>No</td>\n",
       "    </tr>\n",
       "    <tr>\n",
       "      <th>3</th>\n",
       "      <td>2</td>\n",
       "      <td>0.772810</td>\n",
       "      <td>-0.072978</td>\n",
       "      <td>No</td>\n",
       "    </tr>\n",
       "    <tr>\n",
       "      <th>4</th>\n",
       "      <td>1</td>\n",
       "      <td>0.070255</td>\n",
       "      <td>-1.370365</td>\n",
       "      <td>Yes</td>\n",
       "    </tr>\n",
       "    <tr>\n",
       "      <th>5</th>\n",
       "      <td>0</td>\n",
       "      <td>-0.632299</td>\n",
       "      <td>-0.316238</td>\n",
       "      <td>Yes</td>\n",
       "    </tr>\n",
       "    <tr>\n",
       "      <th>6</th>\n",
       "      <td>2</td>\n",
       "      <td>-0.070255</td>\n",
       "      <td>-0.802758</td>\n",
       "      <td>No</td>\n",
       "    </tr>\n",
       "    <tr>\n",
       "      <th>7</th>\n",
       "      <td>0</td>\n",
       "      <td>1.194343</td>\n",
       "      <td>1.386583</td>\n",
       "      <td>Yes</td>\n",
       "    </tr>\n",
       "    <tr>\n",
       "      <th>8</th>\n",
       "      <td>1</td>\n",
       "      <td>1.475365</td>\n",
       "      <td>1.710930</td>\n",
       "      <td>No</td>\n",
       "    </tr>\n",
       "    <tr>\n",
       "      <th>9</th>\n",
       "      <td>0</td>\n",
       "      <td>-0.351277</td>\n",
       "      <td>0.413542</td>\n",
       "      <td>Yes</td>\n",
       "    </tr>\n",
       "  </tbody>\n",
       "</table>\n",
       "</div>"
      ],
      "text/plain": [
       "   Country       Age    Salary Purchased\n",
       "0        0  0.632299  0.818976        No\n",
       "1        2 -1.756387 -1.127105       Yes\n",
       "2        1 -1.334854 -0.640585        No\n",
       "3        2  0.772810 -0.072978        No\n",
       "4        1  0.070255 -1.370365       Yes\n",
       "5        0 -0.632299 -0.316238       Yes\n",
       "6        2 -0.070255 -0.802758        No\n",
       "7        0  1.194343  1.386583       Yes\n",
       "8        1  1.475365  1.710930        No\n",
       "9        0 -0.351277  0.413542       Yes"
      ]
     },
     "execution_count": 62,
     "metadata": {},
     "output_type": "execute_result"
    }
   ],
   "source": [
    "data_fs"
   ]
  },
  {
   "cell_type": "code",
   "execution_count": 63,
   "metadata": {},
   "outputs": [],
   "source": [
    "from sklearn.preprocessing import LabelEncoder, OneHotEncoder\n",
    "labelencod_x = LabelEncoder()\n",
    "data_fs.iloc[:,3] = labelencod_x.fit_transform(data_fs.iloc[:,3])"
   ]
  },
  {
   "cell_type": "code",
   "execution_count": 80,
   "metadata": {},
   "outputs": [
    {
     "data": {
      "text/html": [
       "<div>\n",
       "<style scoped>\n",
       "    .dataframe tbody tr th:only-of-type {\n",
       "        vertical-align: middle;\n",
       "    }\n",
       "\n",
       "    .dataframe tbody tr th {\n",
       "        vertical-align: top;\n",
       "    }\n",
       "\n",
       "    .dataframe thead th {\n",
       "        text-align: right;\n",
       "    }\n",
       "</style>\n",
       "<table border=\"1\" class=\"dataframe\">\n",
       "  <thead>\n",
       "    <tr style=\"text-align: right;\">\n",
       "      <th></th>\n",
       "      <th>0</th>\n",
       "      <th>1</th>\n",
       "      <th>2</th>\n",
       "      <th>Country</th>\n",
       "      <th>Age</th>\n",
       "      <th>Salary</th>\n",
       "      <th>Purchased</th>\n",
       "    </tr>\n",
       "  </thead>\n",
       "  <tbody>\n",
       "    <tr>\n",
       "      <th>0</th>\n",
       "      <td>1</td>\n",
       "      <td>0</td>\n",
       "      <td>0</td>\n",
       "      <td>0</td>\n",
       "      <td>0.632299</td>\n",
       "      <td>0.818976</td>\n",
       "      <td>0</td>\n",
       "    </tr>\n",
       "    <tr>\n",
       "      <th>1</th>\n",
       "      <td>0</td>\n",
       "      <td>0</td>\n",
       "      <td>1</td>\n",
       "      <td>2</td>\n",
       "      <td>-1.756387</td>\n",
       "      <td>-1.127105</td>\n",
       "      <td>1</td>\n",
       "    </tr>\n",
       "    <tr>\n",
       "      <th>2</th>\n",
       "      <td>0</td>\n",
       "      <td>1</td>\n",
       "      <td>0</td>\n",
       "      <td>1</td>\n",
       "      <td>-1.334854</td>\n",
       "      <td>-0.640585</td>\n",
       "      <td>0</td>\n",
       "    </tr>\n",
       "    <tr>\n",
       "      <th>3</th>\n",
       "      <td>0</td>\n",
       "      <td>0</td>\n",
       "      <td>1</td>\n",
       "      <td>2</td>\n",
       "      <td>0.772810</td>\n",
       "      <td>-0.072978</td>\n",
       "      <td>0</td>\n",
       "    </tr>\n",
       "    <tr>\n",
       "      <th>4</th>\n",
       "      <td>0</td>\n",
       "      <td>1</td>\n",
       "      <td>0</td>\n",
       "      <td>1</td>\n",
       "      <td>0.070255</td>\n",
       "      <td>-1.370365</td>\n",
       "      <td>1</td>\n",
       "    </tr>\n",
       "    <tr>\n",
       "      <th>5</th>\n",
       "      <td>1</td>\n",
       "      <td>0</td>\n",
       "      <td>0</td>\n",
       "      <td>0</td>\n",
       "      <td>-0.632299</td>\n",
       "      <td>-0.316238</td>\n",
       "      <td>1</td>\n",
       "    </tr>\n",
       "    <tr>\n",
       "      <th>6</th>\n",
       "      <td>0</td>\n",
       "      <td>0</td>\n",
       "      <td>1</td>\n",
       "      <td>2</td>\n",
       "      <td>-0.070255</td>\n",
       "      <td>-0.802758</td>\n",
       "      <td>0</td>\n",
       "    </tr>\n",
       "    <tr>\n",
       "      <th>7</th>\n",
       "      <td>1</td>\n",
       "      <td>0</td>\n",
       "      <td>0</td>\n",
       "      <td>0</td>\n",
       "      <td>1.194343</td>\n",
       "      <td>1.386583</td>\n",
       "      <td>1</td>\n",
       "    </tr>\n",
       "    <tr>\n",
       "      <th>8</th>\n",
       "      <td>0</td>\n",
       "      <td>1</td>\n",
       "      <td>0</td>\n",
       "      <td>1</td>\n",
       "      <td>1.475365</td>\n",
       "      <td>1.710930</td>\n",
       "      <td>0</td>\n",
       "    </tr>\n",
       "    <tr>\n",
       "      <th>9</th>\n",
       "      <td>1</td>\n",
       "      <td>0</td>\n",
       "      <td>0</td>\n",
       "      <td>0</td>\n",
       "      <td>-0.351277</td>\n",
       "      <td>0.413542</td>\n",
       "      <td>1</td>\n",
       "    </tr>\n",
       "  </tbody>\n",
       "</table>\n",
       "</div>"
      ],
      "text/plain": [
       "   0  1  2  Country       Age    Salary  Purchased\n",
       "0  1  0  0        0  0.632299  0.818976          0\n",
       "1  0  0  1        2 -1.756387 -1.127105          1\n",
       "2  0  1  0        1 -1.334854 -0.640585          0\n",
       "3  0  0  1        2  0.772810 -0.072978          0\n",
       "4  0  1  0        1  0.070255 -1.370365          1\n",
       "5  1  0  0        0 -0.632299 -0.316238          1\n",
       "6  0  0  1        2 -0.070255 -0.802758          0\n",
       "7  1  0  0        0  1.194343  1.386583          1\n",
       "8  0  1  0        1  1.475365  1.710930          0\n",
       "9  1  0  0        0 -0.351277  0.413542          1"
      ]
     },
     "execution_count": 80,
     "metadata": {},
     "output_type": "execute_result"
    }
   ],
   "source": [
    "pd.concat([pd.get_dummies(data_fs['Country']), data_fs] , axis = 1)"
   ]
  },
  {
   "cell_type": "markdown",
   "metadata": {},
   "source": [
    "# Regression"
   ]
  },
  {
   "cell_type": "code",
   "execution_count": 83,
   "metadata": {},
   "outputs": [],
   "source": [
    "import os\n",
    "os.chdir(r'D:\\D\\Edureka\\Edureka - 24 June - Python\\Class 9')\n",
    "data=pd.read_csv('Salary_Data.csv')"
   ]
  },
  {
   "cell_type": "code",
   "execution_count": 85,
   "metadata": {},
   "outputs": [
    {
     "data": {
      "text/plain": [
       "YearsExperience    0\n",
       "Salary             0\n",
       "dtype: int64"
      ]
     },
     "execution_count": 85,
     "metadata": {},
     "output_type": "execute_result"
    }
   ],
   "source": [
    "data.isnull().sum()"
   ]
  },
  {
   "cell_type": "code",
   "execution_count": 88,
   "metadata": {},
   "outputs": [
    {
     "data": {
      "text/plain": [
       "<matplotlib.axes._subplots.AxesSubplot at 0x20b41346c08>"
      ]
     },
     "execution_count": 88,
     "metadata": {},
     "output_type": "execute_result"
    },
    {
     "data": {
      "image/png": "[encoded data removed]",
      "text/plain": [
       "<Figure size 432x288 with 1 Axes>"
      ]
     },
     "metadata": {
      "needs_background": "light"
     },
     "output_type": "display_data"
    }
   ],
   "source": [
    "sns.boxplot(data=data, y = 'YearsExperience')"
   ]
  },
  {
   "cell_type": "code",
   "execution_count": 90,
   "metadata": {},
   "outputs": [
    {
     "data": {
      "text/plain": [
       "<seaborn.axisgrid.PairGrid at 0x20b41877208>"
      ]
     },
     "execution_count": 90,
     "metadata": {},
     "output_type": "execute_result"
    },
    {
     "data": {
      "image/png": "[encoded data removed]",
      "text/plain": [
       "<Figure size 360x360 with 6 Axes>"
      ]
     },
     "metadata": {
      "needs_background": "light"
     },
     "output_type": "display_data"
    }
   ],
   "source": [
    "sns.pairplot(data)"
   ]
  },
  {
   "cell_type": "code",
   "execution_count": 91,
   "metadata": {},
   "outputs": [],
   "source": [
    "x = data.iloc[:, 0:1].values"
   ]
  },
  {
   "cell_type": "code",
   "execution_count": 92,
   "metadata": {},
   "outputs": [
    {
     "data": {
      "text/plain": [
       "array([[ 1.1],\n",
       "       [ 1.3],\n",
       "       [ 1.5],\n",
       "       [ 2. ],\n",
       "       [ 2.2],\n",
       "       [ 2.9],\n",
       "       [ 3. ],\n",
       "       [ 3.2],\n",
       "       [ 3.2],\n",
       "       [ 3.7],\n",
       "       [ 3.9],\n",
       "       [ 4. ],\n",
       "       [ 4. ],\n",
       "       [ 4.1],\n",
       "       [ 4.5],\n",
       "       [ 4.9],\n",
       "       [ 5.1],\n",
       "       [ 5.3],\n",
       "       [ 5.9],\n",
       "       [ 6. ],\n",
       "       [ 6.8],\n",
       "       [ 7.1],\n",
       "       [ 7.9],\n",
       "       [ 8.2],\n",
       "       [ 8.7],\n",
       "       [ 9. ],\n",
       "       [ 9.5],\n",
       "       [ 9.6],\n",
       "       [10.3],\n",
       "       [10.5]])"
      ]
     },
     "execution_count": 92,
     "metadata": {},
     "output_type": "execute_result"
    }
   ],
   "source": [
    "x"
   ]
  },
  {
   "cell_type": "code",
   "execution_count": 93,
   "metadata": {},
   "outputs": [],
   "source": [
    "y = data.iloc[:, -1].values"
   ]
  },
  {
   "cell_type": "code",
   "execution_count": 94,
   "metadata": {},
   "outputs": [
    {
     "data": {
      "text/plain": [
       "array([ 39343.,  46205.,  37731.,  43525.,  39891.,  56642.,  60150.,\n",
       "        54445.,  64445.,  57189.,  63218.,  55794.,  56957.,  57081.,\n",
       "        61111.,  67938.,  66029.,  83088.,  81363.,  93940.,  91738.,\n",
       "        98273., 101302., 113812., 109431., 105582., 116969., 112635.,\n",
       "       122391., 121872.])"
      ]
     },
     "execution_count": 94,
     "metadata": {},
     "output_type": "execute_result"
    }
   ],
   "source": [
    "y"
   ]
  },
  {
   "cell_type": "code",
   "execution_count": 95,
   "metadata": {},
   "outputs": [
    {
     "data": {
      "text/plain": [
       "30"
      ]
     },
     "execution_count": 95,
     "metadata": {},
     "output_type": "execute_result"
    }
   ],
   "source": [
    "len(data)"
   ]
  },
  {
   "cell_type": "code",
   "execution_count": 113,
   "metadata": {},
   "outputs": [],
   "source": [
    "from sklearn.model_selection import train_test_split\n",
    "x_train, x_test, y_train, y_test = train_test_split(x,y, test_size = 0.3,random_state = 10)"
   ]
  },
  {
   "cell_type": "code",
   "execution_count": 97,
   "metadata": {},
   "outputs": [
    {
     "data": {
      "text/plain": [
       "array([[5.9],\n",
       "       [8.7],\n",
       "       [3.2],\n",
       "       [2. ],\n",
       "       [9.5],\n",
       "       [1.1],\n",
       "       [1.5],\n",
       "       [1.3],\n",
       "       [3.9],\n",
       "       [9.6],\n",
       "       [2.2],\n",
       "       [6.8],\n",
       "       [5.1],\n",
       "       [4.1],\n",
       "       [4. ],\n",
       "       [9. ],\n",
       "       [4.9],\n",
       "       [3.7],\n",
       "       [3.2],\n",
       "       [7.1],\n",
       "       [8.2]])"
      ]
     },
     "execution_count": 97,
     "metadata": {},
     "output_type": "execute_result"
    }
   ],
   "source": [
    "x_train"
   ]
  },
  {
   "cell_type": "code",
   "execution_count": 98,
   "metadata": {},
   "outputs": [
    {
     "data": {
      "text/plain": [
       "array([[ 6. ],\n",
       "       [ 7.9],\n",
       "       [ 5.3],\n",
       "       [ 2.9],\n",
       "       [ 4. ],\n",
       "       [ 4.5],\n",
       "       [10.5],\n",
       "       [10.3],\n",
       "       [ 3. ]])"
      ]
     },
     "execution_count": 98,
     "metadata": {},
     "output_type": "execute_result"
    }
   ],
   "source": [
    "x_test"
   ]
  },
  {
   "cell_type": "code",
   "execution_count": 114,
   "metadata": {},
   "outputs": [
    {
     "data": {
      "text/plain": [
       "LinearRegression(copy_X=True, fit_intercept=True, n_jobs=None, normalize=False)"
      ]
     },
     "execution_count": 114,
     "metadata": {},
     "output_type": "execute_result"
    }
   ],
   "source": [
    "from sklearn.linear_model import LinearRegression\n",
    "regrossor = LinearRegression()\n",
    "regrossor.fit(x_train,y_train)"
   ]
  },
  {
   "cell_type": "code",
   "execution_count": 115,
   "metadata": {},
   "outputs": [
    {
     "data": {
      "text/plain": [
       "array([9303.95933197])"
      ]
     },
     "execution_count": 115,
     "metadata": {},
     "output_type": "execute_result"
    }
   ],
   "source": [
    "regrossor.coef_"
   ]
  },
  {
   "cell_type": "code",
   "execution_count": 116,
   "metadata": {},
   "outputs": [
    {
     "data": {
      "text/plain": [
       "27206.42890292858"
      ]
     },
     "execution_count": 116,
     "metadata": {},
     "output_type": "execute_result"
    }
   ],
   "source": [
    "regrossor.intercept_"
   ]
  },
  {
   "cell_type": "code",
   "execution_count": 117,
   "metadata": {},
   "outputs": [
    {
     "data": {
      "text/plain": [
       "array([[6.8],\n",
       "       [3.2],\n",
       "       [2.9],\n",
       "       [1.5],\n",
       "       [2. ],\n",
       "       [7.1],\n",
       "       [4.1],\n",
       "       [9.6],\n",
       "       [4. ]])"
      ]
     },
     "execution_count": 117,
     "metadata": {},
     "output_type": "execute_result"
    }
   ],
   "source": [
    "x_test"
   ]
  },
  {
   "cell_type": "code",
   "execution_count": 119,
   "metadata": {},
   "outputs": [
    {
     "data": {
      "text/plain": [
       "array([ 91738.,  54445.,  56642.,  37731.,  43525.,  98273.,  57081.,\n",
       "       112635.,  56957.])"
      ]
     },
     "execution_count": 119,
     "metadata": {},
     "output_type": "execute_result"
    }
   ],
   "source": [
    "y_test"
   ]
  },
  {
   "cell_type": "code",
   "execution_count": 121,
   "metadata": {},
   "outputs": [],
   "source": [
    "y_pred = regrossor.predict(x_test)"
   ]
  },
  {
   "cell_type": "code",
   "execution_count": 122,
   "metadata": {},
   "outputs": [
    {
     "data": {
      "text/plain": [
       "0.9647278344670828"
      ]
     },
     "execution_count": 122,
     "metadata": {},
     "output_type": "execute_result"
    }
   ],
   "source": [
    "from sklearn.metrics import r2_score\n",
    "r2_score(y_test,y_pred)"
   ]
  },
  {
   "cell_type": "code",
   "execution_count": 124,
   "metadata": {},
   "outputs": [],
   "source": [
    "import os\n",
    "os.chdir(r'D:\\D\\Edureka\\Edureka - 24 June - Python\\Class 9')\n",
    "x_new = pd.read_excel('new.xlsx')"
   ]
  },
  {
   "cell_type": "code",
   "execution_count": 127,
   "metadata": {},
   "outputs": [],
   "source": [
    "x_new=x_new.iloc[:].values"
   ]
  },
  {
   "cell_type": "code",
   "execution_count": 129,
   "metadata": {},
   "outputs": [
    {
     "data": {
      "text/plain": [
       "array([[ 2],\n",
       "       [ 3],\n",
       "       [ 4],\n",
       "       [ 4],\n",
       "       [ 5],\n",
       "       [ 0],\n",
       "       [15]], dtype=int64)"
      ]
     },
     "execution_count": 129,
     "metadata": {},
     "output_type": "execute_result"
    }
   ],
   "source": [
    "x_new"
   ]
  },
  {
   "cell_type": "code",
   "execution_count": 128,
   "metadata": {},
   "outputs": [
    {
     "data": {
      "text/plain": [
       "array([ 45814.34756686,  55118.30689883,  64422.2662308 ,  64422.2662308 ,\n",
       "        73726.22556276,  27206.42890293, 166765.81888243])"
      ]
     },
     "execution_count": 128,
     "metadata": {},
     "output_type": "execute_result"
    }
   ],
   "source": [
    "regrossor.predict(x_new)"
   ]
  },
  {
   "cell_type": "code",
   "execution_count": null,
   "metadata": {},
   "outputs": [],
   "source": []
  },
  {
   "cell_type": "code",
   "execution_count": null,
   "metadata": {},
   "outputs": [],
   "source": []
  },
  {
   "cell_type": "code",
   "execution_count": null,
   "metadata": {},
   "outputs": [],
   "source": []
  }
 ],
 "metadata": {
  "kernelspec": {
   "display_name": "Python 3",
   "language": "python",
   "name": "python3"
  },
  "language_info": {
   "codemirror_mode": {
    "name": "ipython",
    "version": 3
   },
   "file_extension": ".py",
   "mimetype": "text/x-python",
   "name": "python",
   "nbconvert_exporter": "python",
   "pygments_lexer": "ipython3",
   "version": "3.7.4"
  }
 },
 "nbformat": 4,
 "nbformat_minor": 2
}
